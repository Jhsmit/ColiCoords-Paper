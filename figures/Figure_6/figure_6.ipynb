{
 "cells": [
  {
   "cell_type": "code",
   "execution_count": 13,
   "metadata": {},
   "outputs": [
    {
     "name": "stdout",
     "output_type": "stream",
     "text": [
      "['sans-serif']\n"
     ]
    }
   ],
   "source": [
    "%matplotlib notebook\n",
    "import matplotlib.pyplot as plt\n",
    "from matplotlib_scalebar.scalebar import ScaleBar\n",
    "import numpy as np\n",
    "from colicoords import Cell, load, CellPlot, iter_subplots, IterCellPlot, CellListPlot\n",
    "from colicoords.support import pad_cell\n",
    "from colicoords.config import cfg\n",
    "import tifffile\n",
    "import os\n",
    "import seaborn as sns\n",
    "sns.set_style('ticks')\n",
    "\n",
    "import matplotlib\n",
    "\n",
    "ff = matplotlib.rcParams['font.family']\n",
    "print(ff)\n",
    "\n",
    "matplotlib.rcParams.update({'font.size': 8})"
   ]
  },
  {
   "cell_type": "code",
   "execution_count": 7,
   "metadata": {},
   "outputs": [],
   "source": [
    "data_dir = r'D:\\figure_X_cc'"
   ]
  },
  {
   "cell_type": "code",
   "execution_count": 8,
   "metadata": {},
   "outputs": [
    {
     "data": {
      "text/plain": [
       "(2341, 1691)"
      ]
     },
     "execution_count": 8,
     "metadata": {},
     "output_type": "execute_result"
    }
   ],
   "source": [
    "cy3b = load(os.path.join(data_dir, 'Cy3B_NHS', 'cells_final.hdf5'))\n",
    "egfp = load(os.path.join(data_dir, 'eGFP', 'cells_final.hdf5'))\n",
    "len(cy3b), len(egfp)"
   ]
  },
  {
   "cell_type": "code",
   "execution_count": 9,
   "metadata": {},
   "outputs": [],
   "source": [
    "cy3b_cell = cy3b[522]\n",
    "egfp_cell = egfp[30]\n",
    "\n",
    "shapes = np.array([c.data.shape for c in [cy3b_cell, egfp_cell]])\n",
    "shapes_max = shapes.T.max(axis=1)\n",
    "cy3b_pad = pad_cell(cy3b_cell, shapes_max)\n",
    "egfp_pad = pad_cell(egfp_cell, shapes_max)"
   ]
  },
  {
   "cell_type": "code",
   "execution_count": 10,
   "metadata": {},
   "outputs": [],
   "source": [
    "cy3b_aligned = tifffile.imread(os.path.join(data_dir, 'Cy3B_aligned.tif'))\n",
    "egfp_aligned = tifffile.imread(os.path.join(data_dir, 'eGFP_aligned.tif'))"
   ]
  },
  {
   "cell_type": "code",
   "execution_count": 70,
   "metadata": {},
   "outputs": [
    {
     "data": {
      "application/javascript": [
       "/* Put everything inside the global mpl namespace */\n",
       "window.mpl = {};\n",
       "\n",
       "\n",
       "mpl.get_websocket_type = function() {\n",
       "    if (typeof(WebSocket) !== 'undefined') {\n",
       "        return WebSocket;\n",
       "    } else if (typeof(MozWebSocket) !== 'undefined') {\n",
       "        return MozWebSocket;\n",
       "    } else {\n",
       "        alert('Your browser does not have WebSocket support.' +\n",
       "              'Please try Chrome, Safari or Firefox ≥ 6. ' +\n",
       "              'Firefox 4 and 5 are also supported but you ' +\n",
       "              'have to enable WebSockets in about:config.');\n",
       "    };\n",
       "}\n",
       "\n",
       "mpl.figure = function(figure_id, websocket, ondownload, parent_element) {\n",
       "    this.id = figure_id;\n",
       "\n",
       "    this.ws = websocket;\n",
       "\n",
       "    this.supports_binary = (this.ws.binaryType != undefined);\n",
       "\n",
       "    if (!this.supports_binary) {\n",
       "        var warnings = document.getElementById(\"mpl-warnings\");\n",
       "        if (warnings) {\n",
       "            warnings.style.display = 'block';\n",
       "            warnings.textContent = (\n",
       "                \"This browser does not support binary websocket messages. \" +\n",
       "                    \"Performance may be slow.\");\n",
       "        }\n",
       "    }\n",
       "\n",
       "    this.imageObj = new Image();\n",
       "\n",
       "    this.context = undefined;\n",
       "    this.message = undefined;\n",
       "    this.canvas = undefined;\n",
       "    this.rubberband_canvas = undefined;\n",
       "    this.rubberband_context = undefined;\n",
       "    this.format_dropdown = undefined;\n",
       "\n",
       "    this.image_mode = 'full';\n",
       "\n",
       "    this.root = $('<div/>');\n",
       "    this._root_extra_style(this.root)\n",
       "    this.root.attr('style', 'display: inline-block');\n",
       "\n",
       "    $(parent_element).append(this.root);\n",
       "\n",
       "    this._init_header(this);\n",
       "    this._init_canvas(this);\n",
       "    this._init_toolbar(this);\n",
       "\n",
       "    var fig = this;\n",
       "\n",
       "    this.waiting = false;\n",
       "\n",
       "    this.ws.onopen =  function () {\n",
       "            fig.send_message(\"supports_binary\", {value: fig.supports_binary});\n",
       "            fig.send_message(\"send_image_mode\", {});\n",
       "            if (mpl.ratio != 1) {\n",
       "                fig.send_message(\"set_dpi_ratio\", {'dpi_ratio': mpl.ratio});\n",
       "            }\n",
       "            fig.send_message(\"refresh\", {});\n",
       "        }\n",
       "\n",
       "    this.imageObj.onload = function() {\n",
       "            if (fig.image_mode == 'full') {\n",
       "                // Full images could contain transparency (where diff images\n",
       "                // almost always do), so we need to clear the canvas so that\n",
       "                // there is no ghosting.\n",
       "                fig.context.clearRect(0, 0, fig.canvas.width, fig.canvas.height);\n",
       "            }\n",
       "            fig.context.drawImage(fig.imageObj, 0, 0);\n",
       "        };\n",
       "\n",
       "    this.imageObj.onunload = function() {\n",
       "        this.ws.close();\n",
       "    }\n",
       "\n",
       "    this.ws.onmessage = this._make_on_message_function(this);\n",
       "\n",
       "    this.ondownload = ondownload;\n",
       "}\n",
       "\n",
       "mpl.figure.prototype._init_header = function() {\n",
       "    var titlebar = $(\n",
       "        '<div class=\"ui-dialog-titlebar ui-widget-header ui-corner-all ' +\n",
       "        'ui-helper-clearfix\"/>');\n",
       "    var titletext = $(\n",
       "        '<div class=\"ui-dialog-title\" style=\"width: 100%; ' +\n",
       "        'text-align: center; padding: 3px;\"/>');\n",
       "    titlebar.append(titletext)\n",
       "    this.root.append(titlebar);\n",
       "    this.header = titletext[0];\n",
       "}\n",
       "\n",
       "\n",
       "\n",
       "mpl.figure.prototype._canvas_extra_style = function(canvas_div) {\n",
       "\n",
       "}\n",
       "\n",
       "\n",
       "mpl.figure.prototype._root_extra_style = function(canvas_div) {\n",
       "\n",
       "}\n",
       "\n",
       "mpl.figure.prototype._init_canvas = function() {\n",
       "    var fig = this;\n",
       "\n",
       "    var canvas_div = $('<div/>');\n",
       "\n",
       "    canvas_div.attr('style', 'position: relative; clear: both; outline: 0');\n",
       "\n",
       "    function canvas_keyboard_event(event) {\n",
       "        return fig.key_event(event, event['data']);\n",
       "    }\n",
       "\n",
       "    canvas_div.keydown('key_press', canvas_keyboard_event);\n",
       "    canvas_div.keyup('key_release', canvas_keyboard_event);\n",
       "    this.canvas_div = canvas_div\n",
       "    this._canvas_extra_style(canvas_div)\n",
       "    this.root.append(canvas_div);\n",
       "\n",
       "    var canvas = $('<canvas/>');\n",
       "    canvas.addClass('mpl-canvas');\n",
       "    canvas.attr('style', \"left: 0; top: 0; z-index: 0; outline: 0\")\n",
       "\n",
       "    this.canvas = canvas[0];\n",
       "    this.context = canvas[0].getContext(\"2d\");\n",
       "\n",
       "    var backingStore = this.context.backingStorePixelRatio ||\n",
       "\tthis.context.webkitBackingStorePixelRatio ||\n",
       "\tthis.context.mozBackingStorePixelRatio ||\n",
       "\tthis.context.msBackingStorePixelRatio ||\n",
       "\tthis.context.oBackingStorePixelRatio ||\n",
       "\tthis.context.backingStorePixelRatio || 1;\n",
       "\n",
       "    mpl.ratio = (window.devicePixelRatio || 1) / backingStore;\n",
       "\n",
       "    var rubberband = $('<canvas/>');\n",
       "    rubberband.attr('style', \"position: absolute; left: 0; top: 0; z-index: 1;\")\n",
       "\n",
       "    var pass_mouse_events = true;\n",
       "\n",
       "    canvas_div.resizable({\n",
       "        start: function(event, ui) {\n",
       "            pass_mouse_events = false;\n",
       "        },\n",
       "        resize: function(event, ui) {\n",
       "            fig.request_resize(ui.size.width, ui.size.height);\n",
       "        },\n",
       "        stop: function(event, ui) {\n",
       "            pass_mouse_events = true;\n",
       "            fig.request_resize(ui.size.width, ui.size.height);\n",
       "        },\n",
       "    });\n",
       "\n",
       "    function mouse_event_fn(event) {\n",
       "        if (pass_mouse_events)\n",
       "            return fig.mouse_event(event, event['data']);\n",
       "    }\n",
       "\n",
       "    rubberband.mousedown('button_press', mouse_event_fn);\n",
       "    rubberband.mouseup('button_release', mouse_event_fn);\n",
       "    // Throttle sequential mouse events to 1 every 20ms.\n",
       "    rubberband.mousemove('motion_notify', mouse_event_fn);\n",
       "\n",
       "    rubberband.mouseenter('figure_enter', mouse_event_fn);\n",
       "    rubberband.mouseleave('figure_leave', mouse_event_fn);\n",
       "\n",
       "    canvas_div.on(\"wheel\", function (event) {\n",
       "        event = event.originalEvent;\n",
       "        event['data'] = 'scroll'\n",
       "        if (event.deltaY < 0) {\n",
       "            event.step = 1;\n",
       "        } else {\n",
       "            event.step = -1;\n",
       "        }\n",
       "        mouse_event_fn(event);\n",
       "    });\n",
       "\n",
       "    canvas_div.append(canvas);\n",
       "    canvas_div.append(rubberband);\n",
       "\n",
       "    this.rubberband = rubberband;\n",
       "    this.rubberband_canvas = rubberband[0];\n",
       "    this.rubberband_context = rubberband[0].getContext(\"2d\");\n",
       "    this.rubberband_context.strokeStyle = \"#000000\";\n",
       "\n",
       "    this._resize_canvas = function(width, height) {\n",
       "        // Keep the size of the canvas, canvas container, and rubber band\n",
       "        // canvas in synch.\n",
       "        canvas_div.css('width', width)\n",
       "        canvas_div.css('height', height)\n",
       "\n",
       "        canvas.attr('width', width * mpl.ratio);\n",
       "        canvas.attr('height', height * mpl.ratio);\n",
       "        canvas.attr('style', 'width: ' + width + 'px; height: ' + height + 'px;');\n",
       "\n",
       "        rubberband.attr('width', width);\n",
       "        rubberband.attr('height', height);\n",
       "    }\n",
       "\n",
       "    // Set the figure to an initial 600x600px, this will subsequently be updated\n",
       "    // upon first draw.\n",
       "    this._resize_canvas(600, 600);\n",
       "\n",
       "    // Disable right mouse context menu.\n",
       "    $(this.rubberband_canvas).bind(\"contextmenu\",function(e){\n",
       "        return false;\n",
       "    });\n",
       "\n",
       "    function set_focus () {\n",
       "        canvas.focus();\n",
       "        canvas_div.focus();\n",
       "    }\n",
       "\n",
       "    window.setTimeout(set_focus, 100);\n",
       "}\n",
       "\n",
       "mpl.figure.prototype._init_toolbar = function() {\n",
       "    var fig = this;\n",
       "\n",
       "    var nav_element = $('<div/>')\n",
       "    nav_element.attr('style', 'width: 100%');\n",
       "    this.root.append(nav_element);\n",
       "\n",
       "    // Define a callback function for later on.\n",
       "    function toolbar_event(event) {\n",
       "        return fig.toolbar_button_onclick(event['data']);\n",
       "    }\n",
       "    function toolbar_mouse_event(event) {\n",
       "        return fig.toolbar_button_onmouseover(event['data']);\n",
       "    }\n",
       "\n",
       "    for(var toolbar_ind in mpl.toolbar_items) {\n",
       "        var name = mpl.toolbar_items[toolbar_ind][0];\n",
       "        var tooltip = mpl.toolbar_items[toolbar_ind][1];\n",
       "        var image = mpl.toolbar_items[toolbar_ind][2];\n",
       "        var method_name = mpl.toolbar_items[toolbar_ind][3];\n",
       "\n",
       "        if (!name) {\n",
       "            // put a spacer in here.\n",
       "            continue;\n",
       "        }\n",
       "        var button = $('<button/>');\n",
       "        button.addClass('ui-button ui-widget ui-state-default ui-corner-all ' +\n",
       "                        'ui-button-icon-only');\n",
       "        button.attr('role', 'button');\n",
       "        button.attr('aria-disabled', 'false');\n",
       "        button.click(method_name, toolbar_event);\n",
       "        button.mouseover(tooltip, toolbar_mouse_event);\n",
       "\n",
       "        var icon_img = $('<span/>');\n",
       "        icon_img.addClass('ui-button-icon-primary ui-icon');\n",
       "        icon_img.addClass(image);\n",
       "        icon_img.addClass('ui-corner-all');\n",
       "\n",
       "        var tooltip_span = $('<span/>');\n",
       "        tooltip_span.addClass('ui-button-text');\n",
       "        tooltip_span.html(tooltip);\n",
       "\n",
       "        button.append(icon_img);\n",
       "        button.append(tooltip_span);\n",
       "\n",
       "        nav_element.append(button);\n",
       "    }\n",
       "\n",
       "    var fmt_picker_span = $('<span/>');\n",
       "\n",
       "    var fmt_picker = $('<select/>');\n",
       "    fmt_picker.addClass('mpl-toolbar-option ui-widget ui-widget-content');\n",
       "    fmt_picker_span.append(fmt_picker);\n",
       "    nav_element.append(fmt_picker_span);\n",
       "    this.format_dropdown = fmt_picker[0];\n",
       "\n",
       "    for (var ind in mpl.extensions) {\n",
       "        var fmt = mpl.extensions[ind];\n",
       "        var option = $(\n",
       "            '<option/>', {selected: fmt === mpl.default_extension}).html(fmt);\n",
       "        fmt_picker.append(option)\n",
       "    }\n",
       "\n",
       "    // Add hover states to the ui-buttons\n",
       "    $( \".ui-button\" ).hover(\n",
       "        function() { $(this).addClass(\"ui-state-hover\");},\n",
       "        function() { $(this).removeClass(\"ui-state-hover\");}\n",
       "    );\n",
       "\n",
       "    var status_bar = $('<span class=\"mpl-message\"/>');\n",
       "    nav_element.append(status_bar);\n",
       "    this.message = status_bar[0];\n",
       "}\n",
       "\n",
       "mpl.figure.prototype.request_resize = function(x_pixels, y_pixels) {\n",
       "    // Request matplotlib to resize the figure. Matplotlib will then trigger a resize in the client,\n",
       "    // which will in turn request a refresh of the image.\n",
       "    this.send_message('resize', {'width': x_pixels, 'height': y_pixels});\n",
       "}\n",
       "\n",
       "mpl.figure.prototype.send_message = function(type, properties) {\n",
       "    properties['type'] = type;\n",
       "    properties['figure_id'] = this.id;\n",
       "    this.ws.send(JSON.stringify(properties));\n",
       "}\n",
       "\n",
       "mpl.figure.prototype.send_draw_message = function() {\n",
       "    if (!this.waiting) {\n",
       "        this.waiting = true;\n",
       "        this.ws.send(JSON.stringify({type: \"draw\", figure_id: this.id}));\n",
       "    }\n",
       "}\n",
       "\n",
       "\n",
       "mpl.figure.prototype.handle_save = function(fig, msg) {\n",
       "    var format_dropdown = fig.format_dropdown;\n",
       "    var format = format_dropdown.options[format_dropdown.selectedIndex].value;\n",
       "    fig.ondownload(fig, format);\n",
       "}\n",
       "\n",
       "\n",
       "mpl.figure.prototype.handle_resize = function(fig, msg) {\n",
       "    var size = msg['size'];\n",
       "    if (size[0] != fig.canvas.width || size[1] != fig.canvas.height) {\n",
       "        fig._resize_canvas(size[0], size[1]);\n",
       "        fig.send_message(\"refresh\", {});\n",
       "    };\n",
       "}\n",
       "\n",
       "mpl.figure.prototype.handle_rubberband = function(fig, msg) {\n",
       "    var x0 = msg['x0'] / mpl.ratio;\n",
       "    var y0 = (fig.canvas.height - msg['y0']) / mpl.ratio;\n",
       "    var x1 = msg['x1'] / mpl.ratio;\n",
       "    var y1 = (fig.canvas.height - msg['y1']) / mpl.ratio;\n",
       "    x0 = Math.floor(x0) + 0.5;\n",
       "    y0 = Math.floor(y0) + 0.5;\n",
       "    x1 = Math.floor(x1) + 0.5;\n",
       "    y1 = Math.floor(y1) + 0.5;\n",
       "    var min_x = Math.min(x0, x1);\n",
       "    var min_y = Math.min(y0, y1);\n",
       "    var width = Math.abs(x1 - x0);\n",
       "    var height = Math.abs(y1 - y0);\n",
       "\n",
       "    fig.rubberband_context.clearRect(\n",
       "        0, 0, fig.canvas.width, fig.canvas.height);\n",
       "\n",
       "    fig.rubberband_context.strokeRect(min_x, min_y, width, height);\n",
       "}\n",
       "\n",
       "mpl.figure.prototype.handle_figure_label = function(fig, msg) {\n",
       "    // Updates the figure title.\n",
       "    fig.header.textContent = msg['label'];\n",
       "}\n",
       "\n",
       "mpl.figure.prototype.handle_cursor = function(fig, msg) {\n",
       "    var cursor = msg['cursor'];\n",
       "    switch(cursor)\n",
       "    {\n",
       "    case 0:\n",
       "        cursor = 'pointer';\n",
       "        break;\n",
       "    case 1:\n",
       "        cursor = 'default';\n",
       "        break;\n",
       "    case 2:\n",
       "        cursor = 'crosshair';\n",
       "        break;\n",
       "    case 3:\n",
       "        cursor = 'move';\n",
       "        break;\n",
       "    }\n",
       "    fig.rubberband_canvas.style.cursor = cursor;\n",
       "}\n",
       "\n",
       "mpl.figure.prototype.handle_message = function(fig, msg) {\n",
       "    fig.message.textContent = msg['message'];\n",
       "}\n",
       "\n",
       "mpl.figure.prototype.handle_draw = function(fig, msg) {\n",
       "    // Request the server to send over a new figure.\n",
       "    fig.send_draw_message();\n",
       "}\n",
       "\n",
       "mpl.figure.prototype.handle_image_mode = function(fig, msg) {\n",
       "    fig.image_mode = msg['mode'];\n",
       "}\n",
       "\n",
       "mpl.figure.prototype.updated_canvas_event = function() {\n",
       "    // Called whenever the canvas gets updated.\n",
       "    this.send_message(\"ack\", {});\n",
       "}\n",
       "\n",
       "// A function to construct a web socket function for onmessage handling.\n",
       "// Called in the figure constructor.\n",
       "mpl.figure.prototype._make_on_message_function = function(fig) {\n",
       "    return function socket_on_message(evt) {\n",
       "        if (evt.data instanceof Blob) {\n",
       "            /* FIXME: We get \"Resource interpreted as Image but\n",
       "             * transferred with MIME type text/plain:\" errors on\n",
       "             * Chrome.  But how to set the MIME type?  It doesn't seem\n",
       "             * to be part of the websocket stream */\n",
       "            evt.data.type = \"image/png\";\n",
       "\n",
       "            /* Free the memory for the previous frames */\n",
       "            if (fig.imageObj.src) {\n",
       "                (window.URL || window.webkitURL).revokeObjectURL(\n",
       "                    fig.imageObj.src);\n",
       "            }\n",
       "\n",
       "            fig.imageObj.src = (window.URL || window.webkitURL).createObjectURL(\n",
       "                evt.data);\n",
       "            fig.updated_canvas_event();\n",
       "            fig.waiting = false;\n",
       "            return;\n",
       "        }\n",
       "        else if (typeof evt.data === 'string' && evt.data.slice(0, 21) == \"data:image/png;base64\") {\n",
       "            fig.imageObj.src = evt.data;\n",
       "            fig.updated_canvas_event();\n",
       "            fig.waiting = false;\n",
       "            return;\n",
       "        }\n",
       "\n",
       "        var msg = JSON.parse(evt.data);\n",
       "        var msg_type = msg['type'];\n",
       "\n",
       "        // Call the  \"handle_{type}\" callback, which takes\n",
       "        // the figure and JSON message as its only arguments.\n",
       "        try {\n",
       "            var callback = fig[\"handle_\" + msg_type];\n",
       "        } catch (e) {\n",
       "            console.log(\"No handler for the '\" + msg_type + \"' message type: \", msg);\n",
       "            return;\n",
       "        }\n",
       "\n",
       "        if (callback) {\n",
       "            try {\n",
       "                // console.log(\"Handling '\" + msg_type + \"' message: \", msg);\n",
       "                callback(fig, msg);\n",
       "            } catch (e) {\n",
       "                console.log(\"Exception inside the 'handler_\" + msg_type + \"' callback:\", e, e.stack, msg);\n",
       "            }\n",
       "        }\n",
       "    };\n",
       "}\n",
       "\n",
       "// from http://stackoverflow.com/questions/1114465/getting-mouse-location-in-canvas\n",
       "mpl.findpos = function(e) {\n",
       "    //this section is from http://www.quirksmode.org/js/events_properties.html\n",
       "    var targ;\n",
       "    if (!e)\n",
       "        e = window.event;\n",
       "    if (e.target)\n",
       "        targ = e.target;\n",
       "    else if (e.srcElement)\n",
       "        targ = e.srcElement;\n",
       "    if (targ.nodeType == 3) // defeat Safari bug\n",
       "        targ = targ.parentNode;\n",
       "\n",
       "    // jQuery normalizes the pageX and pageY\n",
       "    // pageX,Y are the mouse positions relative to the document\n",
       "    // offset() returns the position of the element relative to the document\n",
       "    var x = e.pageX - $(targ).offset().left;\n",
       "    var y = e.pageY - $(targ).offset().top;\n",
       "\n",
       "    return {\"x\": x, \"y\": y};\n",
       "};\n",
       "\n",
       "/*\n",
       " * return a copy of an object with only non-object keys\n",
       " * we need this to avoid circular references\n",
       " * http://stackoverflow.com/a/24161582/3208463\n",
       " */\n",
       "function simpleKeys (original) {\n",
       "  return Object.keys(original).reduce(function (obj, key) {\n",
       "    if (typeof original[key] !== 'object')\n",
       "        obj[key] = original[key]\n",
       "    return obj;\n",
       "  }, {});\n",
       "}\n",
       "\n",
       "mpl.figure.prototype.mouse_event = function(event, name) {\n",
       "    var canvas_pos = mpl.findpos(event)\n",
       "\n",
       "    if (name === 'button_press')\n",
       "    {\n",
       "        this.canvas.focus();\n",
       "        this.canvas_div.focus();\n",
       "    }\n",
       "\n",
       "    var x = canvas_pos.x * mpl.ratio;\n",
       "    var y = canvas_pos.y * mpl.ratio;\n",
       "\n",
       "    this.send_message(name, {x: x, y: y, button: event.button,\n",
       "                             step: event.step,\n",
       "                             guiEvent: simpleKeys(event)});\n",
       "\n",
       "    /* This prevents the web browser from automatically changing to\n",
       "     * the text insertion cursor when the button is pressed.  We want\n",
       "     * to control all of the cursor setting manually through the\n",
       "     * 'cursor' event from matplotlib */\n",
       "    event.preventDefault();\n",
       "    return false;\n",
       "}\n",
       "\n",
       "mpl.figure.prototype._key_event_extra = function(event, name) {\n",
       "    // Handle any extra behaviour associated with a key event\n",
       "}\n",
       "\n",
       "mpl.figure.prototype.key_event = function(event, name) {\n",
       "\n",
       "    // Prevent repeat events\n",
       "    if (name == 'key_press')\n",
       "    {\n",
       "        if (event.which === this._key)\n",
       "            return;\n",
       "        else\n",
       "            this._key = event.which;\n",
       "    }\n",
       "    if (name == 'key_release')\n",
       "        this._key = null;\n",
       "\n",
       "    var value = '';\n",
       "    if (event.ctrlKey && event.which != 17)\n",
       "        value += \"ctrl+\";\n",
       "    if (event.altKey && event.which != 18)\n",
       "        value += \"alt+\";\n",
       "    if (event.shiftKey && event.which != 16)\n",
       "        value += \"shift+\";\n",
       "\n",
       "    value += 'k';\n",
       "    value += event.which.toString();\n",
       "\n",
       "    this._key_event_extra(event, name);\n",
       "\n",
       "    this.send_message(name, {key: value,\n",
       "                             guiEvent: simpleKeys(event)});\n",
       "    return false;\n",
       "}\n",
       "\n",
       "mpl.figure.prototype.toolbar_button_onclick = function(name) {\n",
       "    if (name == 'download') {\n",
       "        this.handle_save(this, null);\n",
       "    } else {\n",
       "        this.send_message(\"toolbar_button\", {name: name});\n",
       "    }\n",
       "};\n",
       "\n",
       "mpl.figure.prototype.toolbar_button_onmouseover = function(tooltip) {\n",
       "    this.message.textContent = tooltip;\n",
       "};\n",
       "mpl.toolbar_items = [[\"Home\", \"Reset original view\", \"fa fa-home icon-home\", \"home\"], [\"Back\", \"Back to  previous view\", \"fa fa-arrow-left icon-arrow-left\", \"back\"], [\"Forward\", \"Forward to next view\", \"fa fa-arrow-right icon-arrow-right\", \"forward\"], [\"\", \"\", \"\", \"\"], [\"Pan\", \"Pan axes with left mouse, zoom with right\", \"fa fa-arrows icon-move\", \"pan\"], [\"Zoom\", \"Zoom to rectangle\", \"fa fa-square-o icon-check-empty\", \"zoom\"], [\"\", \"\", \"\", \"\"], [\"Download\", \"Download plot\", \"fa fa-floppy-o icon-save\", \"download\"]];\n",
       "\n",
       "mpl.extensions = [\"eps\", \"jpeg\", \"pdf\", \"png\", \"ps\", \"raw\", \"svg\", \"tif\"];\n",
       "\n",
       "mpl.default_extension = \"png\";var comm_websocket_adapter = function(comm) {\n",
       "    // Create a \"websocket\"-like object which calls the given IPython comm\n",
       "    // object with the appropriate methods. Currently this is a non binary\n",
       "    // socket, so there is still some room for performance tuning.\n",
       "    var ws = {};\n",
       "\n",
       "    ws.close = function() {\n",
       "        comm.close()\n",
       "    };\n",
       "    ws.send = function(m) {\n",
       "        //console.log('sending', m);\n",
       "        comm.send(m);\n",
       "    };\n",
       "    // Register the callback with on_msg.\n",
       "    comm.on_msg(function(msg) {\n",
       "        //console.log('receiving', msg['content']['data'], msg);\n",
       "        // Pass the mpl event to the overriden (by mpl) onmessage function.\n",
       "        ws.onmessage(msg['content']['data'])\n",
       "    });\n",
       "    return ws;\n",
       "}\n",
       "\n",
       "mpl.mpl_figure_comm = function(comm, msg) {\n",
       "    // This is the function which gets called when the mpl process\n",
       "    // starts-up an IPython Comm through the \"matplotlib\" channel.\n",
       "\n",
       "    var id = msg.content.data.id;\n",
       "    // Get hold of the div created by the display call when the Comm\n",
       "    // socket was opened in Python.\n",
       "    var element = $(\"#\" + id);\n",
       "    var ws_proxy = comm_websocket_adapter(comm)\n",
       "\n",
       "    function ondownload(figure, format) {\n",
       "        window.open(figure.imageObj.src);\n",
       "    }\n",
       "\n",
       "    var fig = new mpl.figure(id, ws_proxy,\n",
       "                           ondownload,\n",
       "                           element.get(0));\n",
       "\n",
       "    // Call onopen now - mpl needs it, as it is assuming we've passed it a real\n",
       "    // web socket which is closed, not our websocket->open comm proxy.\n",
       "    ws_proxy.onopen();\n",
       "\n",
       "    fig.parent_element = element.get(0);\n",
       "    fig.cell_info = mpl.find_output_cell(\"<div id='\" + id + \"'></div>\");\n",
       "    if (!fig.cell_info) {\n",
       "        console.error(\"Failed to find cell for figure\", id, fig);\n",
       "        return;\n",
       "    }\n",
       "\n",
       "    var output_index = fig.cell_info[2]\n",
       "    var cell = fig.cell_info[0];\n",
       "\n",
       "};\n",
       "\n",
       "mpl.figure.prototype.handle_close = function(fig, msg) {\n",
       "    var width = fig.canvas.width/mpl.ratio\n",
       "    fig.root.unbind('remove')\n",
       "\n",
       "    // Update the output cell to use the data from the current canvas.\n",
       "    fig.push_to_output();\n",
       "    var dataURL = fig.canvas.toDataURL();\n",
       "    // Re-enable the keyboard manager in IPython - without this line, in FF,\n",
       "    // the notebook keyboard shortcuts fail.\n",
       "    IPython.keyboard_manager.enable()\n",
       "    $(fig.parent_element).html('<img src=\"' + dataURL + '\" width=\"' + width + '\">');\n",
       "    fig.close_ws(fig, msg);\n",
       "}\n",
       "\n",
       "mpl.figure.prototype.close_ws = function(fig, msg){\n",
       "    fig.send_message('closing', msg);\n",
       "    // fig.ws.close()\n",
       "}\n",
       "\n",
       "mpl.figure.prototype.push_to_output = function(remove_interactive) {\n",
       "    // Turn the data on the canvas into data in the output cell.\n",
       "    var width = this.canvas.width/mpl.ratio\n",
       "    var dataURL = this.canvas.toDataURL();\n",
       "    this.cell_info[1]['text/html'] = '<img src=\"' + dataURL + '\" width=\"' + width + '\">';\n",
       "}\n",
       "\n",
       "mpl.figure.prototype.updated_canvas_event = function() {\n",
       "    // Tell IPython that the notebook contents must change.\n",
       "    IPython.notebook.set_dirty(true);\n",
       "    this.send_message(\"ack\", {});\n",
       "    var fig = this;\n",
       "    // Wait a second, then push the new image to the DOM so\n",
       "    // that it is saved nicely (might be nice to debounce this).\n",
       "    setTimeout(function () { fig.push_to_output() }, 1000);\n",
       "}\n",
       "\n",
       "mpl.figure.prototype._init_toolbar = function() {\n",
       "    var fig = this;\n",
       "\n",
       "    var nav_element = $('<div/>')\n",
       "    nav_element.attr('style', 'width: 100%');\n",
       "    this.root.append(nav_element);\n",
       "\n",
       "    // Define a callback function for later on.\n",
       "    function toolbar_event(event) {\n",
       "        return fig.toolbar_button_onclick(event['data']);\n",
       "    }\n",
       "    function toolbar_mouse_event(event) {\n",
       "        return fig.toolbar_button_onmouseover(event['data']);\n",
       "    }\n",
       "\n",
       "    for(var toolbar_ind in mpl.toolbar_items){\n",
       "        var name = mpl.toolbar_items[toolbar_ind][0];\n",
       "        var tooltip = mpl.toolbar_items[toolbar_ind][1];\n",
       "        var image = mpl.toolbar_items[toolbar_ind][2];\n",
       "        var method_name = mpl.toolbar_items[toolbar_ind][3];\n",
       "\n",
       "        if (!name) { continue; };\n",
       "\n",
       "        var button = $('<button class=\"btn btn-default\" href=\"#\" title=\"' + name + '\"><i class=\"fa ' + image + ' fa-lg\"></i></button>');\n",
       "        button.click(method_name, toolbar_event);\n",
       "        button.mouseover(tooltip, toolbar_mouse_event);\n",
       "        nav_element.append(button);\n",
       "    }\n",
       "\n",
       "    // Add the status bar.\n",
       "    var status_bar = $('<span class=\"mpl-message\" style=\"text-align:right; float: right;\"/>');\n",
       "    nav_element.append(status_bar);\n",
       "    this.message = status_bar[0];\n",
       "\n",
       "    // Add the close button to the window.\n",
       "    var buttongrp = $('<div class=\"btn-group inline pull-right\"></div>');\n",
       "    var button = $('<button class=\"btn btn-mini btn-primary\" href=\"#\" title=\"Stop Interaction\"><i class=\"fa fa-power-off icon-remove icon-large\"></i></button>');\n",
       "    button.click(function (evt) { fig.handle_close(fig, {}); } );\n",
       "    button.mouseover('Stop Interaction', toolbar_mouse_event);\n",
       "    buttongrp.append(button);\n",
       "    var titlebar = this.root.find($('.ui-dialog-titlebar'));\n",
       "    titlebar.prepend(buttongrp);\n",
       "}\n",
       "\n",
       "mpl.figure.prototype._root_extra_style = function(el){\n",
       "    var fig = this\n",
       "    el.on(\"remove\", function(){\n",
       "\tfig.close_ws(fig, {});\n",
       "    });\n",
       "}\n",
       "\n",
       "mpl.figure.prototype._canvas_extra_style = function(el){\n",
       "    // this is important to make the div 'focusable\n",
       "    el.attr('tabindex', 0)\n",
       "    // reach out to IPython and tell the keyboard manager to turn it's self\n",
       "    // off when our div gets focus\n",
       "\n",
       "    // location in version 3\n",
       "    if (IPython.notebook.keyboard_manager) {\n",
       "        IPython.notebook.keyboard_manager.register_events(el);\n",
       "    }\n",
       "    else {\n",
       "        // location in version 2\n",
       "        IPython.keyboard_manager.register_events(el);\n",
       "    }\n",
       "\n",
       "}\n",
       "\n",
       "mpl.figure.prototype._key_event_extra = function(event, name) {\n",
       "    var manager = IPython.notebook.keyboard_manager;\n",
       "    if (!manager)\n",
       "        manager = IPython.keyboard_manager;\n",
       "\n",
       "    // Check for shift+enter\n",
       "    if (event.shiftKey && event.which == 13) {\n",
       "        this.canvas_div.blur();\n",
       "        // select the cell after this one\n",
       "        var index = IPython.notebook.find_cell_index(this.cell_info[0]);\n",
       "        IPython.notebook.select(index + 1);\n",
       "    }\n",
       "}\n",
       "\n",
       "mpl.figure.prototype.handle_save = function(fig, msg) {\n",
       "    fig.ondownload(fig, null);\n",
       "}\n",
       "\n",
       "\n",
       "mpl.find_output_cell = function(html_output) {\n",
       "    // Return the cell and output element which can be found *uniquely* in the notebook.\n",
       "    // Note - this is a bit hacky, but it is done because the \"notebook_saving.Notebook\"\n",
       "    // IPython event is triggered only after the cells have been serialised, which for\n",
       "    // our purposes (turning an active figure into a static one), is too late.\n",
       "    var cells = IPython.notebook.get_cells();\n",
       "    var ncells = cells.length;\n",
       "    for (var i=0; i<ncells; i++) {\n",
       "        var cell = cells[i];\n",
       "        if (cell.cell_type === 'code'){\n",
       "            for (var j=0; j<cell.output_area.outputs.length; j++) {\n",
       "                var data = cell.output_area.outputs[j];\n",
       "                if (data.data) {\n",
       "                    // IPython >= 3 moved mimebundle to data attribute of output\n",
       "                    data = data.data;\n",
       "                }\n",
       "                if (data['text/html'] == html_output) {\n",
       "                    return [cell, data, j];\n",
       "                }\n",
       "            }\n",
       "        }\n",
       "    }\n",
       "}\n",
       "\n",
       "// Register the function which deals with the matplotlib target/channel.\n",
       "// The kernel may be null if the page has been refreshed.\n",
       "if (IPython.notebook.kernel != null) {\n",
       "    IPython.notebook.kernel.comm_manager.register_target('matplotlib', mpl.mpl_figure_comm);\n",
       "}\n"
      ],
      "text/plain": [
       "<IPython.core.display.Javascript object>"
      ]
     },
     "metadata": {},
     "output_type": "display_data"
    },
    {
     "data": {
      "text/html": [
       "<img src=\"data:image/png;base64,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\" width=\"520\">"
      ],
      "text/plain": [
       "<IPython.core.display.HTML object>"
      ]
     },
     "metadata": {},
     "output_type": "display_data"
    }
   ],
   "source": [
    "fig_height = 8.53534 / 2.54 *(5.2/4.8)\n",
    "fig_width = 5.2 # Plos one text width (inches)\n",
    "fig, axes = plt.subplots(2, 4, figsize=(fig_width, 2.5))\n",
    "labelsize = 10\n",
    "\n",
    "for ax in axes[0, :].flatten():\n",
    "    ax.tick_params(axis='x', labelbottom=False)\n",
    "    ax.tick_params(axis='y', labelleft=False)\n",
    "    ax.set_xticks([])\n",
    "    ax.set_yticks([])\n",
    "\n",
    "    \n",
    "for ax in axes[1, :].flatten():\n",
    "    ax.tick_params(axis='y', labelleft=False)\n",
    "    ax.set_yticks([])\n",
    "\n",
    "sb = ScaleBar(80/1000, 'um', location='lower left', frameon=False, color='w', font_properties={'size': 0})\n",
    "\n",
    "cp_cy3b_pad = CellPlot(cy3b_pad)\n",
    "cp_cy3b_pad.imshow('fluorescence', ax=axes[0, 0])\n",
    "sb = ScaleBar(80/1000, 'um', location='lower left', frameon=False, color='w', font_properties={'size': 0},\n",
    "             label_formatter=lambda x, y: None, height_fraction=0.02)\n",
    "axes[0, 0].add_artist(sb)\n",
    "axes[0, 0].set_title('Cy3B-NHS', fontsize=labelsize)\n",
    "axes[0, 0].text(0.975, 0.05, 'n = {}'.format(1), transform=axes[0, 0].transAxes, horizontalalignment='right',\n",
    "               color='w')\n",
    "\n",
    "cp_egfp_pad = CellPlot(egfp_pad)\n",
    "cp_egfp_pad.imshow('fluorescence', ax=axes[0, 1])\n",
    "sb = ScaleBar(80/1000, 'um', location='lower left', frameon=False, color='w', font_properties={'size': 0}, \n",
    "              label_formatter=lambda x, y: None, height_fraction=0.02)\n",
    "axes[0, 1].add_artist(sb)\n",
    "axes[0, 1].set_title('eGFP', fontsize=labelsize)\n",
    "axes[0, 1].text(0.975, 0.05, 'n = {}'.format(1), transform=axes[1, 0].transAxes, horizontalalignment='right',\n",
    "               color='w')\n",
    "\n",
    "\n",
    "cp_cy3b = CellPlot(cy3b_cell)\n",
    "cp_cy3b.plot_r_dist(ax=axes[1, 0])\n",
    "axes[1, 0].plot(cy3b_cell.coords.rc.flatten() * cfg.IMG_PIXELSIZE / 1000, cy3b_cell.data.data_dict['fluorescence'].flatten(),\n",
    "               'r.', alpha=0.15, markersize=1, zorder=-1)\n",
    "axes[1, 0].xaxis.labelpad = 0\n",
    "axes[1, 0].xaxis.label.set_size(labelsize)\n",
    "axes[1, 0].set_ylabel('Fl. Intensity', fontsize=labelsize)\n",
    "axes[1, 0].text(0.975, 0.85, 'n = {}'.format(1), transform=axes[1, 0].transAxes, horizontalalignment='right')\n",
    "\n",
    "\n",
    "cp_egfp = CellPlot(egfp_cell)\n",
    "cp_egfp.plot_r_dist(ax=axes[1, 1])\n",
    "axes[1, 1].plot(egfp_cell.coords.rc.flatten() * cfg.IMG_PIXELSIZE / 1000, egfp_cell.data.data_dict['fluorescence'].flatten(),\n",
    "               'r.', alpha=0.15, markersize=1, zorder=-1)\n",
    "axes[1, 1].xaxis.labelpad = 0\n",
    "axes[1, 1].xaxis.label.set_size(labelsize)\n",
    "axes[1, 1].set_ylabel('Fl. Intensity', fontsize=labelsize)\n",
    "axes[1, 1].text(0.975, 0.85, 'n = {}'.format(1), transform=axes[1, 1].transAxes, horizontalalignment='right')\n",
    "\n",
    "\n",
    "axes[0, 2].imshow(cy3b_aligned, cmap='viridis', interpolation='spline16')\n",
    "axes[0, 2].text(0.975, 0.05, 'n = {}'.format(len(cy3b)), transform=axes[0, 2].transAxes, horizontalalignment='right',\n",
    "               color='w')\n",
    "axes[0, 2].set_title('Cy3B-NHS', fontsize=labelsize, y=1.1)\n",
    "\n",
    "\n",
    "axes[0, 3].imshow(egfp_aligned, cmap='viridis', interpolation='spline16')\n",
    "axes[0, 3].text(0.975, 0.05, 'n = {}'.format(len(egfp)), transform=axes[0, 3].transAxes, horizontalalignment='right',\n",
    "               color='w')\n",
    "axes[0, 3].set_title('eGFP', fontsize=labelsize, y=1.1)\n",
    "\n",
    "\n",
    "clp_cy3b = CellListPlot(cy3b)\n",
    "clp_cy3b.plot_r_dist(ax=axes[1, 2], norm_x=True, norm_y=True, stop=3, zero=True)\n",
    "axes[1, 2].xaxis.labelpad = 0\n",
    "axes[1, 2].xaxis.label.set_size(labelsize)\n",
    "axes[1, 2].set_ylabel('Fl. Intensity', fontsize=labelsize)\n",
    "axes[1, 2].set_title('')\n",
    "axes[1, 2].text(0.975, 0.85, 'n = {}'.format(len(cy3b)), transform=axes[1, 2].transAxes, horizontalalignment='right')\n",
    "\n",
    "\n",
    "clp_egfp = CellListPlot(egfp)\n",
    "clp_egfp.plot_r_dist(ax=axes[1, 3], norm_x=True, norm_y=True, stop=3, zero=True)\n",
    "axes[1, 3].xaxis.labelpad = 0\n",
    "axes[1, 3].xaxis.label.set_size(labelsize)\n",
    "axes[1, 3].set_ylabel('Fl. Intensity', fontsize=labelsize)\n",
    "axes[1, 3].set_title('')\n",
    "axes[1, 3].text(0.975, 0.85, 'n = {}'.format(len(egfp)), transform=axes[1, 3].transAxes, horizontalalignment='right')\n",
    "\n",
    "plt.tight_layout(pad=0.01)\n",
    "plt.subplots_adjust(top=0.95)\n",
    "\n",
    "p0 = axes[0, 0].get_position()\n",
    "fig.text(p0.x0, 0.875, 'A', fontsize=15)\n",
    "\n",
    "p0 = axes[0, 1].get_position()\n",
    "fig.text(p0.x0, 0.875, 'B', fontsize=15)\n",
    "\n",
    "p0 = axes[0, 2].get_position()\n",
    "fig.text(p0.x0, 0.875, 'C', fontsize=15)\n",
    "\n",
    "p0 = axes[0, 3].get_position()\n",
    "fig.text(p0.x0, 0.875, 'D', fontsize=15)\n",
    "\n",
    "plt.savefig('Figure_6.pdf', dpi=600)"
   ]
  },
  {
   "cell_type": "code",
   "execution_count": 69,
   "metadata": {},
   "outputs": [],
   "source": [
    "t1 = axes[0, 1].set_title('test')\n",
    "t1.set_position((0.5, 1.0))"
   ]
  },
  {
   "cell_type": "code",
   "execution_count": 64,
   "metadata": {},
   "outputs": [
    {
     "data": {
      "text/plain": [
       "(0.5, 1.0)"
      ]
     },
     "execution_count": 64,
     "metadata": {},
     "output_type": "execute_result"
    }
   ],
   "source": [
    "t2 = axes[0, 2].set_title('test')\n",
    "t2.get_position()"
   ]
  },
  {
   "cell_type": "code",
   "execution_count": 67,
   "metadata": {},
   "outputs": [],
   "source": [
    "t2.set_position((0.5, 1.1))"
   ]
  },
  {
   "cell_type": "code",
   "execution_count": 60,
   "metadata": {},
   "outputs": [
    {
     "data": {
      "text/plain": [
       "(0.5, 1.0)"
      ]
     },
     "execution_count": 60,
     "metadata": {},
     "output_type": "execute_result"
    }
   ],
   "source": [
    "tt = axes[0, 3].set_title('test')\n",
    "tt.get_position()"
   ]
  },
  {
   "cell_type": "code",
   "execution_count": 66,
   "metadata": {},
   "outputs": [
    {
     "ename": "TypeError",
     "evalue": "set_position() got an unexpected keyword argument 'transform'",
     "output_type": "error",
     "traceback": [
      "\u001b[1;31m---------------------------------------------------------------------------\u001b[0m",
      "\u001b[1;31mTypeError\u001b[0m                                 Traceback (most recent call last)",
      "\u001b[1;32m<ipython-input-66-f2c427c37597>\u001b[0m in \u001b[0;36m<module>\u001b[1;34m\u001b[0m\n\u001b[1;32m----> 1\u001b[1;33m \u001b[0mtt\u001b[0m\u001b[1;33m.\u001b[0m\u001b[0mset_position\u001b[0m\u001b[1;33m(\u001b[0m\u001b[1;33m(\u001b[0m\u001b[1;36m0.5\u001b[0m\u001b[1;33m,\u001b[0m \u001b[1;36m1.1\u001b[0m\u001b[1;33m)\u001b[0m\u001b[1;33m,\u001b[0m \u001b[0mtransform\u001b[0m\u001b[1;33m=\u001b[0m\u001b[0max\u001b[0m\u001b[1;33m.\u001b[0m\u001b[0mtransAxes\u001b[0m\u001b[1;33m)\u001b[0m\u001b[1;33m\u001b[0m\u001b[0m\n\u001b[0m",
      "\u001b[1;31mTypeError\u001b[0m: set_position() got an unexpected keyword argument 'transform'"
     ]
    }
   ],
   "source": [
    "tt.set_position((0.5, 1.1))"
   ]
  },
  {
   "cell_type": "code",
   "execution_count": 59,
   "metadata": {},
   "outputs": [
    {
     "ename": "TypeError",
     "evalue": "'CompositeGenericTransform' object does not support indexing",
     "output_type": "error",
     "traceback": [
      "\u001b[1;31m---------------------------------------------------------------------------\u001b[0m",
      "\u001b[1;31mTypeError\u001b[0m                                 Traceback (most recent call last)",
      "\u001b[1;32m<ipython-input-59-775d4079a47f>\u001b[0m in \u001b[0;36m<module>\u001b[1;34m\u001b[0m\n\u001b[1;32m----> 1\u001b[1;33m \u001b[0mtt\u001b[0m\u001b[1;33m.\u001b[0m\u001b[0m_transform\u001b[0m\u001b[1;33m[\u001b[0m\u001b[1;36m0\u001b[0m\u001b[1;33m]\u001b[0m\u001b[1;33m(\u001b[0m\u001b[1;33m(\u001b[0m\u001b[1;36m3\u001b[0m\u001b[1;33m,\u001b[0m \u001b[1;36m4\u001b[0m\u001b[1;33m)\u001b[0m\u001b[1;33m)\u001b[0m\u001b[1;33m\u001b[0m\u001b[0m\n\u001b[0m",
      "\u001b[1;31mTypeError\u001b[0m: 'CompositeGenericTransform' object does not support indexing"
     ]
    }
   ],
   "source": [
    "tt._transform[0]((3, 4))"
   ]
  },
  {
   "cell_type": "code",
   "execution_count": 49,
   "metadata": {},
   "outputs": [
    {
     "data": {
      "text/plain": [
       "{'_stale': False,\n",
       " 'stale_callback': <function matplotlib.artist._stale_axes_callback(self, val)>,\n",
       " '_axes': <matplotlib.axes._subplots.AxesSubplot at 0x2144732ffd0>,\n",
       " 'figure': <matplotlib.figure.Figure at 0x21448842898>,\n",
       " '_transform': CompositeGenericTransform(BboxTransformTo(TransformedBbox(Bbox([[0.7876602564102563, 0.6408967070459327], [0.9889533398364919, 0.8362851933583321]]), BboxTransformTo(TransformedBbox(Bbox([[0.0, 0.0], [5.2, 2.5]]), Affine2D(array([[100.,   0.,   0.],\n",
       "        [  0., 100.,   0.],\n",
       "        [  0.,   0.,   1.]])))))), ScaledTranslation((0.0, 0.08333333333333333))),\n",
       " '_transformSet': True,\n",
       " '_visible': True,\n",
       " '_animated': False,\n",
       " '_alpha': None,\n",
       " 'clipbox': None,\n",
       " '_clippath': None,\n",
       " '_clipon': True,\n",
       " '_label': '',\n",
       " '_picker': None,\n",
       " '_contains': None,\n",
       " '_rasterized': None,\n",
       " '_agg_filter': None,\n",
       " '_mouseover': False,\n",
       " 'eventson': False,\n",
       " '_oid': 0,\n",
       " '_propobservers': {},\n",
       " '_remove_method': None,\n",
       " '_url': None,\n",
       " '_gid': None,\n",
       " '_snap': None,\n",
       " '_sketch': None,\n",
       " '_path_effects': [],\n",
       " '_sticky_edges': _XYPair(x=[], y=[]),\n",
       " '_x': 0.5,\n",
       " '_y': 1.0,\n",
       " '_text': 'test',\n",
       " '_color': '.15',\n",
       " '_usetex': False,\n",
       " '_wrap': False,\n",
       " '_verticalalignment': 'baseline',\n",
       " '_horizontalalignment': 'center',\n",
       " '_multialignment': None,\n",
       " '_rotation': None,\n",
       " '_fontproperties': <matplotlib.font_manager.FontProperties at 0x21445879748>,\n",
       " '_bbox_patch': None,\n",
       " '_renderer': <matplotlib.backends.backend_agg.RendererAgg at 0x214458742e8>,\n",
       " '_linespacing': 1.2,\n",
       " '_rotation_mode': None}"
      ]
     },
     "execution_count": 49,
     "metadata": {},
     "output_type": "execute_result"
    }
   ],
   "source": [
    "tt.__dict__"
   ]
  },
  {
   "cell_type": "code",
   "execution_count": 45,
   "metadata": {},
   "outputs": [
    {
     "data": {
      "text/plain": [
       "<matplotlib.text.Text at 0x2144888eb00>"
      ]
     },
     "execution_count": 45,
     "metadata": {},
     "output_type": "execute_result"
    }
   ],
   "source": [
    "fig.text(p0.x0-0.42, 0.875, 'D', fontsize=15, verticalalignment='bottom')"
   ]
  },
  {
   "cell_type": "code",
   "execution_count": 33,
   "metadata": {},
   "outputs": [
    {
     "data": {
      "text/plain": [
       "0.6408967070459327"
      ]
     },
     "execution_count": 33,
     "metadata": {},
     "output_type": "execute_result"
    }
   ],
   "source": [
    "p0 = axes[0, 3].get_position()\n",
    "p0.y0"
   ]
  },
  {
   "cell_type": "code",
   "execution_count": 29,
   "metadata": {},
   "outputs": [
    {
     "data": {
      "text/plain": [
       "Bbox([[0.7876602564102563, 0.6408967070459327], [0.9889533398364919, 0.8362851933583321]])"
      ]
     },
     "execution_count": 29,
     "metadata": {},
     "output_type": "execute_result"
    }
   ],
   "source": [
    "p0"
   ]
  },
  {
   "cell_type": "code",
   "execution_count": 28,
   "metadata": {},
   "outputs": [
    {
     "data": {
      "text/plain": [
       "6.0"
      ]
     },
     "execution_count": 28,
     "metadata": {},
     "output_type": "execute_result"
    }
   ],
   "source": [
    "matplotlib.rcParams['axes.titlepad']"
   ]
  },
  {
   "cell_type": "code",
   "execution_count": null,
   "metadata": {},
   "outputs": [],
   "source": []
  }
 ],
 "metadata": {
  "kernelspec": {
   "display_name": "Python 3",
   "language": "python",
   "name": "python3"
  },
  "language_info": {
   "codemirror_mode": {
    "name": "ipython",
    "version": 3
   },
   "file_extension": ".py",
   "mimetype": "text/x-python",
   "name": "python",
   "nbconvert_exporter": "python",
   "pygments_lexer": "ipython3",
   "version": "3.6.5"
  },
  "varInspector": {
   "cols": {
    "lenName": 16,
    "lenType": 16,
    "lenVar": 40
   },
   "kernels_config": {
    "python": {
     "delete_cmd_postfix": "",
     "delete_cmd_prefix": "del ",
     "library": "var_list.py",
     "varRefreshCmd": "print(var_dic_list())"
    },
    "r": {
     "delete_cmd_postfix": ") ",
     "delete_cmd_prefix": "rm(",
     "library": "var_list.r",
     "varRefreshCmd": "cat(var_dic_list()) "
    }
   },
   "types_to_exclude": [
    "module",
    "function",
    "builtin_function_or_method",
    "instance",
    "_Feature"
   ],
   "window_display": false
  },
  "widgets": {
   "application/vnd.jupyter.widget-state+json": {
    "state": {
     "0632db06e9424dd3b6ce7a0caf25bb72": {
      "model_module": "@jupyter-widgets/controls",
      "model_module_version": "1.4.0",
      "model_name": "ButtonModel",
      "state": {
       "description": "Prev",
       "layout": "IPY_MODEL_6efa6f5eec904e0fa9fe7b7fcff42f32",
       "style": "IPY_MODEL_2f49f5a687b94ea292ec6b602d6a9a22"
      }
     },
     "07029f2b5fba4d9fbb1140ba469f3ed2": {
      "model_module": "@jupyter-widgets/controls",
      "model_module_version": "1.4.0",
      "model_name": "ButtonModel",
      "state": {
       "description": "First",
       "layout": "IPY_MODEL_e389a37b3d0c41ac8a3f83078b635d71",
       "style": "IPY_MODEL_2aca774dcf824edda9e1a5daab0eadfb"
      }
     },
     "0c9d7996cdc840d99fa2356d3717fcd2": {
      "model_module": "@jupyter-widgets/controls",
      "model_module_version": "1.4.0",
      "model_name": "ButtonStyleModel",
      "state": {}
     },
     "1026abed86e3426aa6a7eb3269c47047": {
      "model_module": "@jupyter-widgets/base",
      "model_module_version": "1.1.0",
      "model_name": "LayoutModel",
      "state": {}
     },
     "1974965e253a4af9a6e32fac19242371": {
      "model_module": "@jupyter-widgets/base",
      "model_module_version": "1.1.0",
      "model_name": "LayoutModel",
      "state": {}
     },
     "199c0e59dc66472880b9be6116f95dc9": {
      "model_module": "@jupyter-widgets/controls",
      "model_module_version": "1.4.0",
      "model_name": "SliderStyleModel",
      "state": {
       "description_width": ""
      }
     },
     "20475c2114374244bfd98e894f3f885b": {
      "model_module": "@jupyter-widgets/base",
      "model_module_version": "1.1.0",
      "model_name": "LayoutModel",
      "state": {}
     },
     "21998f7792164b098ffe9fdea1124017": {
      "model_module": "@jupyter-widgets/controls",
      "model_module_version": "1.4.0",
      "model_name": "BoundedIntTextModel",
      "state": {
       "layout": "IPY_MODEL_a0fb080865e349a6b5cb48af0aa6baf7",
       "max": 2340,
       "style": "IPY_MODEL_de6e00bfba024c29834a80ab395277e6",
       "value": 52
      }
     },
     "23911fe1249043abbd6d68078612b427": {
      "model_module": "@jupyter-widgets/controls",
      "model_module_version": "1.4.0",
      "model_name": "ButtonStyleModel",
      "state": {}
     },
     "26f6697efc294afea3ddd2d3a44c25f7": {
      "model_module": "@jupyter-widgets/controls",
      "model_module_version": "1.4.0",
      "model_name": "ButtonStyleModel",
      "state": {}
     },
     "2aca774dcf824edda9e1a5daab0eadfb": {
      "model_module": "@jupyter-widgets/controls",
      "model_module_version": "1.4.0",
      "model_name": "ButtonStyleModel",
      "state": {}
     },
     "2f49f5a687b94ea292ec6b602d6a9a22": {
      "model_module": "@jupyter-widgets/controls",
      "model_module_version": "1.4.0",
      "model_name": "ButtonStyleModel",
      "state": {}
     },
     "32d21bdc2c1b4418936721c2da0da036": {
      "model_module": "@jupyter-widgets/controls",
      "model_module_version": "1.4.0",
      "model_name": "ButtonModel",
      "state": {
       "description": "Next",
       "layout": "IPY_MODEL_40008dc26a354f16a7014a23480cd026",
       "style": "IPY_MODEL_3e4fb286047c4d00aff1fb5d70d68487"
      }
     },
     "34003ed83bfe4a45ada878974496ab17": {
      "model_module": "@jupyter-widgets/base",
      "model_module_version": "1.1.0",
      "model_name": "LayoutModel",
      "state": {}
     },
     "34419b00e5e84325b0e62c07e8f9a994": {
      "model_module": "@jupyter-widgets/base",
      "model_module_version": "1.1.0",
      "model_name": "LayoutModel",
      "state": {}
     },
     "38220b7c4f214bd380a8b66638dcc33b": {
      "model_module": "@jupyter-widgets/controls",
      "model_module_version": "1.4.0",
      "model_name": "ButtonModel",
      "state": {
       "description": "Random",
       "layout": "IPY_MODEL_45f4622a2969435fad4968ebc7e90a0e",
       "style": "IPY_MODEL_dd3f2aec12af478a91bc46b4ed133289"
      }
     },
     "3a752483632b4902bda52aa91fd93866": {
      "model_module": "@jupyter-widgets/controls",
      "model_module_version": "1.4.0",
      "model_name": "ButtonStyleModel",
      "state": {}
     },
     "3b28b674c54a42ef9453ebe890b1de47": {
      "model_module": "@jupyter-widgets/base",
      "model_module_version": "1.1.0",
      "model_name": "LayoutModel",
      "state": {}
     },
     "3e4fb286047c4d00aff1fb5d70d68487": {
      "model_module": "@jupyter-widgets/controls",
      "model_module_version": "1.4.0",
      "model_name": "ButtonStyleModel",
      "state": {}
     },
     "40008dc26a354f16a7014a23480cd026": {
      "model_module": "@jupyter-widgets/base",
      "model_module_version": "1.1.0",
      "model_name": "LayoutModel",
      "state": {}
     },
     "45f4622a2969435fad4968ebc7e90a0e": {
      "model_module": "@jupyter-widgets/base",
      "model_module_version": "1.1.0",
      "model_name": "LayoutModel",
      "state": {}
     },
     "48cb25a149d643548ff32182637428f8": {
      "model_module": "@jupyter-widgets/controls",
      "model_module_version": "1.4.0",
      "model_name": "ButtonModel",
      "state": {
       "description": "First",
       "layout": "IPY_MODEL_b0aba2b07bb748fdbabd1f2d2815bd39",
       "style": "IPY_MODEL_ec9cfcc638044b119731f3e90a4cc56e"
      }
     },
     "4bfa4630f91f4f22a35cc7271301965e": {
      "model_module": "@jupyter-widgets/controls",
      "model_module_version": "1.4.0",
      "model_name": "IntSliderModel",
      "state": {
       "layout": "IPY_MODEL_df2d8b6d6a9040b89e200b605e2b4532",
       "max": 2340,
       "readout": false,
       "style": "IPY_MODEL_706c1feec9df4e6b8ad64f4aa37c2cee"
      }
     },
     "4cf64c7bcd0441b5b2322733e63f6ac9": {
      "model_module": "@jupyter-widgets/base",
      "model_module_version": "1.1.0",
      "model_name": "LayoutModel",
      "state": {}
     },
     "4ddb2d2da4e547c8957aa4e0ffd3db55": {
      "model_module": "@jupyter-widgets/base",
      "model_module_version": "1.1.0",
      "model_name": "LayoutModel",
      "state": {}
     },
     "53ab7e4e1fe5477daff2da7edb7bce5a": {
      "model_module": "@jupyter-widgets/controls",
      "model_module_version": "1.4.0",
      "model_name": "ButtonStyleModel",
      "state": {}
     },
     "5591eae98b8f4047b15ae5c87a100d6a": {
      "model_module": "@jupyter-widgets/base",
      "model_module_version": "1.1.0",
      "model_name": "LayoutModel",
      "state": {
       "width": "99%"
      }
     },
     "60558183ffa54bb1aa56d5c4e37e8204": {
      "model_module": "@jupyter-widgets/base",
      "model_module_version": "1.1.0",
      "model_name": "LayoutModel",
      "state": {}
     },
     "60fcf16f791046068dee2c89fbcd2d0b": {
      "model_module": "@jupyter-widgets/controls",
      "model_module_version": "1.4.0",
      "model_name": "SliderStyleModel",
      "state": {
       "description_width": ""
      }
     },
     "6b717033212242d7b6bdede4b08ca7bb": {
      "model_module": "@jupyter-widgets/controls",
      "model_module_version": "1.4.0",
      "model_name": "LinkModel",
      "state": {
       "source": [
        "IPY_MODEL_c19944ef1d5046329e9f9f46038d9fff",
        "value"
       ],
       "target": [
        "IPY_MODEL_4bfa4630f91f4f22a35cc7271301965e",
        "value"
       ]
      }
     },
     "6d7c5465f7f0462bb04eb83ce4f468f9": {
      "model_module": "@jupyter-widgets/controls",
      "model_module_version": "1.4.0",
      "model_name": "ButtonModel",
      "state": {
       "description": "Last",
       "layout": "IPY_MODEL_d6d65e88936648d08e6068c2e01cab58",
       "style": "IPY_MODEL_83f6a2b8e52144b3bfe90c42c30b3f87"
      }
     },
     "6efa6f5eec904e0fa9fe7b7fcff42f32": {
      "model_module": "@jupyter-widgets/base",
      "model_module_version": "1.1.0",
      "model_name": "LayoutModel",
      "state": {}
     },
     "6fe3ad8b2fdb4d2bb860fc95d8eca08f": {
      "model_module": "@jupyter-widgets/controls",
      "model_module_version": "1.4.0",
      "model_name": "HBoxModel",
      "state": {
       "children": [
        "IPY_MODEL_eaa1a69443824149b848dcda3a249841",
        "IPY_MODEL_0632db06e9424dd3b6ce7a0caf25bb72",
        "IPY_MODEL_dda001bb37224c4b8662fc2bb3e2c475",
        "IPY_MODEL_fa1c53edcd12464b8e83d8ec4fcb4315",
        "IPY_MODEL_6d7c5465f7f0462bb04eb83ce4f468f9",
        "IPY_MODEL_38220b7c4f214bd380a8b66638dcc33b"
       ],
       "layout": "IPY_MODEL_ca120cbee6a64cdd8d831d318c58d648"
      }
     },
     "706c1feec9df4e6b8ad64f4aa37c2cee": {
      "model_module": "@jupyter-widgets/controls",
      "model_module_version": "1.4.0",
      "model_name": "SliderStyleModel",
      "state": {
       "description_width": ""
      }
     },
     "72b6cc32e8eb49d2867b51535f01c8ab": {
      "model_module": "@jupyter-widgets/controls",
      "model_module_version": "1.4.0",
      "model_name": "ButtonStyleModel",
      "state": {}
     },
     "745cf4aeaaa3444c90bd62fc34b459e5": {
      "model_module": "@jupyter-widgets/base",
      "model_module_version": "1.1.0",
      "model_name": "LayoutModel",
      "state": {}
     },
     "77a9b872980c40adb833cb011c06d141": {
      "model_module": "@jupyter-widgets/controls",
      "model_module_version": "1.4.0",
      "model_name": "ButtonStyleModel",
      "state": {}
     },
     "83f6a2b8e52144b3bfe90c42c30b3f87": {
      "model_module": "@jupyter-widgets/controls",
      "model_module_version": "1.4.0",
      "model_name": "ButtonStyleModel",
      "state": {}
     },
     "89a4216e382a4be1a9445f74d4f84900": {
      "model_module": "@jupyter-widgets/controls",
      "model_module_version": "1.4.0",
      "model_name": "ButtonStyleModel",
      "state": {}
     },
     "8a2c3794445f4142ac64f6b6bbd5a697": {
      "model_module": "@jupyter-widgets/controls",
      "model_module_version": "1.4.0",
      "model_name": "ButtonModel",
      "state": {
       "description": "Last",
       "layout": "IPY_MODEL_cfe12f387871438e80cebabcf9914f19",
       "style": "IPY_MODEL_26f6697efc294afea3ddd2d3a44c25f7"
      }
     },
     "8ab5fa847a214895abe0ff3161c66118": {
      "model_module": "@jupyter-widgets/controls",
      "model_module_version": "1.4.0",
      "model_name": "ButtonModel",
      "state": {
       "description": "Random",
       "layout": "IPY_MODEL_3b28b674c54a42ef9453ebe890b1de47",
       "style": "IPY_MODEL_77a9b872980c40adb833cb011c06d141"
      }
     },
     "8b993c1594c846a1860159e368c5d66a": {
      "model_module": "@jupyter-widgets/controls",
      "model_module_version": "1.4.0",
      "model_name": "DescriptionStyleModel",
      "state": {
       "description_width": ""
      }
     },
     "91acd0ba8d574b2a89c1d6497ab411df": {
      "model_module": "@jupyter-widgets/controls",
      "model_module_version": "1.4.0",
      "model_name": "ButtonModel",
      "state": {
       "description": "Prev",
       "layout": "IPY_MODEL_1026abed86e3426aa6a7eb3269c47047",
       "style": "IPY_MODEL_23911fe1249043abbd6d68078612b427"
      }
     },
     "963ebf029b3a4edebfb71c140d4436ca": {
      "model_module": "@jupyter-widgets/controls",
      "model_module_version": "1.4.0",
      "model_name": "ButtonModel",
      "state": {
       "description": "Next",
       "layout": "IPY_MODEL_20475c2114374244bfd98e894f3f885b",
       "style": "IPY_MODEL_3a752483632b4902bda52aa91fd93866"
      }
     },
     "a0fb080865e349a6b5cb48af0aa6baf7": {
      "model_module": "@jupyter-widgets/base",
      "model_module_version": "1.1.0",
      "model_name": "LayoutModel",
      "state": {}
     },
     "a1a13a8f2c6e41d9807af0f68324f5e6": {
      "model_module": "@jupyter-widgets/base",
      "model_module_version": "1.1.0",
      "model_name": "LayoutModel",
      "state": {}
     },
     "a1bc4ee4530946929d9426c0372564e9": {
      "model_module": "@jupyter-widgets/controls",
      "model_module_version": "1.4.0",
      "model_name": "LinkModel",
      "state": {
       "source": [
        "IPY_MODEL_21998f7792164b098ffe9fdea1124017",
        "value"
       ],
       "target": [
        "IPY_MODEL_fc63aff425624f3cafac734cc875abc0",
        "value"
       ]
      }
     },
     "a84d9ecccf09441d8b5ce10133f6abd6": {
      "model_module": "@jupyter-widgets/base",
      "model_module_version": "1.1.0",
      "model_name": "LayoutModel",
      "state": {}
     },
     "b0aba2b07bb748fdbabd1f2d2815bd39": {
      "model_module": "@jupyter-widgets/base",
      "model_module_version": "1.1.0",
      "model_name": "LayoutModel",
      "state": {}
     },
     "b32219c104f94711940d5174e22c19c5": {
      "model_module": "@jupyter-widgets/controls",
      "model_module_version": "1.4.0",
      "model_name": "VBoxModel",
      "state": {
       "children": [
        "IPY_MODEL_c7d966048a7d4cb894ff59f3134fd70a",
        "IPY_MODEL_fc63aff425624f3cafac734cc875abc0"
       ],
       "layout": "IPY_MODEL_4ddb2d2da4e547c8957aa4e0ffd3db55"
      }
     },
     "bb2d04eb5d784dbf92bbf51e4f3e2f79": {
      "model_module": "@jupyter-widgets/controls",
      "model_module_version": "1.4.0",
      "model_name": "IntSliderModel",
      "state": {
       "layout": "IPY_MODEL_5591eae98b8f4047b15ae5c87a100d6a",
       "max": 2340,
       "readout": false,
       "style": "IPY_MODEL_60fcf16f791046068dee2c89fbcd2d0b",
       "value": 437
      }
     },
     "bdd37ca02a40484b8af738dc6f002a62": {
      "model_module": "@jupyter-widgets/controls",
      "model_module_version": "1.4.0",
      "model_name": "LinkModel",
      "state": {
       "source": [
        "IPY_MODEL_dda001bb37224c4b8662fc2bb3e2c475",
        "value"
       ],
       "target": [
        "IPY_MODEL_bb2d04eb5d784dbf92bbf51e4f3e2f79",
        "value"
       ]
      }
     },
     "c040896bd8574e6da54bde004e86bf74": {
      "model_module": "@jupyter-widgets/controls",
      "model_module_version": "1.4.0",
      "model_name": "ButtonModel",
      "state": {
       "description": "Random",
       "layout": "IPY_MODEL_a84d9ecccf09441d8b5ce10133f6abd6",
       "style": "IPY_MODEL_89a4216e382a4be1a9445f74d4f84900"
      }
     },
     "c19944ef1d5046329e9f9f46038d9fff": {
      "model_module": "@jupyter-widgets/controls",
      "model_module_version": "1.4.0",
      "model_name": "BoundedIntTextModel",
      "state": {
       "layout": "IPY_MODEL_c93acc8dd63f41e6bd4090edc5d23516",
       "max": 2340,
       "style": "IPY_MODEL_e375e70412f34e4c89efdde990c0d3ab"
      }
     },
     "c317d941f6794851bb0f6bec8924d3cc": {
      "model_module": "@jupyter-widgets/base",
      "model_module_version": "1.1.0",
      "model_name": "LayoutModel",
      "state": {}
     },
     "c36b94f7e7ab4847a909653ec96affab": {
      "model_module": "@jupyter-widgets/controls",
      "model_module_version": "1.4.0",
      "model_name": "VBoxModel",
      "state": {
       "children": [
        "IPY_MODEL_6fe3ad8b2fdb4d2bb860fc95d8eca08f",
        "IPY_MODEL_bb2d04eb5d784dbf92bbf51e4f3e2f79"
       ],
       "layout": "IPY_MODEL_60558183ffa54bb1aa56d5c4e37e8204"
      }
     },
     "c65d0efec26c411b90f17333541d519a": {
      "model_module": "@jupyter-widgets/controls",
      "model_module_version": "1.4.0",
      "model_name": "ButtonStyleModel",
      "state": {}
     },
     "c7d966048a7d4cb894ff59f3134fd70a": {
      "model_module": "@jupyter-widgets/controls",
      "model_module_version": "1.4.0",
      "model_name": "HBoxModel",
      "state": {
       "children": [
        "IPY_MODEL_07029f2b5fba4d9fbb1140ba469f3ed2",
        "IPY_MODEL_91acd0ba8d574b2a89c1d6497ab411df",
        "IPY_MODEL_21998f7792164b098ffe9fdea1124017",
        "IPY_MODEL_32d21bdc2c1b4418936721c2da0da036",
        "IPY_MODEL_e245694ee63247f08675148501da80e2",
        "IPY_MODEL_8ab5fa847a214895abe0ff3161c66118"
       ],
       "layout": "IPY_MODEL_745cf4aeaaa3444c90bd62fc34b459e5"
      }
     },
     "c93acc8dd63f41e6bd4090edc5d23516": {
      "model_module": "@jupyter-widgets/base",
      "model_module_version": "1.1.0",
      "model_name": "LayoutModel",
      "state": {}
     },
     "ca120cbee6a64cdd8d831d318c58d648": {
      "model_module": "@jupyter-widgets/base",
      "model_module_version": "1.1.0",
      "model_name": "LayoutModel",
      "state": {}
     },
     "cfe12f387871438e80cebabcf9914f19": {
      "model_module": "@jupyter-widgets/base",
      "model_module_version": "1.1.0",
      "model_name": "LayoutModel",
      "state": {}
     },
     "d329161ca4554b2ea094c025ac5c83cb": {
      "model_module": "@jupyter-widgets/controls",
      "model_module_version": "1.4.0",
      "model_name": "ButtonModel",
      "state": {
       "description": "Prev",
       "layout": "IPY_MODEL_1974965e253a4af9a6e32fac19242371",
       "style": "IPY_MODEL_c65d0efec26c411b90f17333541d519a"
      }
     },
     "d4fcb4da62364e168b9f89a4d9c3554a": {
      "model_module": "@jupyter-widgets/controls",
      "model_module_version": "1.4.0",
      "model_name": "HBoxModel",
      "state": {
       "children": [
        "IPY_MODEL_48cb25a149d643548ff32182637428f8",
        "IPY_MODEL_d329161ca4554b2ea094c025ac5c83cb",
        "IPY_MODEL_c19944ef1d5046329e9f9f46038d9fff",
        "IPY_MODEL_963ebf029b3a4edebfb71c140d4436ca",
        "IPY_MODEL_8a2c3794445f4142ac64f6b6bbd5a697",
        "IPY_MODEL_c040896bd8574e6da54bde004e86bf74"
       ],
       "layout": "IPY_MODEL_4cf64c7bcd0441b5b2322733e63f6ac9"
      }
     },
     "d6d65e88936648d08e6068c2e01cab58": {
      "model_module": "@jupyter-widgets/base",
      "model_module_version": "1.1.0",
      "model_name": "LayoutModel",
      "state": {}
     },
     "dd3f2aec12af478a91bc46b4ed133289": {
      "model_module": "@jupyter-widgets/controls",
      "model_module_version": "1.4.0",
      "model_name": "ButtonStyleModel",
      "state": {}
     },
     "dda001bb37224c4b8662fc2bb3e2c475": {
      "model_module": "@jupyter-widgets/controls",
      "model_module_version": "1.4.0",
      "model_name": "BoundedIntTextModel",
      "state": {
       "layout": "IPY_MODEL_34419b00e5e84325b0e62c07e8f9a994",
       "max": 2340,
       "style": "IPY_MODEL_8b993c1594c846a1860159e368c5d66a",
       "value": 437
      }
     },
     "de6e00bfba024c29834a80ab395277e6": {
      "model_module": "@jupyter-widgets/controls",
      "model_module_version": "1.4.0",
      "model_name": "DescriptionStyleModel",
      "state": {
       "description_width": ""
      }
     },
     "df2d8b6d6a9040b89e200b605e2b4532": {
      "model_module": "@jupyter-widgets/base",
      "model_module_version": "1.1.0",
      "model_name": "LayoutModel",
      "state": {
       "width": "99%"
      }
     },
     "e245694ee63247f08675148501da80e2": {
      "model_module": "@jupyter-widgets/controls",
      "model_module_version": "1.4.0",
      "model_name": "ButtonModel",
      "state": {
       "description": "Last",
       "layout": "IPY_MODEL_e9cc9a9a97ab4074aa43b30df1299173",
       "style": "IPY_MODEL_0c9d7996cdc840d99fa2356d3717fcd2"
      }
     },
     "e375e70412f34e4c89efdde990c0d3ab": {
      "model_module": "@jupyter-widgets/controls",
      "model_module_version": "1.4.0",
      "model_name": "DescriptionStyleModel",
      "state": {
       "description_width": ""
      }
     },
     "e389a37b3d0c41ac8a3f83078b635d71": {
      "model_module": "@jupyter-widgets/base",
      "model_module_version": "1.1.0",
      "model_name": "LayoutModel",
      "state": {}
     },
     "e6c5ac1c909546f9b8988fc9c10a635b": {
      "model_module": "@jupyter-widgets/base",
      "model_module_version": "1.1.0",
      "model_name": "LayoutModel",
      "state": {
       "width": "99%"
      }
     },
     "e8c017e3deb14a14ac6f7718d3448dbe": {
      "model_module": "@jupyter-widgets/controls",
      "model_module_version": "1.4.0",
      "model_name": "VBoxModel",
      "state": {
       "children": [
        "IPY_MODEL_d4fcb4da62364e168b9f89a4d9c3554a",
        "IPY_MODEL_4bfa4630f91f4f22a35cc7271301965e"
       ],
       "layout": "IPY_MODEL_a1a13a8f2c6e41d9807af0f68324f5e6"
      }
     },
     "e9cc9a9a97ab4074aa43b30df1299173": {
      "model_module": "@jupyter-widgets/base",
      "model_module_version": "1.1.0",
      "model_name": "LayoutModel",
      "state": {}
     },
     "eaa1a69443824149b848dcda3a249841": {
      "model_module": "@jupyter-widgets/controls",
      "model_module_version": "1.4.0",
      "model_name": "ButtonModel",
      "state": {
       "description": "First",
       "layout": "IPY_MODEL_c317d941f6794851bb0f6bec8924d3cc",
       "style": "IPY_MODEL_53ab7e4e1fe5477daff2da7edb7bce5a"
      }
     },
     "ec9cfcc638044b119731f3e90a4cc56e": {
      "model_module": "@jupyter-widgets/controls",
      "model_module_version": "1.4.0",
      "model_name": "ButtonStyleModel",
      "state": {}
     },
     "fa1c53edcd12464b8e83d8ec4fcb4315": {
      "model_module": "@jupyter-widgets/controls",
      "model_module_version": "1.4.0",
      "model_name": "ButtonModel",
      "state": {
       "description": "Next",
       "layout": "IPY_MODEL_34003ed83bfe4a45ada878974496ab17",
       "style": "IPY_MODEL_72b6cc32e8eb49d2867b51535f01c8ab"
      }
     },
     "fc63aff425624f3cafac734cc875abc0": {
      "model_module": "@jupyter-widgets/controls",
      "model_module_version": "1.4.0",
      "model_name": "IntSliderModel",
      "state": {
       "layout": "IPY_MODEL_e6c5ac1c909546f9b8988fc9c10a635b",
       "max": 2340,
       "readout": false,
       "style": "IPY_MODEL_199c0e59dc66472880b9be6116f95dc9",
       "value": 52
      }
     }
    },
    "version_major": 2,
    "version_minor": 0
   }
  }
 },
 "nbformat": 4,
 "nbformat_minor": 2
}

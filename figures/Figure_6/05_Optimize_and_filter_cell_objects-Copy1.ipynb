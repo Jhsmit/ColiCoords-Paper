{
 "cells": [
  {
   "cell_type": "code",
   "execution_count": null,
   "metadata": {},
   "outputs": [],
   "source": [
    "%matplotlib notebook\n",
    "import matplotlib.pyplot as plt\n",
    "from colicoords import iter_subplots, save, load, IterCellPlot, AutoIterCellPlot, CellListPlot\n",
    "import numpy as np\n",
    "import tifffile"
   ]
  },
  {
   "cell_type": "markdown",
   "metadata": {},
   "source": [
    "# Cy3B-NHS"
   ]
  },
  {
   "cell_type": "code",
   "execution_count": null,
   "metadata": {},
   "outputs": [],
   "source": [
    "cells = load('Cy3B_NHS/cells_raw.hdf5')\n",
    "len(cells)"
   ]
  },
  {
   "cell_type": "markdown",
   "metadata": {},
   "source": [
    "First, we optimize the cells based on the binary image"
   ]
  },
  {
   "cell_type": "code",
   "execution_count": null,
   "metadata": {},
   "outputs": [],
   "source": [
    "res = cells.optimize_mp()"
   ]
  },
  {
   "cell_type": "code",
   "execution_count": null,
   "metadata": {},
   "outputs": [],
   "source": [
    "obj_vals = np.array([r.objective_value for r in res])"
   ]
  },
  {
   "cell_type": "markdown",
   "metadata": {},
   "source": [
    "We can histogram the objective values of the fit, large values are an indication of the cells being badly segmented or the binary image might be of two cells just after division."
   ]
  },
  {
   "cell_type": "code",
   "execution_count": null,
   "metadata": {},
   "outputs": [],
   "source": [
    "plt.figure(figsize=(4,4))\n",
    "h = plt.hist(obj_vals, bins='fd', linewidth=0)"
   ]
  },
  {
   "cell_type": "markdown",
   "metadata": {},
   "source": [
    "Using ``AutoIterCellPlot`` we can quicly inspect the cells with a high objective value."
   ]
  },
  {
   "cell_type": "code",
   "execution_count": null,
   "metadata": {},
   "outputs": [],
   "source": [
    "b = obj_vals > 60\n",
    "aicp = AutoIterCellPlot(cells[b])\n",
    "aicp.plot()"
   ]
  },
  {
   "cell_type": "markdown",
   "metadata": {},
   "source": [
    "We use numpy-style boolean indexing to remove the outlying cells:"
   ]
  },
  {
   "cell_type": "code",
   "execution_count": null,
   "metadata": {},
   "outputs": [],
   "source": [
    "cells_obj = cells[~b].copy()"
   ]
  },
  {
   "cell_type": "markdown",
   "metadata": {},
   "source": [
    "In the next step, the coordinate system optimized based on the brightfield image. By using ``optimize_mp`` the workload is spread over all available CPU cores."
   ]
  },
  {
   "cell_type": "code",
   "execution_count": null,
   "metadata": {},
   "outputs": [],
   "source": [
    "res = cells_obj.optimize_mp('brightfield')"
   ]
  },
  {
   "cell_type": "markdown",
   "metadata": {},
   "source": [
    "We can make another plot of the resulting objective values:"
   ]
  },
  {
   "cell_type": "code",
   "execution_count": null,
   "metadata": {},
   "outputs": [],
   "source": [
    "obj_vals = np.array([r.objective_value for r in res])"
   ]
  },
  {
   "cell_type": "code",
   "execution_count": null,
   "metadata": {},
   "outputs": [],
   "source": [
    "plt.figure(figsize=(4,4))\n",
    "h = plt.hist(obj_vals, bins='fd', linewidth=0)"
   ]
  },
  {
   "cell_type": "code",
   "execution_count": null,
   "metadata": {},
   "outputs": [],
   "source": [
    "b = obj_vals > 0.5"
   ]
  },
  {
   "cell_type": "code",
   "execution_count": null,
   "metadata": {},
   "outputs": [],
   "source": [
    "cell_obj_bf = cells_obj[~b]\n",
    "len(cell_obj_bf)"
   ]
  },
  {
   "cell_type": "code",
   "execution_count": null,
   "metadata": {},
   "outputs": [],
   "source": [
    "cell_obj_bf = load('cells_final - Copy.hdf5')"
   ]
  },
  {
   "cell_type": "code",
   "execution_count": null,
   "metadata": {},
   "outputs": [],
   "source": [
    "cell_obj_bf.measure_r('brightfield', mode='mid')"
   ]
  },
  {
   "cell_type": "code",
   "execution_count": null,
   "metadata": {},
   "outputs": [],
   "source": [
    "plt.figure()\n",
    "h = plt.hist(cell_obj_bf.radius, bins='fd')"
   ]
  },
  {
   "cell_type": "code",
   "execution_count": null,
   "metadata": {},
   "outputs": [],
   "source": [
    "b = (cell_obj_bf.radius > 4.8) * (cell_obj_bf.radius < 6.7)"
   ]
  },
  {
   "cell_type": "code",
   "execution_count": null,
   "metadata": {},
   "outputs": [],
   "source": [
    "aicp = AutoIterCellPlot(cell_obj_bf[b])\n",
    "aicp.plot()"
   ]
  },
  {
   "cell_type": "code",
   "execution_count": null,
   "metadata": {},
   "outputs": [],
   "source": [
    "save('Cy3B_NHS/cells_final.hdf5', cell_obj_bf[b])"
   ]
  },
  {
   "cell_type": "code",
   "execution_count": null,
   "metadata": {},
   "outputs": [],
   "source": [
    "aicp = AutoIterCellPlot(cell_obj_bf)\n",
    "aicp.plot()"
   ]
  },
  {
   "cell_type": "markdown",
   "metadata": {},
   "source": [
    "# eGFP"
   ]
  },
  {
   "cell_type": "code",
   "execution_count": null,
   "metadata": {},
   "outputs": [],
   "source": [
    "cells = load('eGFP/cells_raw.hdf5')\n",
    "len(cells)"
   ]
  },
  {
   "cell_type": "code",
   "execution_count": null,
   "metadata": {},
   "outputs": [],
   "source": [
    "res = cells.optimize_mp()"
   ]
  },
  {
   "cell_type": "code",
   "execution_count": null,
   "metadata": {},
   "outputs": [],
   "source": [
    "obj_vals = np.array([r.objective_value for r in res])"
   ]
  },
  {
   "cell_type": "code",
   "execution_count": null,
   "metadata": {},
   "outputs": [],
   "source": [
    "plt.figure(figsize=(4,4))\n",
    "h = plt.hist(obj_vals, bins='fd', linewidth=0)"
   ]
  },
  {
   "cell_type": "code",
   "execution_count": null,
   "metadata": {},
   "outputs": [],
   "source": [
    "b = obj_vals > 90\n",
    "aicp = AutoIterCellPlot(cells[b])\n",
    "aicp.plot()"
   ]
  },
  {
   "cell_type": "code",
   "execution_count": null,
   "metadata": {},
   "outputs": [],
   "source": [
    "cells_obj = cells[~b].copy()"
   ]
  },
  {
   "cell_type": "code",
   "execution_count": null,
   "metadata": {},
   "outputs": [],
   "source": [
    "res = cells_obj.optimize_mp('brightfield')"
   ]
  },
  {
   "cell_type": "code",
   "execution_count": null,
   "metadata": {},
   "outputs": [],
   "source": [
    "obj_vals = np.array([r.objective_value for r in res])"
   ]
  },
  {
   "cell_type": "code",
   "execution_count": null,
   "metadata": {},
   "outputs": [],
   "source": [
    "gof = obj_vals / cells_obj.area\n",
    "plt.figure(figsize=(4,4))\n",
    "h = plt.hist(obj_vals, bins='fd', linewidth=0)"
   ]
  },
  {
   "cell_type": "code",
   "execution_count": null,
   "metadata": {},
   "outputs": [],
   "source": [
    "b = obj_vals > 2"
   ]
  },
  {
   "cell_type": "code",
   "execution_count": null,
   "metadata": {},
   "outputs": [],
   "source": [
    "cell_obj_bf = cells_obj[~b]\n",
    "len(cell_obj_bf)"
   ]
  },
  {
   "cell_type": "code",
   "execution_count": null,
   "metadata": {},
   "outputs": [],
   "source": [
    "save('eGFP/cells_final.hdf5', cell_obj_bf)"
   ]
  },
  {
   "cell_type": "code",
   "execution_count": null,
   "metadata": {},
   "outputs": [],
   "source": [
    "cell_obj_bf = load('eGFP/cells_final.hdf5')"
   ]
  },
  {
   "cell_type": "code",
   "execution_count": null,
   "metadata": {},
   "outputs": [],
   "source": [
    "len(cell_obj_bf)"
   ]
  },
  {
   "cell_type": "code",
   "execution_count": null,
   "metadata": {},
   "outputs": [],
   "source": [
    "cell_obj_bf.measure_r('brightfield', mode='mid')"
   ]
  },
  {
   "cell_type": "code",
   "execution_count": null,
   "metadata": {},
   "outputs": [],
   "source": [
    "plt.figure()\n",
    "h = plt.hist(cell_obj_bf.radius, bins='fd')"
   ]
  },
  {
   "cell_type": "code",
   "execution_count": null,
   "metadata": {},
   "outputs": [],
   "source": [
    "b = (cell_obj_bf.radius > 3.85) * (cell_obj_bf.radius < 6.7)"
   ]
  },
  {
   "cell_type": "code",
   "execution_count": null,
   "metadata": {},
   "outputs": [],
   "source": [
    "sum(b), len(cell_obj_bf)"
   ]
  },
  {
   "cell_type": "code",
   "execution_count": null,
   "metadata": {},
   "outputs": [],
   "source": [
    "aicp = AutoIterCellPlot(cell_obj_bf[b])\n",
    "aicp.plot()"
   ]
  },
  {
   "cell_type": "code",
   "execution_count": null,
   "metadata": {},
   "outputs": [],
   "source": [
    "save('eGFP/cells_final.hdf5', cell_obj_bf[b])"
   ]
  },
  {
   "cell_type": "code",
   "execution_count": null,
   "metadata": {},
   "outputs": [],
   "source": []
  }
 ],
 "metadata": {
  "kernelspec": {
   "display_name": "Python 3",
   "language": "python",
   "name": "python3"
  },
  "language_info": {
   "codemirror_mode": {
    "name": "ipython",
    "version": 3
   },
   "file_extension": ".py",
   "mimetype": "text/x-python",
   "name": "python",
   "nbconvert_exporter": "python",
   "pygments_lexer": "ipython3",
   "version": "3.6.5"
  },
  "widgets": {
   "application/vnd.jupyter.widget-state+json": {
    "state": {
     "01eb1c95404f4a55975aa47818372e2c": {
      "model_module": "@jupyter-widgets/controls",
      "model_module_version": "1.4.0",
      "model_name": "ButtonModel",
      "state": {
       "description": "Last",
       "layout": "IPY_MODEL_9fefd6b86fb34d4a99b23259f7b8922a",
       "style": "IPY_MODEL_1e9b11bd7a37431f917541aeaa98cf2d"
      }
     },
     "020882fdcd2a4d5389ab6914471cb79f": {
      "model_module": "@jupyter-widgets/base",
      "model_module_version": "1.1.0",
      "model_name": "LayoutModel",
      "state": {}
     },
     "025f678d10e74fe59cd9f833d65c6172": {
      "model_module": "@jupyter-widgets/controls",
      "model_module_version": "1.4.0",
      "model_name": "ButtonModel",
      "state": {
       "description": "Next",
       "layout": "IPY_MODEL_4c3fe83d17fb43769852e01d20272a1c",
       "style": "IPY_MODEL_e81b43eb6c8347aba549b0582b132e00"
      }
     },
     "0381fa45eb0a45faa60b48411cf64ac0": {
      "model_module": "@jupyter-widgets/base",
      "model_module_version": "1.1.0",
      "model_name": "LayoutModel",
      "state": {}
     },
     "03dac6f20ba8475f8df048740ae71188": {
      "model_module": "@jupyter-widgets/base",
      "model_module_version": "1.1.0",
      "model_name": "LayoutModel",
      "state": {}
     },
     "045e8ca52c314837958ce03ac7af19a3": {
      "model_module": "@jupyter-widgets/base",
      "model_module_version": "1.1.0",
      "model_name": "LayoutModel",
      "state": {}
     },
     "0529fcfab9c54354b7d29e9dd7ce9ebb": {
      "model_module": "@jupyter-widgets/controls",
      "model_module_version": "1.4.0",
      "model_name": "ButtonStyleModel",
      "state": {}
     },
     "05a69c5627414414a116a4827ba8ffd3": {
      "model_module": "@jupyter-widgets/base",
      "model_module_version": "1.1.0",
      "model_name": "LayoutModel",
      "state": {}
     },
     "05bfae6e50574b3e92333b24a699f34f": {
      "model_module": "@jupyter-widgets/controls",
      "model_module_version": "1.4.0",
      "model_name": "HBoxModel",
      "state": {
       "children": [
        "IPY_MODEL_85e395775b2f42558744da3adb4e2509",
        "IPY_MODEL_5b14bc8c85b1426a876e10348b46b9f9",
        "IPY_MODEL_6d316e3f1f7d489e9ba88d57eb0a9652",
        "IPY_MODEL_77391c1ee062472d8786ffd866f83b97",
        "IPY_MODEL_b203d341815547efa9f1cc6ed12d348f",
        "IPY_MODEL_39e661027b4143488e1f3bfbd059a2d0"
       ],
       "layout": "IPY_MODEL_045e8ca52c314837958ce03ac7af19a3"
      }
     },
     "0608cb44acda461f95ea8750eff9f903": {
      "model_module": "@jupyter-widgets/controls",
      "model_module_version": "1.4.0",
      "model_name": "ButtonModel",
      "state": {
       "description": "Random",
       "layout": "IPY_MODEL_1ab4dc697dd947b99d0dc05a06dd11ae",
       "style": "IPY_MODEL_467ea2f77e5e4883acf5f48709ee80ff"
      }
     },
     "0641a3f169424649946ec1ebf4ec2d95": {
      "model_module": "@jupyter-widgets/base",
      "model_module_version": "1.1.0",
      "model_name": "LayoutModel",
      "state": {}
     },
     "065f4de50adc49269bbc0c767f662172": {
      "model_module": "@jupyter-widgets/controls",
      "model_module_version": "1.4.0",
      "model_name": "SliderStyleModel",
      "state": {
       "description_width": ""
      }
     },
     "0691d2d2b6d8476e8ef62b25f4b66228": {
      "model_module": "@jupyter-widgets/controls",
      "model_module_version": "1.4.0",
      "model_name": "HBoxModel",
      "state": {
       "children": [
        "IPY_MODEL_f57595acb6ea49f4abd2339d6a237f38",
        "IPY_MODEL_b342c24e69dc4e3c944d33e0baae6367",
        "IPY_MODEL_dea89da1649e4ef980eae208f673cb43",
        "IPY_MODEL_c6e4d8049a6d4f019e85d9c480b78cda",
        "IPY_MODEL_263f7f0e05b8492aa2c37422934a1a6a",
        "IPY_MODEL_94bfb336f6b2498899ab179cc9e98083"
       ],
       "layout": "IPY_MODEL_86d9a73e4d2e4e7db728f63a35ac9db0"
      }
     },
     "076c220919f241969d5effed10ed8c12": {
      "model_module": "@jupyter-widgets/base",
      "model_module_version": "1.1.0",
      "model_name": "LayoutModel",
      "state": {
       "width": "99%"
      }
     },
     "0840e54ac2484ebeade3bdb8a38fd9dc": {
      "model_module": "@jupyter-widgets/controls",
      "model_module_version": "1.4.0",
      "model_name": "HBoxModel",
      "state": {
       "children": [
        "IPY_MODEL_56ee9ff0634b4dd689ea3d4e7a0efb7c",
        "IPY_MODEL_c6b21879401b4508a513cd3736259ee2"
       ],
       "layout": "IPY_MODEL_61665d2f1cc2497593dfab5ba45f0183"
      }
     },
     "0850014aeef84cf4948b12c0361de29b": {
      "model_module": "@jupyter-widgets/controls",
      "model_module_version": "1.4.0",
      "model_name": "DescriptionStyleModel",
      "state": {
       "description_width": ""
      }
     },
     "08b4407d7d184e47b25b9c8e794600cf": {
      "model_module": "@jupyter-widgets/controls",
      "model_module_version": "1.4.0",
      "model_name": "ButtonModel",
      "state": {
       "description": "Prev",
       "layout": "IPY_MODEL_30533473adca4b15a4e374174414da29",
       "style": "IPY_MODEL_94ec08000eb34df8a8337f6e8e896bf3"
      }
     },
     "08fe8bab74804d6b99a2753d6c794a51": {
      "model_module": "@jupyter-widgets/base",
      "model_module_version": "1.1.0",
      "model_name": "LayoutModel",
      "state": {}
     },
     "097b3c0623b04d419a5efc09ffc4693d": {
      "model_module": "@jupyter-widgets/base",
      "model_module_version": "1.1.0",
      "model_name": "LayoutModel",
      "state": {}
     },
     "0a06e2e46a724d4092c4c256e2b291b8": {
      "model_module": "@jupyter-widgets/controls",
      "model_module_version": "1.4.0",
      "model_name": "ButtonStyleModel",
      "state": {}
     },
     "0a8a7cefc70e4ba69a142cafea6333ea": {
      "model_module": "@jupyter-widgets/controls",
      "model_module_version": "1.4.0",
      "model_name": "HBoxModel",
      "state": {
       "children": [
        "IPY_MODEL_9d6a6aab75a249bb9291fa198381fa00",
        "IPY_MODEL_41aeefcb62c849cfac18893415005d40",
        "IPY_MODEL_ee0fd3098ef34cf2890f65aab04fc67e",
        "IPY_MODEL_8d6999b6097c4abe9f9f25de894b46dc",
        "IPY_MODEL_956479a32b46486e83ec179d1db0d0e7",
        "IPY_MODEL_93f9a43a229745cd9f85eba2a650bd56"
       ],
       "layout": "IPY_MODEL_26c3efb185d94811b9557162dd9d9167"
      }
     },
     "0aeb796689a34266a9d30a24bf453960": {
      "model_module": "@jupyter-widgets/controls",
      "model_module_version": "1.4.0",
      "model_name": "ProgressStyleModel",
      "state": {
       "description_width": ""
      }
     },
     "0b158c5286814d34b3f54493d3c5008c": {
      "model_module": "@jupyter-widgets/base",
      "model_module_version": "1.1.0",
      "model_name": "LayoutModel",
      "state": {}
     },
     "0ba7cda4a8be48b0a293dca0e1dcab82": {
      "model_module": "@jupyter-widgets/controls",
      "model_module_version": "1.4.0",
      "model_name": "ButtonModel",
      "state": {
       "description": "First",
       "layout": "IPY_MODEL_d07bb6d2f3d84c92b305dbf38f69bc64",
       "style": "IPY_MODEL_a5066c4e451849559faae255bc2944c9"
      }
     },
     "0bbbd7b0419942edb9eecaa87c6561bf": {
      "model_module": "@jupyter-widgets/controls",
      "model_module_version": "1.4.0",
      "model_name": "ButtonStyleModel",
      "state": {}
     },
     "0c7a37ee8bb24cee89cc1acec088fc23": {
      "model_module": "@jupyter-widgets/base",
      "model_module_version": "1.1.0",
      "model_name": "LayoutModel",
      "state": {}
     },
     "0d3b7666dc0e4ca2978a33e5f5f3fc08": {
      "model_module": "@jupyter-widgets/base",
      "model_module_version": "1.1.0",
      "model_name": "LayoutModel",
      "state": {}
     },
     "0db94746a7fd4b498c74dfc5a965838e": {
      "model_module": "@jupyter-widgets/base",
      "model_module_version": "1.1.0",
      "model_name": "LayoutModel",
      "state": {}
     },
     "0dcd3211ba394a54abaa83d8cde7fb17": {
      "model_module": "@jupyter-widgets/controls",
      "model_module_version": "1.4.0",
      "model_name": "ButtonStyleModel",
      "state": {}
     },
     "0e77015a54024827b7bb130bb4b427c9": {
      "model_module": "@jupyter-widgets/controls",
      "model_module_version": "1.4.0",
      "model_name": "ButtonModel",
      "state": {
       "description": "Last",
       "layout": "IPY_MODEL_6afa2148e4f844ccaa6a194b08fcd35d",
       "style": "IPY_MODEL_d181ffa074b24d99964819343da44cbc"
      }
     },
     "0fec5f8d1be1465b9878c773e4cf4ee9": {
      "model_module": "@jupyter-widgets/controls",
      "model_module_version": "1.4.0",
      "model_name": "ButtonStyleModel",
      "state": {}
     },
     "1065aed0dd374babbfb9aaff5c5c8bcb": {
      "model_module": "@jupyter-widgets/controls",
      "model_module_version": "1.4.0",
      "model_name": "BoundedIntTextModel",
      "state": {
       "layout": "IPY_MODEL_9c6348408abe4d5690ecaf6d0a36d14b",
       "max": 124,
       "style": "IPY_MODEL_fd1887dabd7d4cccb595c8794bf14c8b",
       "value": 2
      }
     },
     "10c0c70d42ea4c87add6a0963bd5e4c3": {
      "model_module": "@jupyter-widgets/controls",
      "model_module_version": "1.4.0",
      "model_name": "LinkModel",
      "state": {
       "source": [
        "IPY_MODEL_26e566521fc04693b024bcab09e2e381",
        "value"
       ],
       "target": [
        "IPY_MODEL_dabfbb160f50415c8792f8143498496d",
        "value"
       ]
      }
     },
     "1141d925862c490891afed3b9be7509d": {
      "model_module": "@jupyter-widgets/controls",
      "model_module_version": "1.4.0",
      "model_name": "ButtonStyleModel",
      "state": {}
     },
     "118dcf13b23044d2a4f29cb427d6c4fb": {
      "model_module": "@jupyter-widgets/controls",
      "model_module_version": "1.4.0",
      "model_name": "VBoxModel",
      "state": {
       "children": [
        "IPY_MODEL_0691d2d2b6d8476e8ef62b25f4b66228",
        "IPY_MODEL_b449ef0dc088471cabaf0042b4f1e9b7"
       ],
       "layout": "IPY_MODEL_22c0692c12574cdea072c5b1615aa566"
      }
     },
     "123df19fd7564592a09e9c8dcfd0815b": {
      "model_module": "@jupyter-widgets/controls",
      "model_module_version": "1.4.0",
      "model_name": "IntSliderModel",
      "state": {
       "layout": "IPY_MODEL_1f5ba6bccc8f41a18c3b38ade88a3f43",
       "max": 30,
       "readout": false,
       "style": "IPY_MODEL_1ebe7f54ed2642638399b8b8fea5a940",
       "value": 24
      }
     },
     "12a39d0258854d17a92d34592944841e": {
      "model_module": "@jupyter-widgets/controls",
      "model_module_version": "1.4.0",
      "model_name": "VBoxModel",
      "state": {
       "children": [
        "IPY_MODEL_0a8a7cefc70e4ba69a142cafea6333ea",
        "IPY_MODEL_8ccb5053f5ad4f6d8b16f1531f263bf3"
       ],
       "layout": "IPY_MODEL_8a3fa43a5db24ade80d50bc80fbc8f00"
      }
     },
     "12be545d1acb4c42bb0e4ecb4bcf5ac0": {
      "model_module": "@jupyter-widgets/controls",
      "model_module_version": "1.4.0",
      "model_name": "DescriptionStyleModel",
      "state": {
       "description_width": ""
      }
     },
     "12d4ad4062f84c8dbd875528e187c77c": {
      "model_module": "@jupyter-widgets/controls",
      "model_module_version": "1.4.0",
      "model_name": "ButtonModel",
      "state": {
       "description": "Last",
       "layout": "IPY_MODEL_3fca700e6d8e44abb493a8591b8704b8",
       "style": "IPY_MODEL_4a1cd9af20ee46c19aae26a92a43c630"
      }
     },
     "13b3bba161b4453cadb07e603de3eb01": {
      "model_module": "@jupyter-widgets/base",
      "model_module_version": "1.1.0",
      "model_name": "LayoutModel",
      "state": {}
     },
     "13e472a10d0a4a34b72cfb9585bba34a": {
      "model_module": "@jupyter-widgets/controls",
      "model_module_version": "1.4.0",
      "model_name": "ButtonModel",
      "state": {
       "description": "First",
       "layout": "IPY_MODEL_d23d13ce2b984d18856f5f720293df47",
       "style": "IPY_MODEL_719571dd1a40412fac7fb8061df89824"
      }
     },
     "141a7713ddd4423786234e59afbdf293": {
      "model_module": "@jupyter-widgets/controls",
      "model_module_version": "1.4.0",
      "model_name": "ButtonStyleModel",
      "state": {}
     },
     "1475dc2c3142409e986a538325858520": {
      "model_module": "@jupyter-widgets/controls",
      "model_module_version": "1.4.0",
      "model_name": "ButtonModel",
      "state": {
       "description": "Next",
       "layout": "IPY_MODEL_e6cf8045fdf248f9ad8d646a6ff77bd0",
       "style": "IPY_MODEL_b87109a0d36c45fcae08974540f84519"
      }
     },
     "14bf32d6751c4280af4ecac5ae63f2a3": {
      "model_module": "@jupyter-widgets/base",
      "model_module_version": "1.1.0",
      "model_name": "LayoutModel",
      "state": {}
     },
     "14fab1df7b5149789606595877b1f56f": {
      "model_module": "@jupyter-widgets/controls",
      "model_module_version": "1.4.0",
      "model_name": "ButtonStyleModel",
      "state": {}
     },
     "1528f2d828114b0ba2e5a532f252a093": {
      "model_module": "@jupyter-widgets/controls",
      "model_module_version": "1.4.0",
      "model_name": "IntSliderModel",
      "state": {
       "layout": "IPY_MODEL_a6485cfa44f4483daa0a4a3851305250",
       "max": 124,
       "readout": false,
       "style": "IPY_MODEL_e0ed2277d9d84e20b2e0de4b63003f97",
       "value": 2
      }
     },
     "152dc4e602294ccca71daf3819f5488d": {
      "model_module": "@jupyter-widgets/controls",
      "model_module_version": "1.4.0",
      "model_name": "ButtonModel",
      "state": {
       "description": "Random",
       "layout": "IPY_MODEL_0b158c5286814d34b3f54493d3c5008c",
       "style": "IPY_MODEL_d3d0d77923e74d90900184bc5a71e670"
      }
     },
     "1640a45a22074c78b4ef4c2b42aaf02e": {
      "model_module": "@jupyter-widgets/controls",
      "model_module_version": "1.4.0",
      "model_name": "HBoxModel",
      "state": {
       "children": [
        "IPY_MODEL_7b3fee56fc184a7f94788f73c13577ed",
        "IPY_MODEL_f1ac961534434d1f97040c188aac14b9"
       ],
       "layout": "IPY_MODEL_cc64e59a2b91401a9536be43d968f7d7"
      }
     },
     "16bba40971de4c2bb693f6a879f49acf": {
      "model_module": "@jupyter-widgets/controls",
      "model_module_version": "1.4.0",
      "model_name": "LinkModel",
      "state": {
       "source": [
        "IPY_MODEL_435892a0dfd6440ebe550abf038c9e72",
        "value"
       ],
       "target": [
        "IPY_MODEL_2722fb2291e240a69790e9a5515d1d43",
        "value"
       ]
      }
     },
     "16fa7affd6644af0be3cb3c67a4e90c8": {
      "model_module": "@jupyter-widgets/controls",
      "model_module_version": "1.4.0",
      "model_name": "LinkModel",
      "state": {
       "source": [
        "IPY_MODEL_b551f006074a462da4fa9dad942a3469",
        "value"
       ],
       "target": [
        "IPY_MODEL_88284fe94bc4415d88b91f5cfc06d74a",
        "value"
       ]
      }
     },
     "18267ba1d07f4a60982ae7c619dc0a44": {
      "model_module": "@jupyter-widgets/base",
      "model_module_version": "1.1.0",
      "model_name": "LayoutModel",
      "state": {}
     },
     "18b4e7dfbed7441ab31bf0e035cd2b7e": {
      "model_module": "@jupyter-widgets/base",
      "model_module_version": "1.1.0",
      "model_name": "LayoutModel",
      "state": {}
     },
     "18c9dc27fab1421e9e2b33a0ee794f9d": {
      "model_module": "@jupyter-widgets/controls",
      "model_module_version": "1.4.0",
      "model_name": "HTMLModel",
      "state": {
       "layout": "IPY_MODEL_790db84833894515b47f0b38505a184c",
       "style": "IPY_MODEL_9017a21fb0d3470498c32809adff38f1",
       "value": "100% 1741/1741 [03:54&lt;00:00,  7.41it/s]"
      }
     },
     "1a9d145e64344e4e99ef18f37e30cf65": {
      "model_module": "@jupyter-widgets/controls",
      "model_module_version": "1.4.0",
      "model_name": "ButtonStyleModel",
      "state": {}
     },
     "1ab4dc697dd947b99d0dc05a06dd11ae": {
      "model_module": "@jupyter-widgets/base",
      "model_module_version": "1.1.0",
      "model_name": "LayoutModel",
      "state": {}
     },
     "1b3e0691590149cc9ea61990d7000b64": {
      "model_module": "@jupyter-widgets/base",
      "model_module_version": "1.1.0",
      "model_name": "LayoutModel",
      "state": {}
     },
     "1b8eabab999a40588c0db69bf99b6b46": {
      "model_module": "@jupyter-widgets/controls",
      "model_module_version": "1.4.0",
      "model_name": "ButtonStyleModel",
      "state": {}
     },
     "1c210e92757d4f4ea837f9999bf19f02": {
      "model_module": "@jupyter-widgets/controls",
      "model_module_version": "1.4.0",
      "model_name": "ButtonModel",
      "state": {
       "description": "Next",
       "layout": "IPY_MODEL_2e2238c48f7b413faac3ea522d03bce1",
       "style": "IPY_MODEL_78050d925cbf441d9a0d8941160baebb"
      }
     },
     "1c27a14dfb824c11a5ceda85a48fc115": {
      "model_module": "@jupyter-widgets/base",
      "model_module_version": "1.1.0",
      "model_name": "LayoutModel",
      "state": {}
     },
     "1d33895ae07a4748b350307be14380c2": {
      "model_module": "@jupyter-widgets/base",
      "model_module_version": "1.1.0",
      "model_name": "LayoutModel",
      "state": {}
     },
     "1da627a7500544659fd4d2e2a2953664": {
      "model_module": "@jupyter-widgets/controls",
      "model_module_version": "1.4.0",
      "model_name": "ButtonStyleModel",
      "state": {}
     },
     "1e9b11bd7a37431f917541aeaa98cf2d": {
      "model_module": "@jupyter-widgets/controls",
      "model_module_version": "1.4.0",
      "model_name": "ButtonStyleModel",
      "state": {}
     },
     "1ebe7f54ed2642638399b8b8fea5a940": {
      "model_module": "@jupyter-widgets/controls",
      "model_module_version": "1.4.0",
      "model_name": "SliderStyleModel",
      "state": {
       "description_width": ""
      }
     },
     "1f5abf2d627f4a2ba1c0b12fa03d6002": {
      "model_module": "@jupyter-widgets/controls",
      "model_module_version": "1.4.0",
      "model_name": "VBoxModel",
      "state": {
       "children": [
        "IPY_MODEL_94cbb4c16c134d5687aa2425b2ccafae",
        "IPY_MODEL_123df19fd7564592a09e9c8dcfd0815b"
       ],
       "layout": "IPY_MODEL_26f45505eec34f8fa79ef0d4e5fcbb84"
      }
     },
     "1f5ba6bccc8f41a18c3b38ade88a3f43": {
      "model_module": "@jupyter-widgets/base",
      "model_module_version": "1.1.0",
      "model_name": "LayoutModel",
      "state": {
       "width": "99%"
      }
     },
     "1f5d69f168944f9c906307f023222c9a": {
      "model_module": "@jupyter-widgets/base",
      "model_module_version": "1.1.0",
      "model_name": "LayoutModel",
      "state": {}
     },
     "1fc7bfb49f884728abd1625a62fa6bf6": {
      "model_module": "@jupyter-widgets/base",
      "model_module_version": "1.1.0",
      "model_name": "LayoutModel",
      "state": {
       "width": "99%"
      }
     },
     "1fe1367e2b894849965578a327c84378": {
      "model_module": "@jupyter-widgets/controls",
      "model_module_version": "1.4.0",
      "model_name": "ButtonModel",
      "state": {
       "description": "Next",
       "layout": "IPY_MODEL_5ccc77173ded4c1dad15cbb4b5809157",
       "style": "IPY_MODEL_dae166b33ece4f4cabf6ae394490fe86"
      }
     },
     "20865a1cdfa84ae68a1136661f6c473b": {
      "model_module": "@jupyter-widgets/controls",
      "model_module_version": "1.4.0",
      "model_name": "ButtonModel",
      "state": {
       "description": "Prev",
       "layout": "IPY_MODEL_b6f3e728631a440caf76ed8638d43c41",
       "style": "IPY_MODEL_141a7713ddd4423786234e59afbdf293"
      }
     },
     "215fc62e334c471883dce6a1a046d665": {
      "model_module": "@jupyter-widgets/base",
      "model_module_version": "1.1.0",
      "model_name": "LayoutModel",
      "state": {}
     },
     "21bfdc70b515421d8a463f8f61287d90": {
      "model_module": "@jupyter-widgets/controls",
      "model_module_version": "1.4.0",
      "model_name": "ButtonModel",
      "state": {
       "description": "Next",
       "layout": "IPY_MODEL_bd42305e3a674ef8a27552636e90badd",
       "style": "IPY_MODEL_a4bef4bb4b954d2cbe5efd89bae8257c"
      }
     },
     "21f95c4360b54c228fc3c83f6bc59732": {
      "model_module": "@jupyter-widgets/base",
      "model_module_version": "1.1.0",
      "model_name": "LayoutModel",
      "state": {}
     },
     "224556496e8842409a0d201c78b39590": {
      "model_module": "@jupyter-widgets/controls",
      "model_module_version": "1.4.0",
      "model_name": "BoundedIntTextModel",
      "state": {
       "layout": "IPY_MODEL_40c9abf9b2544a9c9ea8ae552474e37b",
       "max": 6,
       "style": "IPY_MODEL_b9f65fd8a07b4cb8937d6f0257172d52"
      }
     },
     "22a21e2a26b6443d9537a9aaab96199b": {
      "model_module": "@jupyter-widgets/controls",
      "model_module_version": "1.4.0",
      "model_name": "LinkModel",
      "state": {
       "source": [
        "IPY_MODEL_ee0fd3098ef34cf2890f65aab04fc67e",
        "value"
       ],
       "target": [
        "IPY_MODEL_8ccb5053f5ad4f6d8b16f1531f263bf3",
        "value"
       ]
      }
     },
     "22c0692c12574cdea072c5b1615aa566": {
      "model_module": "@jupyter-widgets/base",
      "model_module_version": "1.1.0",
      "model_name": "LayoutModel",
      "state": {}
     },
     "23302b5b934c47fda90ec42126fb0250": {
      "model_module": "@jupyter-widgets/controls",
      "model_module_version": "1.4.0",
      "model_name": "DescriptionStyleModel",
      "state": {
       "description_width": ""
      }
     },
     "2341f3aaf24f4bf0a3f516bf85ebe14b": {
      "model_module": "@jupyter-widgets/controls",
      "model_module_version": "1.4.0",
      "model_name": "SliderStyleModel",
      "state": {
       "description_width": ""
      }
     },
     "2359311d5dc7438298b2f3ab49914ee5": {
      "model_module": "@jupyter-widgets/base",
      "model_module_version": "1.1.0",
      "model_name": "LayoutModel",
      "state": {}
     },
     "23e2ff3b01b04bda8e8542c8c4cd3591": {
      "model_module": "@jupyter-widgets/controls",
      "model_module_version": "1.4.0",
      "model_name": "ButtonStyleModel",
      "state": {}
     },
     "25476524d5c044ff85dbeb216517af55": {
      "model_module": "@jupyter-widgets/controls",
      "model_module_version": "1.4.0",
      "model_name": "ButtonModel",
      "state": {
       "description": "Prev",
       "layout": "IPY_MODEL_8b2b6b7cbf144d32a4e0a35ae24e6462",
       "style": "IPY_MODEL_f36daf3276084ad7b7cc4fcb67eda557"
      }
     },
     "263f7f0e05b8492aa2c37422934a1a6a": {
      "model_module": "@jupyter-widgets/controls",
      "model_module_version": "1.4.0",
      "model_name": "ButtonModel",
      "state": {
       "description": "Last",
       "layout": "IPY_MODEL_a3d2084e7ab84c6f9ea3d52231aaad8c",
       "style": "IPY_MODEL_1a9d145e64344e4e99ef18f37e30cf65"
      }
     },
     "26c3efb185d94811b9557162dd9d9167": {
      "model_module": "@jupyter-widgets/base",
      "model_module_version": "1.1.0",
      "model_name": "LayoutModel",
      "state": {}
     },
     "26e566521fc04693b024bcab09e2e381": {
      "model_module": "@jupyter-widgets/controls",
      "model_module_version": "1.4.0",
      "model_name": "BoundedIntTextModel",
      "state": {
       "layout": "IPY_MODEL_60b57082008d4196a0a681ac63ce5018",
       "max": 2352,
       "style": "IPY_MODEL_0850014aeef84cf4948b12c0361de29b",
       "value": 1774
      }
     },
     "26f45505eec34f8fa79ef0d4e5fcbb84": {
      "model_module": "@jupyter-widgets/base",
      "model_module_version": "1.1.0",
      "model_name": "LayoutModel",
      "state": {}
     },
     "2722fb2291e240a69790e9a5515d1d43": {
      "model_module": "@jupyter-widgets/controls",
      "model_module_version": "1.4.0",
      "model_name": "IntSliderModel",
      "state": {
       "layout": "IPY_MODEL_443b63626b1f46f0942fc0de13897356",
       "max": 40,
       "readout": false,
       "style": "IPY_MODEL_9dc58504f8a6469da45128a357b7107a"
      }
     },
     "2729771280384b7191aa209e638f35dd": {
      "model_module": "@jupyter-widgets/base",
      "model_module_version": "1.1.0",
      "model_name": "LayoutModel",
      "state": {}
     },
     "273ea6c0fc0242a1ac9e60d302a904c8": {
      "model_module": "@jupyter-widgets/controls",
      "model_module_version": "1.4.0",
      "model_name": "DescriptionStyleModel",
      "state": {
       "description_width": ""
      }
     },
     "2791e0d9135e49b4ae0d8e53c0a9a304": {
      "model_module": "@jupyter-widgets/base",
      "model_module_version": "1.1.0",
      "model_name": "LayoutModel",
      "state": {}
     },
     "281230468cdf414fa43cf3dc9e311778": {
      "model_module": "@jupyter-widgets/base",
      "model_module_version": "1.1.0",
      "model_name": "LayoutModel",
      "state": {}
     },
     "29ff9c486d0e4a9badfd24dbdfe5e720": {
      "model_module": "@jupyter-widgets/controls",
      "model_module_version": "1.4.0",
      "model_name": "ProgressStyleModel",
      "state": {
       "description_width": ""
      }
     },
     "2a82296355cc4d90b12a92537307807b": {
      "model_module": "@jupyter-widgets/base",
      "model_module_version": "1.1.0",
      "model_name": "LayoutModel",
      "state": {}
     },
     "2e2238c48f7b413faac3ea522d03bce1": {
      "model_module": "@jupyter-widgets/base",
      "model_module_version": "1.1.0",
      "model_name": "LayoutModel",
      "state": {}
     },
     "2e452f55ab254ca1a5f62e27385b918d": {
      "model_module": "@jupyter-widgets/controls",
      "model_module_version": "1.4.0",
      "model_name": "IntSliderModel",
      "state": {
       "layout": "IPY_MODEL_3aa490c4853649f7867ad4f04a0450f7",
       "max": 1,
       "readout": false,
       "style": "IPY_MODEL_cce011c907914c6a91c3f923e9dd0367",
       "value": 1
      }
     },
     "2ea15b8a3400461d92789604523c80c5": {
      "model_module": "@jupyter-widgets/controls",
      "model_module_version": "1.4.0",
      "model_name": "ButtonStyleModel",
      "state": {}
     },
     "2eafce3422ab468384ee7bc13c74a0a3": {
      "model_module": "@jupyter-widgets/controls",
      "model_module_version": "1.4.0",
      "model_name": "IntSliderModel",
      "state": {
       "layout": "IPY_MODEL_9bed30cab50b4e1caed11917a31091d9",
       "max": 9,
       "readout": false,
       "style": "IPY_MODEL_dba3a04c4f594b238c6103317d088bd6"
      }
     },
     "2eec938b7a104a92aba3a22b6534cbd4": {
      "model_module": "@jupyter-widgets/base",
      "model_module_version": "1.1.0",
      "model_name": "LayoutModel",
      "state": {}
     },
     "3010ade9842146d79e3617aeb2c20ef1": {
      "model_module": "@jupyter-widgets/controls",
      "model_module_version": "1.4.0",
      "model_name": "ButtonStyleModel",
      "state": {}
     },
     "30498b1f9aee490d87d5d298caaa6c4f": {
      "model_module": "@jupyter-widgets/controls",
      "model_module_version": "1.4.0",
      "model_name": "VBoxModel",
      "state": {
       "children": [
        "IPY_MODEL_c67e1498f63643e4baf12a7c80e27838",
        "IPY_MODEL_2eafce3422ab468384ee7bc13c74a0a3"
       ],
       "layout": "IPY_MODEL_6ba8cec8badd40b8aa359cc68868c5da"
      }
     },
     "30533473adca4b15a4e374174414da29": {
      "model_module": "@jupyter-widgets/base",
      "model_module_version": "1.1.0",
      "model_name": "LayoutModel",
      "state": {}
     },
     "3081129b19224036b91e2a4a0992f7ee": {
      "model_module": "@jupyter-widgets/base",
      "model_module_version": "1.1.0",
      "model_name": "LayoutModel",
      "state": {}
     },
     "3095d0817e8043939f0303d249ae8012": {
      "model_module": "@jupyter-widgets/controls",
      "model_module_version": "1.4.0",
      "model_name": "ButtonModel",
      "state": {
       "description": "Prev",
       "layout": "IPY_MODEL_13b3bba161b4453cadb07e603de3eb01",
       "style": "IPY_MODEL_d7ba88b677d248bfb2e9896b7edd6477"
      }
     },
     "3145eb3072b84d75a712b03d2c905ae1": {
      "model_module": "@jupyter-widgets/base",
      "model_module_version": "1.1.0",
      "model_name": "LayoutModel",
      "state": {}
     },
     "31787e67eb2743d7889eaea4626cfa76": {
      "model_module": "@jupyter-widgets/base",
      "model_module_version": "1.1.0",
      "model_name": "LayoutModel",
      "state": {}
     },
     "3233854dd5d4464caad1dd189fcfc247": {
      "model_module": "@jupyter-widgets/controls",
      "model_module_version": "1.4.0",
      "model_name": "ButtonModel",
      "state": {
       "description": "Last",
       "layout": "IPY_MODEL_9695a335091c430db96bd32180004188",
       "style": "IPY_MODEL_f6fbf6c0fdd34ce69c7d912ea5ee24ad"
      }
     },
     "328cf994dece48ecb705c8e82a295bfe": {
      "model_module": "@jupyter-widgets/controls",
      "model_module_version": "1.4.0",
      "model_name": "ButtonStyleModel",
      "state": {}
     },
     "32ec258b69c44ce091eedad594902267": {
      "model_module": "@jupyter-widgets/base",
      "model_module_version": "1.1.0",
      "model_name": "LayoutModel",
      "state": {}
     },
     "330b4423100949b38b481da65d36a212": {
      "model_module": "@jupyter-widgets/controls",
      "model_module_version": "1.4.0",
      "model_name": "ButtonStyleModel",
      "state": {}
     },
     "3356f57cce3d4ad6b03a0e6d0d1cfbae": {
      "model_module": "@jupyter-widgets/controls",
      "model_module_version": "1.4.0",
      "model_name": "IntSliderModel",
      "state": {
       "layout": "IPY_MODEL_9f858c665fb14f43a26a450d7002d171",
       "max": 2352,
       "readout": false,
       "style": "IPY_MODEL_74d5dab6b42a4aee88eba51d96c6a986",
       "value": 23
      }
     },
     "33ec4711fd5e4b4bba24d49922c5c322": {
      "model_module": "@jupyter-widgets/base",
      "model_module_version": "1.1.0",
      "model_name": "LayoutModel",
      "state": {}
     },
     "34dfeb7e37be41a18f5e7357f13c7c88": {
      "model_module": "@jupyter-widgets/base",
      "model_module_version": "1.1.0",
      "model_name": "LayoutModel",
      "state": {}
     },
     "35114c62613446828a662bdb5ad9a692": {
      "model_module": "@jupyter-widgets/base",
      "model_module_version": "1.1.0",
      "model_name": "LayoutModel",
      "state": {}
     },
     "352329d8ed4649f894fa99bd4a54617b": {
      "model_module": "@jupyter-widgets/base",
      "model_module_version": "1.1.0",
      "model_name": "LayoutModel",
      "state": {}
     },
     "3584449bb591485193874b923d83eeda": {
      "model_module": "@jupyter-widgets/controls",
      "model_module_version": "1.4.0",
      "model_name": "VBoxModel",
      "state": {
       "children": [
        "IPY_MODEL_d6ed130919b045bcb4ad91ed1d14abe6",
        "IPY_MODEL_7528b96022004b7ea5bb24bfffdaf146"
       ],
       "layout": "IPY_MODEL_0381fa45eb0a45faa60b48411cf64ac0"
      }
     },
     "361172557c3246bb9fb3069e13542e46": {
      "model_module": "@jupyter-widgets/base",
      "model_module_version": "1.1.0",
      "model_name": "LayoutModel",
      "state": {
       "width": "99%"
      }
     },
     "384842d61cf948c99bd6958d6e5b4370": {
      "model_module": "@jupyter-widgets/controls",
      "model_module_version": "1.4.0",
      "model_name": "ButtonStyleModel",
      "state": {}
     },
     "39b9d4b791cb4040805caadac6f74c87": {
      "model_module": "@jupyter-widgets/controls",
      "model_module_version": "1.4.0",
      "model_name": "ButtonStyleModel",
      "state": {}
     },
     "39e661027b4143488e1f3bfbd059a2d0": {
      "model_module": "@jupyter-widgets/controls",
      "model_module_version": "1.4.0",
      "model_name": "ButtonModel",
      "state": {
       "description": "Random",
       "layout": "IPY_MODEL_5882b368667e41a4bd4c23e13f50385c",
       "style": "IPY_MODEL_c5e5b6515cce48e4a9644f8cff2e9f62"
      }
     },
     "3a9033babdb14bd9b8a834b916ee2233": {
      "model_module": "@jupyter-widgets/controls",
      "model_module_version": "1.4.0",
      "model_name": "ButtonModel",
      "state": {
       "description": "Random",
       "layout": "IPY_MODEL_e1d93f891f6a4bf7afaeeaee3343f87a",
       "style": "IPY_MODEL_cad40897d71448b9ad39d680ac717202"
      }
     },
     "3aa490c4853649f7867ad4f04a0450f7": {
      "model_module": "@jupyter-widgets/base",
      "model_module_version": "1.1.0",
      "model_name": "LayoutModel",
      "state": {
       "width": "99%"
      }
     },
     "3ac46c017762450b95239887253bf75f": {
      "model_module": "@jupyter-widgets/controls",
      "model_module_version": "1.4.0",
      "model_name": "ButtonModel",
      "state": {
       "description": "Last",
       "layout": "IPY_MODEL_7a27ae37bcfd4f59b51c1f7af1c7a7e2",
       "style": "IPY_MODEL_384842d61cf948c99bd6958d6e5b4370"
      }
     },
     "3c779e64880e45f982fdece103129ee4": {
      "model_module": "@jupyter-widgets/controls",
      "model_module_version": "1.4.0",
      "model_name": "DescriptionStyleModel",
      "state": {
       "description_width": ""
      }
     },
     "3d60ed4504034b80ab8692a1b5fb7a03": {
      "model_module": "@jupyter-widgets/controls",
      "model_module_version": "1.4.0",
      "model_name": "DescriptionStyleModel",
      "state": {
       "description_width": ""
      }
     },
     "3dc4b133d51a47cdad7bd8253fc8a195": {
      "model_module": "@jupyter-widgets/controls",
      "model_module_version": "1.4.0",
      "model_name": "ButtonModel",
      "state": {
       "description": "Random",
       "layout": "IPY_MODEL_55ad3cadbe8440718b43978163b3c351",
       "style": "IPY_MODEL_23e2ff3b01b04bda8e8542c8c4cd3591"
      }
     },
     "3e7d31f90acb47bcaf962b31a892c960": {
      "model_module": "@jupyter-widgets/controls",
      "model_module_version": "1.4.0",
      "model_name": "BoundedIntTextModel",
      "state": {
       "layout": "IPY_MODEL_adb7e3ed4c6a461fbb22b74eb72772ad",
       "max": 9,
       "style": "IPY_MODEL_a4a2ed2b13e54cce819a47ddbc6cfb75"
      }
     },
     "3e7eae53709f4f9ea0b4bc132f510359": {
      "model_module": "@jupyter-widgets/controls",
      "model_module_version": "1.4.0",
      "model_name": "ButtonModel",
      "state": {
       "description": "Random",
       "layout": "IPY_MODEL_82e08453d544493aa29b8b8d14bfa26a",
       "style": "IPY_MODEL_5f1c456653e74ff69d4fc54b3163215d"
      }
     },
     "3ed0e83b4d0e414685ce4539d0921358": {
      "model_module": "@jupyter-widgets/controls",
      "model_module_version": "1.4.0",
      "model_name": "ButtonModel",
      "state": {
       "description": "First",
       "layout": "IPY_MODEL_c7586ae8c75e4bdaaa3364b983e5f032",
       "style": "IPY_MODEL_8be47299e5934c14add88f72b8cd4018"
      }
     },
     "3f557157f8ac4004b7212b1a429fe180": {
      "model_module": "@jupyter-widgets/base",
      "model_module_version": "1.1.0",
      "model_name": "LayoutModel",
      "state": {}
     },
     "3fca700e6d8e44abb493a8591b8704b8": {
      "model_module": "@jupyter-widgets/base",
      "model_module_version": "1.1.0",
      "model_name": "LayoutModel",
      "state": {}
     },
     "3ff1b837333b4047a77dff33e98b9f40": {
      "model_module": "@jupyter-widgets/controls",
      "model_module_version": "1.4.0",
      "model_name": "ButtonModel",
      "state": {
       "description": "Random",
       "layout": "IPY_MODEL_b477b36053ee42cc8c9076671167c253",
       "style": "IPY_MODEL_ad6f304d48c54204afbef6e9c0a825e4"
      }
     },
     "3ffaf5b418014ed8be402ce41f82a3d2": {
      "model_module": "@jupyter-widgets/base",
      "model_module_version": "1.1.0",
      "model_name": "LayoutModel",
      "state": {}
     },
     "40c9abf9b2544a9c9ea8ae552474e37b": {
      "model_module": "@jupyter-widgets/base",
      "model_module_version": "1.1.0",
      "model_name": "LayoutModel",
      "state": {}
     },
     "415c3fbd2f784f75b3f612932c89cecf": {
      "model_module": "@jupyter-widgets/controls",
      "model_module_version": "1.4.0",
      "model_name": "BoundedIntTextModel",
      "state": {
       "layout": "IPY_MODEL_d88a332a18b7498f9180f5724a85a958",
       "max": 2352,
       "style": "IPY_MODEL_b943d91168484ad7bf97ff8535ffad78",
       "value": 23
      }
     },
     "4191bd0a99be428c97e9a6ce1241c3a5": {
      "model_module": "@jupyter-widgets/base",
      "model_module_version": "1.1.0",
      "model_name": "LayoutModel",
      "state": {}
     },
     "41aeefcb62c849cfac18893415005d40": {
      "model_module": "@jupyter-widgets/controls",
      "model_module_version": "1.4.0",
      "model_name": "ButtonModel",
      "state": {
       "description": "Prev",
       "layout": "IPY_MODEL_6137d787b84642d3a3451cbaa639acb1",
       "style": "IPY_MODEL_3010ade9842146d79e3617aeb2c20ef1"
      }
     },
     "41b355b94f684ddab1d32b30e7bc774c": {
      "model_module": "@jupyter-widgets/controls",
      "model_module_version": "1.4.0",
      "model_name": "ButtonModel",
      "state": {
       "description": "Last",
       "layout": "IPY_MODEL_1b3e0691590149cc9ea61990d7000b64",
       "style": "IPY_MODEL_ee472cabc523469b8e583bd4de7c230d"
      }
     },
     "41e8b8d9cd9d4f6d9769cddc7a43b15c": {
      "model_module": "@jupyter-widgets/controls",
      "model_module_version": "1.4.0",
      "model_name": "IntSliderModel",
      "state": {
       "layout": "IPY_MODEL_9ca121191ac5414aa9c0980c2ff97f36",
       "max": 1697,
       "readout": false,
       "style": "IPY_MODEL_9f43c18c80314636a54bbfd563a78f7d",
       "value": 1570
      }
     },
     "42032d0b639641a39514714ce85a5538": {
      "model_module": "@jupyter-widgets/controls",
      "model_module_version": "1.4.0",
      "model_name": "HBoxModel",
      "state": {
       "children": [
        "IPY_MODEL_ab5f17d295174736ba12064cf322be47",
        "IPY_MODEL_cc10e4994d7c40ab83a588e05c66b74d",
        "IPY_MODEL_1065aed0dd374babbfb9aaff5c5c8bcb",
        "IPY_MODEL_53dc4241a2c843cfb145072bb033a9d4",
        "IPY_MODEL_3ac46c017762450b95239887253bf75f",
        "IPY_MODEL_ae8d7372386e44fdaf36a576b4a89cdb"
       ],
       "layout": "IPY_MODEL_ac909ce6d1d44b9296537ca0f52d3063"
      }
     },
     "425170727c45429b9594d60a7da3edcd": {
      "model_module": "@jupyter-widgets/controls",
      "model_module_version": "1.4.0",
      "model_name": "LinkModel",
      "state": {
       "source": [
        "IPY_MODEL_435ffe3644474830a6747e7514bfbd73",
        "value"
       ],
       "target": [
        "IPY_MODEL_123df19fd7564592a09e9c8dcfd0815b",
        "value"
       ]
      }
     },
     "42f556fe023846d48da1a8afb875b490": {
      "model_module": "@jupyter-widgets/controls",
      "model_module_version": "1.4.0",
      "model_name": "HBoxModel",
      "state": {
       "children": [
        "IPY_MODEL_9b66f974a4ca475f9ad4aee29bfe6ef4",
        "IPY_MODEL_a9bc5d8ee3fc4154b249b6bdb55c4042",
        "IPY_MODEL_a626628189ee4cad8759ee70e91adac0",
        "IPY_MODEL_45c421d4e39a49638786fada2ccc8245",
        "IPY_MODEL_7329956718c44141ae4d211ad6b4fda8",
        "IPY_MODEL_6f47c1a84c1c44108387c8980266a448"
       ],
       "layout": "IPY_MODEL_0641a3f169424649946ec1ebf4ec2d95"
      }
     },
     "435892a0dfd6440ebe550abf038c9e72": {
      "model_module": "@jupyter-widgets/controls",
      "model_module_version": "1.4.0",
      "model_name": "BoundedIntTextModel",
      "state": {
       "layout": "IPY_MODEL_586c9b663d8f449ca5f849f47370dfa9",
       "max": 40,
       "style": "IPY_MODEL_273ea6c0fc0242a1ac9e60d302a904c8"
      }
     },
     "435ffe3644474830a6747e7514bfbd73": {
      "model_module": "@jupyter-widgets/controls",
      "model_module_version": "1.4.0",
      "model_name": "BoundedIntTextModel",
      "state": {
       "layout": "IPY_MODEL_a2a8d983f667414c88441bcaaebc02c5",
       "max": 30,
       "style": "IPY_MODEL_b588a6f455eb4a82afb20568c73b9fa0",
       "value": 24
      }
     },
     "439dd93d08ef42c5b9286c9bb11981fb": {
      "model_module": "@jupyter-widgets/controls",
      "model_module_version": "1.4.0",
      "model_name": "ButtonStyleModel",
      "state": {}
     },
     "443b63626b1f46f0942fc0de13897356": {
      "model_module": "@jupyter-widgets/base",
      "model_module_version": "1.1.0",
      "model_name": "LayoutModel",
      "state": {
       "width": "99%"
      }
     },
     "444a7bd67d2f426d8bb6ef838a45b4fe": {
      "model_module": "@jupyter-widgets/controls",
      "model_module_version": "1.4.0",
      "model_name": "SliderStyleModel",
      "state": {
       "description_width": ""
      }
     },
     "45c421d4e39a49638786fada2ccc8245": {
      "model_module": "@jupyter-widgets/controls",
      "model_module_version": "1.4.0",
      "model_name": "ButtonModel",
      "state": {
       "description": "Next",
       "layout": "IPY_MODEL_cbeb41a2d07d44e78500348591157e6d",
       "style": "IPY_MODEL_f2949bb361004036878f31210cf1a61a"
      }
     },
     "460c8189f664413eaca9f52e1fe85d22": {
      "model_module": "@jupyter-widgets/base",
      "model_module_version": "1.1.0",
      "model_name": "LayoutModel",
      "state": {}
     },
     "467ea2f77e5e4883acf5f48709ee80ff": {
      "model_module": "@jupyter-widgets/controls",
      "model_module_version": "1.4.0",
      "model_name": "ButtonStyleModel",
      "state": {}
     },
     "46b805ec92d44cc3a8954ad8652f0d4d": {
      "model_module": "@jupyter-widgets/controls",
      "model_module_version": "1.4.0",
      "model_name": "ButtonModel",
      "state": {
       "description": "Random",
       "layout": "IPY_MODEL_8ba25d9dba274bf09b88de0a48da5d86",
       "style": "IPY_MODEL_9e0372c5b41d4fbfb3d8f3e07548c66a"
      }
     },
     "46f8dc39fe2544a6b2743c733605d061": {
      "model_module": "@jupyter-widgets/base",
      "model_module_version": "1.1.0",
      "model_name": "LayoutModel",
      "state": {}
     },
     "4807edb72eda43cea27eb95ab801c1de": {
      "model_module": "@jupyter-widgets/base",
      "model_module_version": "1.1.0",
      "model_name": "LayoutModel",
      "state": {}
     },
     "48438ff31d8e496cb904fb0625356cac": {
      "model_module": "@jupyter-widgets/controls",
      "model_module_version": "1.4.0",
      "model_name": "ButtonModel",
      "state": {
       "description": "First",
       "layout": "IPY_MODEL_532445b524734b56aa9c01a652de0a4d",
       "style": "IPY_MODEL_e0a7a9b2b8a144d5adfaaaf31580a3c4"
      }
     },
     "490c473a088e497aa939f3ad7938b7c3": {
      "model_module": "@jupyter-widgets/controls",
      "model_module_version": "1.4.0",
      "model_name": "ButtonStyleModel",
      "state": {}
     },
     "49647b9abb0546f89e10f2ae368e7727": {
      "model_module": "@jupyter-widgets/controls",
      "model_module_version": "1.4.0",
      "model_name": "ButtonModel",
      "state": {
       "description": "Last",
       "layout": "IPY_MODEL_7d8a653f362d4ce69b3b32bdc382c0f0",
       "style": "IPY_MODEL_91ccd631697c4c88be893fee09ebbb8c"
      }
     },
     "4993d371e4ee4d9a9d9ca7b34d2d0b27": {
      "model_module": "@jupyter-widgets/controls",
      "model_module_version": "1.4.0",
      "model_name": "SliderStyleModel",
      "state": {
       "description_width": ""
      }
     },
     "4a1cd9af20ee46c19aae26a92a43c630": {
      "model_module": "@jupyter-widgets/controls",
      "model_module_version": "1.4.0",
      "model_name": "ButtonStyleModel",
      "state": {}
     },
     "4ad7b213a3a6458b9b8029398882f7d5": {
      "model_module": "@jupyter-widgets/controls",
      "model_module_version": "1.4.0",
      "model_name": "IntSliderModel",
      "state": {
       "layout": "IPY_MODEL_584e404601084cae84f41d98be163153",
       "max": 40,
       "readout": false,
       "style": "IPY_MODEL_065f4de50adc49269bbc0c767f662172",
       "value": 17
      }
     },
     "4b26d28fcf9443e7a2709761bb3bb01f": {
      "model_module": "@jupyter-widgets/controls",
      "model_module_version": "1.4.0",
      "model_name": "BoundedIntTextModel",
      "state": {
       "layout": "IPY_MODEL_14bf32d6751c4280af4ecac5ae63f2a3",
       "max": 19,
       "style": "IPY_MODEL_69d794bc35084791adeedb640f8c0fa6",
       "value": 7
      }
     },
     "4c3fe83d17fb43769852e01d20272a1c": {
      "model_module": "@jupyter-widgets/base",
      "model_module_version": "1.1.0",
      "model_name": "LayoutModel",
      "state": {}
     },
     "4d3771ee3dae49c3a1c711ccd2ffe905": {
      "model_module": "@jupyter-widgets/controls",
      "model_module_version": "1.4.0",
      "model_name": "ButtonModel",
      "state": {
       "description": "Next",
       "layout": "IPY_MODEL_cc8194aeb2d7426090a3afbe2851912c",
       "style": "IPY_MODEL_ffbf64836c874c04880e906a165f0d30"
      }
     },
     "4d865e4f539248b4acc4d8ddc4fceac9": {
      "model_module": "@jupyter-widgets/base",
      "model_module_version": "1.1.0",
      "model_name": "LayoutModel",
      "state": {}
     },
     "4daf8d5e23d04e2793386d85c94fc464": {
      "model_module": "@jupyter-widgets/controls",
      "model_module_version": "1.4.0",
      "model_name": "ButtonStyleModel",
      "state": {}
     },
     "4f641afcf1d04f438a5df17d96a43e7d": {
      "model_module": "@jupyter-widgets/base",
      "model_module_version": "1.1.0",
      "model_name": "LayoutModel",
      "state": {}
     },
     "506d8b5bed624792ab7ae635b7213b89": {
      "model_module": "@jupyter-widgets/controls",
      "model_module_version": "1.4.0",
      "model_name": "ButtonStyleModel",
      "state": {}
     },
     "5213d42a28c8438ca400e1aea02be0b3": {
      "model_module": "@jupyter-widgets/controls",
      "model_module_version": "1.4.0",
      "model_name": "SliderStyleModel",
      "state": {
       "description_width": ""
      }
     },
     "531c758215434e36ba6ba2bfced39d19": {
      "model_module": "@jupyter-widgets/controls",
      "model_module_version": "1.4.0",
      "model_name": "VBoxModel",
      "state": {
       "children": [
        "IPY_MODEL_e47319faf4e44287b41afd4b8834d147",
        "IPY_MODEL_2722fb2291e240a69790e9a5515d1d43"
       ],
       "layout": "IPY_MODEL_56d8677cf06242fd911d5da43d97c763"
      }
     },
     "532445b524734b56aa9c01a652de0a4d": {
      "model_module": "@jupyter-widgets/base",
      "model_module_version": "1.1.0",
      "model_name": "LayoutModel",
      "state": {}
     },
     "53d2cfbae8ad44ae990b5da794f74478": {
      "model_module": "@jupyter-widgets/base",
      "model_module_version": "1.1.0",
      "model_name": "LayoutModel",
      "state": {}
     },
     "53dc4241a2c843cfb145072bb033a9d4": {
      "model_module": "@jupyter-widgets/controls",
      "model_module_version": "1.4.0",
      "model_name": "ButtonModel",
      "state": {
       "description": "Next",
       "layout": "IPY_MODEL_53d2cfbae8ad44ae990b5da794f74478",
       "style": "IPY_MODEL_1da627a7500544659fd4d2e2a2953664"
      }
     },
     "546a18a8e393461a9bd4c0535a260a89": {
      "model_module": "@jupyter-widgets/base",
      "model_module_version": "1.1.0",
      "model_name": "LayoutModel",
      "state": {}
     },
     "55ad3cadbe8440718b43978163b3c351": {
      "model_module": "@jupyter-widgets/base",
      "model_module_version": "1.1.0",
      "model_name": "LayoutModel",
      "state": {}
     },
     "562a5fc5327e43cfaa41e7dfddca7e85": {
      "model_module": "@jupyter-widgets/controls",
      "model_module_version": "1.4.0",
      "model_name": "HBoxModel",
      "state": {
       "children": [
        "IPY_MODEL_fb24b0da08fb40498ca44ed19d9a7c3b",
        "IPY_MODEL_5adb2fcb841c4cc39eb8021804580cb4"
       ],
       "layout": "IPY_MODEL_a8cf43d9e88643f1b53f13f3844a9a6e"
      }
     },
     "56d8677cf06242fd911d5da43d97c763": {
      "model_module": "@jupyter-widgets/base",
      "model_module_version": "1.1.0",
      "model_name": "LayoutModel",
      "state": {}
     },
     "56ee9ff0634b4dd689ea3d4e7a0efb7c": {
      "model_module": "@jupyter-widgets/controls",
      "model_module_version": "1.4.0",
      "model_name": "IntProgressModel",
      "state": {
       "bar_style": "success",
       "layout": "IPY_MODEL_a2f68250a17e4bee9e40209912652197",
       "max": 2519,
       "style": "IPY_MODEL_0aeb796689a34266a9d30a24bf453960",
       "value": 2519
      }
     },
     "584e404601084cae84f41d98be163153": {
      "model_module": "@jupyter-widgets/base",
      "model_module_version": "1.1.0",
      "model_name": "LayoutModel",
      "state": {
       "width": "99%"
      }
     },
     "586c9b663d8f449ca5f849f47370dfa9": {
      "model_module": "@jupyter-widgets/base",
      "model_module_version": "1.1.0",
      "model_name": "LayoutModel",
      "state": {}
     },
     "5882b368667e41a4bd4c23e13f50385c": {
      "model_module": "@jupyter-widgets/base",
      "model_module_version": "1.1.0",
      "model_name": "LayoutModel",
      "state": {}
     },
     "59714e0787a94c40a906fbf9e3922ffa": {
      "model_module": "@jupyter-widgets/controls",
      "model_module_version": "1.4.0",
      "model_name": "ButtonStyleModel",
      "state": {}
     },
     "5988a5c5bff941a18a74eeeddebab5cd": {
      "model_module": "@jupyter-widgets/base",
      "model_module_version": "1.1.0",
      "model_name": "LayoutModel",
      "state": {}
     },
     "5ad1964cd13a4c1c84fe15c3c8690dc1": {
      "model_module": "@jupyter-widgets/controls",
      "model_module_version": "1.4.0",
      "model_name": "ButtonStyleModel",
      "state": {}
     },
     "5adb2fcb841c4cc39eb8021804580cb4": {
      "model_module": "@jupyter-widgets/controls",
      "model_module_version": "1.4.0",
      "model_name": "HTMLModel",
      "state": {
       "layout": "IPY_MODEL_fa15284eb7e34ea3a94b71182a90c615",
       "style": "IPY_MODEL_fafac7e4255b49a8be8379800a694fcb",
       "value": "100% 1723/1723 [16:19&lt;00:00,  1.76it/s]"
      }
     },
     "5b14bc8c85b1426a876e10348b46b9f9": {
      "model_module": "@jupyter-widgets/controls",
      "model_module_version": "1.4.0",
      "model_name": "ButtonModel",
      "state": {
       "description": "Prev",
       "layout": "IPY_MODEL_c4182dd1eb9f4fabaa1b5264797884ca",
       "style": "IPY_MODEL_960c79c77e204febbdf15cebef69afe8"
      }
     },
     "5b55672b77004927a1585ca270142575": {
      "model_module": "@jupyter-widgets/base",
      "model_module_version": "1.1.0",
      "model_name": "LayoutModel",
      "state": {}
     },
     "5bbc4a76288e4cc39f608c4be9c56dc0": {
      "model_module": "@jupyter-widgets/controls",
      "model_module_version": "1.4.0",
      "model_name": "ButtonModel",
      "state": {
       "description": "Last",
       "layout": "IPY_MODEL_c79678c0ef31456988c411e7be1e51d3",
       "style": "IPY_MODEL_5d9c72b597db42838a61fb6c71167111"
      }
     },
     "5be151cf4feb431a9b0877a894010842": {
      "model_module": "@jupyter-widgets/controls",
      "model_module_version": "1.4.0",
      "model_name": "HBoxModel",
      "state": {
       "children": [
        "IPY_MODEL_0ba7cda4a8be48b0a293dca0e1dcab82",
        "IPY_MODEL_a318a998d03241bb824755f77073a806",
        "IPY_MODEL_998cbf565ddd4f9391560fa415fa26bb",
        "IPY_MODEL_f6618bbab6784539932e3a95f7efb7c7",
        "IPY_MODEL_f4a79a0b2318413eb7ceb0f6b24eb559",
        "IPY_MODEL_152dc4e602294ccca71daf3819f5488d"
       ],
       "layout": "IPY_MODEL_fe145dfe5c074ff0916dd37169544f94"
      }
     },
     "5bee1fe866d147bb97a1ac86222ef7d1": {
      "model_module": "@jupyter-widgets/base",
      "model_module_version": "1.1.0",
      "model_name": "LayoutModel",
      "state": {}
     },
     "5ccc77173ded4c1dad15cbb4b5809157": {
      "model_module": "@jupyter-widgets/base",
      "model_module_version": "1.1.0",
      "model_name": "LayoutModel",
      "state": {}
     },
     "5d0da879343746f1a1b9ec8b50375a5c": {
      "model_module": "@jupyter-widgets/base",
      "model_module_version": "1.1.0",
      "model_name": "LayoutModel",
      "state": {}
     },
     "5d9c72b597db42838a61fb6c71167111": {
      "model_module": "@jupyter-widgets/controls",
      "model_module_version": "1.4.0",
      "model_name": "ButtonStyleModel",
      "state": {}
     },
     "5ecafd108e124121adf5521e53b03b70": {
      "model_module": "@jupyter-widgets/base",
      "model_module_version": "1.1.0",
      "model_name": "LayoutModel",
      "state": {}
     },
     "5f1c456653e74ff69d4fc54b3163215d": {
      "model_module": "@jupyter-widgets/controls",
      "model_module_version": "1.4.0",
      "model_name": "ButtonStyleModel",
      "state": {}
     },
     "6017d3414f8442579cd84cffeb133dba": {
      "model_module": "@jupyter-widgets/base",
      "model_module_version": "1.1.0",
      "model_name": "LayoutModel",
      "state": {}
     },
     "608af02017ee41d6a105f3044644b5c5": {
      "model_module": "@jupyter-widgets/controls",
      "model_module_version": "1.4.0",
      "model_name": "LinkModel",
      "state": {
       "source": [
        "IPY_MODEL_224556496e8842409a0d201c78b39590",
        "value"
       ],
       "target": [
        "IPY_MODEL_78bc665de1c54b04b6b11e32001a2b98",
        "value"
       ]
      }
     },
     "60b57082008d4196a0a681ac63ce5018": {
      "model_module": "@jupyter-widgets/base",
      "model_module_version": "1.1.0",
      "model_name": "LayoutModel",
      "state": {}
     },
     "611b4789c61e4509b703917deccf57e4": {
      "model_module": "@jupyter-widgets/controls",
      "model_module_version": "1.4.0",
      "model_name": "LinkModel",
      "state": {
       "source": [
        "IPY_MODEL_3e7d31f90acb47bcaf962b31a892c960",
        "value"
       ],
       "target": [
        "IPY_MODEL_2eafce3422ab468384ee7bc13c74a0a3",
        "value"
       ]
      }
     },
     "6137d787b84642d3a3451cbaa639acb1": {
      "model_module": "@jupyter-widgets/base",
      "model_module_version": "1.1.0",
      "model_name": "LayoutModel",
      "state": {}
     },
     "61665d2f1cc2497593dfab5ba45f0183": {
      "model_module": "@jupyter-widgets/base",
      "model_module_version": "1.1.0",
      "model_name": "LayoutModel",
      "state": {}
     },
     "6184ffb72a404e62896ec5e1ecf57de2": {
      "model_module": "@jupyter-widgets/controls",
      "model_module_version": "1.4.0",
      "model_name": "BoundedIntTextModel",
      "state": {
       "layout": "IPY_MODEL_b5d1eb358e004e63ab98bbbdb999a698",
       "max": 2352,
       "style": "IPY_MODEL_a45fc9ac7d514663a9e01af8ee077a1a",
       "value": 605
      }
     },
     "61868736b1d740609f8f38a6da8cf882": {
      "model_module": "@jupyter-widgets/controls",
      "model_module_version": "1.4.0",
      "model_name": "VBoxModel",
      "state": {
       "children": [
        "IPY_MODEL_92e2dbb325c240ada6d668948a684626",
        "IPY_MODEL_3356f57cce3d4ad6b03a0e6d0d1cfbae"
       ],
       "layout": "IPY_MODEL_e0120fee6e5d429592f47add3ec56bfe"
      }
     },
     "625c6d9457d449a3a415cb5c0f45308c": {
      "model_module": "@jupyter-widgets/base",
      "model_module_version": "1.1.0",
      "model_name": "LayoutModel",
      "state": {
       "width": "99%"
      }
     },
     "6263d0272416459f8782c86f7b0fa576": {
      "model_module": "@jupyter-widgets/controls",
      "model_module_version": "1.4.0",
      "model_name": "BoundedIntTextModel",
      "state": {
       "layout": "IPY_MODEL_46f8dc39fe2544a6b2743c733605d061",
       "max": 3,
       "style": "IPY_MODEL_9acbad7bc7844426a62d1d3e9f4d60a6"
      }
     },
     "62f3c57a6fa642ed9e9c039adad1daae": {
      "model_module": "@jupyter-widgets/controls",
      "model_module_version": "1.4.0",
      "model_name": "HBoxModel",
      "state": {
       "children": [
        "IPY_MODEL_d606b6838b96438c9d9424cc98e8c54b",
        "IPY_MODEL_25476524d5c044ff85dbeb216517af55",
        "IPY_MODEL_9bee08a0c9ee4daea12f5ac22f0441cb",
        "IPY_MODEL_a2821d3b179b40eda111a46247f611f4",
        "IPY_MODEL_c574583fac174acc8ff3543411e47ff0",
        "IPY_MODEL_46b805ec92d44cc3a8954ad8652f0d4d"
       ],
       "layout": "IPY_MODEL_6a45f92f20bb458082f25bb56c2e20c3"
      }
     },
     "63eda91338fc40da885443f7e632d253": {
      "model_module": "@jupyter-widgets/controls",
      "model_module_version": "1.4.0",
      "model_name": "ButtonModel",
      "state": {
       "description": "First",
       "layout": "IPY_MODEL_b17cfe0c1ee844dfa8825ca10243bfd6",
       "style": "IPY_MODEL_fc93689c3b78408c92df6c686968abea"
      }
     },
     "6440333bf0464c968b88a1751cc48006": {
      "model_module": "@jupyter-widgets/controls",
      "model_module_version": "1.4.0",
      "model_name": "ButtonStyleModel",
      "state": {}
     },
     "6903d86c28334ccfbacadad23c096696": {
      "model_module": "@jupyter-widgets/controls",
      "model_module_version": "1.4.0",
      "model_name": "ButtonModel",
      "state": {
       "description": "Prev",
       "layout": "IPY_MODEL_4807edb72eda43cea27eb95ab801c1de",
       "style": "IPY_MODEL_7ec7198782de49108181a48dcffdd0ba"
      }
     },
     "697452245c7249d4854b24a3df207c1e": {
      "model_module": "@jupyter-widgets/controls",
      "model_module_version": "1.4.0",
      "model_name": "ButtonModel",
      "state": {
       "description": "Last",
       "layout": "IPY_MODEL_c2418bf451314d42a098f84fe5607a7b",
       "style": "IPY_MODEL_a7425f88feea47879ae8eb9f58ca2abf"
      }
     },
     "69d794bc35084791adeedb640f8c0fa6": {
      "model_module": "@jupyter-widgets/controls",
      "model_module_version": "1.4.0",
      "model_name": "DescriptionStyleModel",
      "state": {
       "description_width": ""
      }
     },
     "6a45f92f20bb458082f25bb56c2e20c3": {
      "model_module": "@jupyter-widgets/base",
      "model_module_version": "1.1.0",
      "model_name": "LayoutModel",
      "state": {}
     },
     "6a784b42b2b741f896e5ae334e0ffe9d": {
      "model_module": "@jupyter-widgets/base",
      "model_module_version": "1.1.0",
      "model_name": "LayoutModel",
      "state": {}
     },
     "6afa2148e4f844ccaa6a194b08fcd35d": {
      "model_module": "@jupyter-widgets/base",
      "model_module_version": "1.1.0",
      "model_name": "LayoutModel",
      "state": {}
     },
     "6ba1ff5369ba45849a901977aa9e92cb": {
      "model_module": "@jupyter-widgets/controls",
      "model_module_version": "1.4.0",
      "model_name": "ButtonStyleModel",
      "state": {}
     },
     "6ba8cec8badd40b8aa359cc68868c5da": {
      "model_module": "@jupyter-widgets/base",
      "model_module_version": "1.1.0",
      "model_name": "LayoutModel",
      "state": {}
     },
     "6d316e3f1f7d489e9ba88d57eb0a9652": {
      "model_module": "@jupyter-widgets/controls",
      "model_module_version": "1.4.0",
      "model_name": "BoundedIntTextModel",
      "state": {
       "layout": "IPY_MODEL_f89e9573815f43dc9eb3f5c348620f38",
       "max": 2340,
       "style": "IPY_MODEL_12be545d1acb4c42bb0e4ecb4bcf5ac0",
       "value": 923
      }
     },
     "6dea97163bf84d01a27f0ae9ba53fc38": {
      "model_module": "@jupyter-widgets/controls",
      "model_module_version": "1.4.0",
      "model_name": "ButtonStyleModel",
      "state": {}
     },
     "6e5505166bcf42f58b958a9b3480f7d2": {
      "model_module": "@jupyter-widgets/base",
      "model_module_version": "1.1.0",
      "model_name": "LayoutModel",
      "state": {}
     },
     "6e6e4c9539894301aaada17ae80cb9ba": {
      "model_module": "@jupyter-widgets/controls",
      "model_module_version": "1.4.0",
      "model_name": "ButtonStyleModel",
      "state": {}
     },
     "6e8cce8d892049aabc53df369a266e91": {
      "model_module": "@jupyter-widgets/controls",
      "model_module_version": "1.4.0",
      "model_name": "ButtonModel",
      "state": {
       "description": "Next",
       "layout": "IPY_MODEL_889a88696c68460d99a1210b2b8be3fe",
       "style": "IPY_MODEL_6e6e4c9539894301aaada17ae80cb9ba"
      }
     },
     "6efeb8291e7646e9a0ca9d39a952f52d": {
      "model_module": "@jupyter-widgets/controls",
      "model_module_version": "1.4.0",
      "model_name": "ButtonModel",
      "state": {
       "description": "Prev",
       "layout": "IPY_MODEL_18267ba1d07f4a60982ae7c619dc0a44",
       "style": "IPY_MODEL_f9cccb3d849f4820aea04ff12487c883"
      }
     },
     "6f47c1a84c1c44108387c8980266a448": {
      "model_module": "@jupyter-widgets/controls",
      "model_module_version": "1.4.0",
      "model_name": "ButtonModel",
      "state": {
       "description": "Random",
       "layout": "IPY_MODEL_3081129b19224036b91e2a4a0992f7ee",
       "style": "IPY_MODEL_d371f032eabb47f89f1ab8d591e04714"
      }
     },
     "6f922badc65c497fb7ffd331996024b8": {
      "model_module": "@jupyter-widgets/controls",
      "model_module_version": "1.4.0",
      "model_name": "ButtonStyleModel",
      "state": {}
     },
     "7014710df5e44acd8bdf76a80bffbef4": {
      "model_module": "@jupyter-widgets/controls",
      "model_module_version": "1.4.0",
      "model_name": "ButtonModel",
      "state": {
       "description": "Last",
       "layout": "IPY_MODEL_f080838eed27446c84015be99905e3ab",
       "style": "IPY_MODEL_f0e0f2d57ed94cb8b9c8c978b6db6765"
      }
     },
     "705052ffee3e41a28530e1ef02613dd2": {
      "model_module": "@jupyter-widgets/controls",
      "model_module_version": "1.4.0",
      "model_name": "ButtonModel",
      "state": {
       "description": "First",
       "layout": "IPY_MODEL_5b55672b77004927a1585ca270142575",
       "style": "IPY_MODEL_c6330684536741b996a616135eaf0e51"
      }
     },
     "711a5e314e3d46b096e86af96e0c869e": {
      "model_module": "@jupyter-widgets/controls",
      "model_module_version": "1.4.0",
      "model_name": "SliderStyleModel",
      "state": {
       "description_width": ""
      }
     },
     "712670a7a2ce4b779d8c12f6abf8d894": {
      "model_module": "@jupyter-widgets/controls",
      "model_module_version": "1.4.0",
      "model_name": "ButtonModel",
      "state": {
       "description": "Last",
       "layout": "IPY_MODEL_a1ad76d970f34787859e17275de25e1f",
       "style": "IPY_MODEL_6ba1ff5369ba45849a901977aa9e92cb"
      }
     },
     "714e0bd78f73456aba0b31126ab8ac55": {
      "model_module": "@jupyter-widgets/controls",
      "model_module_version": "1.4.0",
      "model_name": "ButtonModel",
      "state": {
       "description": "Prev",
       "layout": "IPY_MODEL_b71691fd838f4049bcd0b0cca31aa5e5",
       "style": "IPY_MODEL_dbdee67851e84c14a81af00624974996"
      }
     },
     "719571dd1a40412fac7fb8061df89824": {
      "model_module": "@jupyter-widgets/controls",
      "model_module_version": "1.4.0",
      "model_name": "ButtonStyleModel",
      "state": {}
     },
     "71a64e1e9b34466fb581ce973f8603c4": {
      "model_module": "@jupyter-widgets/controls",
      "model_module_version": "1.4.0",
      "model_name": "ButtonModel",
      "state": {
       "description": "First",
       "layout": "IPY_MODEL_03dac6f20ba8475f8df048740ae71188",
       "style": "IPY_MODEL_5ad1964cd13a4c1c84fe15c3c8690dc1"
      }
     },
     "72be6458c5074820a519a1571b9668f5": {
      "model_module": "@jupyter-widgets/controls",
      "model_module_version": "1.4.0",
      "model_name": "ButtonStyleModel",
      "state": {}
     },
     "731d185105dc42198698e683da172fb2": {
      "model_module": "@jupyter-widgets/base",
      "model_module_version": "1.1.0",
      "model_name": "LayoutModel",
      "state": {}
     },
     "7329956718c44141ae4d211ad6b4fda8": {
      "model_module": "@jupyter-widgets/controls",
      "model_module_version": "1.4.0",
      "model_name": "ButtonModel",
      "state": {
       "description": "Last",
       "layout": "IPY_MODEL_2a82296355cc4d90b12a92537307807b",
       "style": "IPY_MODEL_0dcd3211ba394a54abaa83d8cde7fb17"
      }
     },
     "743d1b0f4d974cce90cf1895fabdd24d": {
      "model_module": "@jupyter-widgets/controls",
      "model_module_version": "1.4.0",
      "model_name": "LinkModel",
      "state": {
       "source": [
        "IPY_MODEL_9bee08a0c9ee4daea12f5ac22f0441cb",
        "value"
       ],
       "target": [
        "IPY_MODEL_41e8b8d9cd9d4f6d9769cddc7a43b15c",
        "value"
       ]
      }
     },
     "74527cc47e774243ab50fb7100765b5f": {
      "model_module": "@jupyter-widgets/controls",
      "model_module_version": "1.4.0",
      "model_name": "DescriptionStyleModel",
      "state": {
       "description_width": ""
      }
     },
     "74602d0360c8468d99582c50497fad04": {
      "model_module": "@jupyter-widgets/controls",
      "model_module_version": "1.4.0",
      "model_name": "SliderStyleModel",
      "state": {
       "description_width": ""
      }
     },
     "74d5dab6b42a4aee88eba51d96c6a986": {
      "model_module": "@jupyter-widgets/controls",
      "model_module_version": "1.4.0",
      "model_name": "SliderStyleModel",
      "state": {
       "description_width": ""
      }
     },
     "7528b96022004b7ea5bb24bfffdaf146": {
      "model_module": "@jupyter-widgets/controls",
      "model_module_version": "1.4.0",
      "model_name": "IntSliderModel",
      "state": {
       "layout": "IPY_MODEL_7aeb5c154df04350b1e48e1787ceda30",
       "max": 16,
       "readout": false,
       "style": "IPY_MODEL_444a7bd67d2f426d8bb6ef838a45b4fe"
      }
     },
     "76d91618e2e54367b99ae6701bfa9e04": {
      "model_module": "@jupyter-widgets/base",
      "model_module_version": "1.1.0",
      "model_name": "LayoutModel",
      "state": {}
     },
     "77391c1ee062472d8786ffd866f83b97": {
      "model_module": "@jupyter-widgets/controls",
      "model_module_version": "1.4.0",
      "model_name": "ButtonModel",
      "state": {
       "description": "Next",
       "layout": "IPY_MODEL_f25046b00024435c85538f14ea8b9dbf",
       "style": "IPY_MODEL_9f5bbeaf15174dd99666f10de6e193fd"
      }
     },
     "77d51890b4c74b45b3ddb147974c47bc": {
      "model_module": "@jupyter-widgets/controls",
      "model_module_version": "1.4.0",
      "model_name": "ButtonModel",
      "state": {
       "description": "Next",
       "layout": "IPY_MODEL_ab8a0c99ed52473383804f46317d3841",
       "style": "IPY_MODEL_9214ad49fa734122a3ca98e11bb46956"
      }
     },
     "78050d925cbf441d9a0d8941160baebb": {
      "model_module": "@jupyter-widgets/controls",
      "model_module_version": "1.4.0",
      "model_name": "ButtonStyleModel",
      "state": {}
     },
     "78bc665de1c54b04b6b11e32001a2b98": {
      "model_module": "@jupyter-widgets/controls",
      "model_module_version": "1.4.0",
      "model_name": "IntSliderModel",
      "state": {
       "layout": "IPY_MODEL_076c220919f241969d5effed10ed8c12",
       "max": 6,
       "readout": false,
       "style": "IPY_MODEL_ad29588a8aab4d9891cfabab024bb95b"
      }
     },
     "790db84833894515b47f0b38505a184c": {
      "model_module": "@jupyter-widgets/base",
      "model_module_version": "1.1.0",
      "model_name": "LayoutModel",
      "state": {}
     },
     "7a27ae37bcfd4f59b51c1f7af1c7a7e2": {
      "model_module": "@jupyter-widgets/base",
      "model_module_version": "1.1.0",
      "model_name": "LayoutModel",
      "state": {}
     },
     "7aeb5c154df04350b1e48e1787ceda30": {
      "model_module": "@jupyter-widgets/base",
      "model_module_version": "1.1.0",
      "model_name": "LayoutModel",
      "state": {
       "width": "99%"
      }
     },
     "7b3fee56fc184a7f94788f73c13577ed": {
      "model_module": "@jupyter-widgets/controls",
      "model_module_version": "1.4.0",
      "model_name": "IntProgressModel",
      "state": {
       "bar_style": "success",
       "layout": "IPY_MODEL_f7f171a1652a4eb98485f3605ed66612",
       "max": 2394,
       "style": "IPY_MODEL_d332b27661b0479ab35b01591769938e",
       "value": 2394
      }
     },
     "7c6bbf33943843ac9c122d3dc592c670": {
      "model_module": "@jupyter-widgets/controls",
      "model_module_version": "1.4.0",
      "model_name": "ButtonStyleModel",
      "state": {}
     },
     "7caab08bff96433781c8bfe4acdd55f8": {
      "model_module": "@jupyter-widgets/controls",
      "model_module_version": "1.4.0",
      "model_name": "VBoxModel",
      "state": {
       "children": [
        "IPY_MODEL_c7453a73763e455bb8be785bc1653c30",
        "IPY_MODEL_d1f0cd77e7e0483f9c572b00aea9ea9c"
       ],
       "layout": "IPY_MODEL_21f95c4360b54c228fc3c83f6bc59732"
      }
     },
     "7d7a192440f94cb897481a42a51bcaaf": {
      "model_module": "@jupyter-widgets/controls",
      "model_module_version": "1.4.0",
      "model_name": "ButtonStyleModel",
      "state": {}
     },
     "7d8a653f362d4ce69b3b32bdc382c0f0": {
      "model_module": "@jupyter-widgets/base",
      "model_module_version": "1.1.0",
      "model_name": "LayoutModel",
      "state": {}
     },
     "7e9bdb77435246208ca3ce1bec523fdf": {
      "model_module": "@jupyter-widgets/controls",
      "model_module_version": "1.4.0",
      "model_name": "ButtonStyleModel",
      "state": {}
     },
     "7eb1249943c3400985bbeca617ad0a22": {
      "model_module": "@jupyter-widgets/controls",
      "model_module_version": "1.4.0",
      "model_name": "VBoxModel",
      "state": {
       "children": [
        "IPY_MODEL_a08bdfe31dcb4e8284c7b53a7eeb0a16",
        "IPY_MODEL_88284fe94bc4415d88b91f5cfc06d74a"
       ],
       "layout": "IPY_MODEL_2eec938b7a104a92aba3a22b6534cbd4"
      }
     },
     "7eb74bd3d7c646d5b8e3fe3f2d0b274e": {
      "model_module": "@jupyter-widgets/base",
      "model_module_version": "1.1.0",
      "model_name": "LayoutModel",
      "state": {}
     },
     "7ec7198782de49108181a48dcffdd0ba": {
      "model_module": "@jupyter-widgets/controls",
      "model_module_version": "1.4.0",
      "model_name": "ButtonStyleModel",
      "state": {}
     },
     "7fd4072681bd429e9f673e77cb3f5bf8": {
      "model_module": "@jupyter-widgets/controls",
      "model_module_version": "1.4.0",
      "model_name": "ButtonStyleModel",
      "state": {}
     },
     "800437ff769c4c58a54f9f91a345d96b": {
      "model_module": "@jupyter-widgets/controls",
      "model_module_version": "1.4.0",
      "model_name": "ButtonModel",
      "state": {
       "description": "Random",
       "layout": "IPY_MODEL_6017d3414f8442579cd84cffeb133dba",
       "style": "IPY_MODEL_14fab1df7b5149789606595877b1f56f"
      }
     },
     "80dfb5b719814c7996dd56fd81180a03": {
      "model_module": "@jupyter-widgets/controls",
      "model_module_version": "1.4.0",
      "model_name": "IntProgressModel",
      "state": {
       "bar_style": "success",
       "layout": "IPY_MODEL_eec2df08afe04474aba087d8cac14fac",
       "max": 1741,
       "style": "IPY_MODEL_9d92c128f8a34aabaf7b6db24a6144be",
       "value": 1741
      }
     },
     "812a502eca214acb8a2a2f2ee93aa601": {
      "model_module": "@jupyter-widgets/controls",
      "model_module_version": "1.4.0",
      "model_name": "LinkModel",
      "state": {
       "source": [
        "IPY_MODEL_4b26d28fcf9443e7a2709761bb3bb01f",
        "value"
       ],
       "target": [
        "IPY_MODEL_d1f0cd77e7e0483f9c572b00aea9ea9c",
        "value"
       ]
      }
     },
     "82a75f80855d4a819a44610e25b8cf9e": {
      "model_module": "@jupyter-widgets/base",
      "model_module_version": "1.1.0",
      "model_name": "LayoutModel",
      "state": {}
     },
     "82bbd7bd32434079b8f655c4ae3e6881": {
      "model_module": "@jupyter-widgets/controls",
      "model_module_version": "1.4.0",
      "model_name": "LinkModel",
      "state": {
       "source": [
        "IPY_MODEL_a4f31881a8704c809d4e617c7263d39c",
        "value"
       ],
       "target": [
        "IPY_MODEL_7528b96022004b7ea5bb24bfffdaf146",
        "value"
       ]
      }
     },
     "82e08453d544493aa29b8b8d14bfa26a": {
      "model_module": "@jupyter-widgets/base",
      "model_module_version": "1.1.0",
      "model_name": "LayoutModel",
      "state": {}
     },
     "848e313da2ad4ba9954705e28c612008": {
      "model_module": "@jupyter-widgets/controls",
      "model_module_version": "1.4.0",
      "model_name": "IntSliderModel",
      "state": {
       "layout": "IPY_MODEL_bf1caf9171af4c80b17822187de6893f",
       "max": 2340,
       "readout": false,
       "style": "IPY_MODEL_711a5e314e3d46b096e86af96e0c869e",
       "value": 923
      }
     },
     "850a2e3aaf7c4501b2a70137b14974bf": {
      "model_module": "@jupyter-widgets/base",
      "model_module_version": "1.1.0",
      "model_name": "LayoutModel",
      "state": {}
     },
     "85e395775b2f42558744da3adb4e2509": {
      "model_module": "@jupyter-widgets/controls",
      "model_module_version": "1.4.0",
      "model_name": "ButtonModel",
      "state": {
       "description": "First",
       "layout": "IPY_MODEL_b79acba72c44494583a2b48842ab39e4",
       "style": "IPY_MODEL_1141d925862c490891afed3b9be7509d"
      }
     },
     "86d9a73e4d2e4e7db728f63a35ac9db0": {
      "model_module": "@jupyter-widgets/base",
      "model_module_version": "1.1.0",
      "model_name": "LayoutModel",
      "state": {}
     },
     "874227d1a9d64e2c89862dc7e0cfb835": {
      "model_module": "@jupyter-widgets/controls",
      "model_module_version": "1.4.0",
      "model_name": "ButtonModel",
      "state": {
       "description": "Prev",
       "layout": "IPY_MODEL_b8fc97586c37415792b9cc7f17ce0b5e",
       "style": "IPY_MODEL_f4b5bbfd27b646ffb9f59572e77f8f75"
      }
     },
     "88284fe94bc4415d88b91f5cfc06d74a": {
      "model_module": "@jupyter-widgets/controls",
      "model_module_version": "1.4.0",
      "model_name": "IntSliderModel",
      "state": {
       "layout": "IPY_MODEL_1fc7bfb49f884728abd1625a62fa6bf6",
       "max": 23,
       "readout": false,
       "style": "IPY_MODEL_2341f3aaf24f4bf0a3f516bf85ebe14b",
       "value": 11
      }
     },
     "889a88696c68460d99a1210b2b8be3fe": {
      "model_module": "@jupyter-widgets/base",
      "model_module_version": "1.1.0",
      "model_name": "LayoutModel",
      "state": {}
     },
     "88abd9fedf2d4dbca5b98286bb38b4d5": {
      "model_module": "@jupyter-widgets/controls",
      "model_module_version": "1.4.0",
      "model_name": "HBoxModel",
      "state": {
       "children": [
        "IPY_MODEL_3ed0e83b4d0e414685ce4539d0921358",
        "IPY_MODEL_874227d1a9d64e2c89862dc7e0cfb835",
        "IPY_MODEL_224556496e8842409a0d201c78b39590",
        "IPY_MODEL_77d51890b4c74b45b3ddb147974c47bc",
        "IPY_MODEL_12d4ad4062f84c8dbd875528e187c77c",
        "IPY_MODEL_e69f947dd9b140f8b2dd7572da4d5d0d"
       ],
       "layout": "IPY_MODEL_34dfeb7e37be41a18f5e7357f13c7c88"
      }
     },
     "89cdb16467714282a668b20d5de438f2": {
      "model_module": "@jupyter-widgets/base",
      "model_module_version": "1.1.0",
      "model_name": "LayoutModel",
      "state": {}
     },
     "89e8acef1be84af9bda8562ca9dadf38": {
      "model_module": "@jupyter-widgets/controls",
      "model_module_version": "1.4.0",
      "model_name": "VBoxModel",
      "state": {
       "children": [
        "IPY_MODEL_f5931010ea1d488594e3ebc6b7376f74",
        "IPY_MODEL_ccf47ea3d93a4357823dbee5a236af27"
       ],
       "layout": "IPY_MODEL_731d185105dc42198698e683da172fb2"
      }
     },
     "8a3fa43a5db24ade80d50bc80fbc8f00": {
      "model_module": "@jupyter-widgets/base",
      "model_module_version": "1.1.0",
      "model_name": "LayoutModel",
      "state": {}
     },
     "8a995ec38bab4a2da5206a3db11b0aca": {
      "model_module": "@jupyter-widgets/base",
      "model_module_version": "1.1.0",
      "model_name": "LayoutModel",
      "state": {}
     },
     "8b2b6b7cbf144d32a4e0a35ae24e6462": {
      "model_module": "@jupyter-widgets/base",
      "model_module_version": "1.1.0",
      "model_name": "LayoutModel",
      "state": {}
     },
     "8b4244898e4c46c8ae82df8a500c03d1": {
      "model_module": "@jupyter-widgets/controls",
      "model_module_version": "1.4.0",
      "model_name": "LinkModel",
      "state": {
       "source": [
        "IPY_MODEL_6d316e3f1f7d489e9ba88d57eb0a9652",
        "value"
       ],
       "target": [
        "IPY_MODEL_848e313da2ad4ba9954705e28c612008",
        "value"
       ]
      }
     },
     "8ba25d9dba274bf09b88de0a48da5d86": {
      "model_module": "@jupyter-widgets/base",
      "model_module_version": "1.1.0",
      "model_name": "LayoutModel",
      "state": {}
     },
     "8be47299e5934c14add88f72b8cd4018": {
      "model_module": "@jupyter-widgets/controls",
      "model_module_version": "1.4.0",
      "model_name": "ButtonStyleModel",
      "state": {}
     },
     "8c51453d1b924d5891d60249c9af4426": {
      "model_module": "@jupyter-widgets/controls",
      "model_module_version": "1.4.0",
      "model_name": "ButtonModel",
      "state": {
       "description": "Next",
       "layout": "IPY_MODEL_4f641afcf1d04f438a5df17d96a43e7d",
       "style": "IPY_MODEL_2ea15b8a3400461d92789604523c80c5"
      }
     },
     "8ccb5053f5ad4f6d8b16f1531f263bf3": {
      "model_module": "@jupyter-widgets/controls",
      "model_module_version": "1.4.0",
      "model_name": "IntSliderModel",
      "state": {
       "layout": "IPY_MODEL_c6a26b43e9534b66bc2ffd74ee32335a",
       "max": 24,
       "readout": false,
       "style": "IPY_MODEL_4993d371e4ee4d9a9d9ca7b34d2d0b27",
       "value": 24
      }
     },
     "8d6999b6097c4abe9f9f25de894b46dc": {
      "model_module": "@jupyter-widgets/controls",
      "model_module_version": "1.4.0",
      "model_name": "ButtonModel",
      "state": {
       "description": "Next",
       "layout": "IPY_MODEL_33ec4711fd5e4b4bba24d49922c5c322",
       "style": "IPY_MODEL_39b9d4b791cb4040805caadac6f74c87"
      }
     },
     "8e320622265046ea89930f36223104a9": {
      "model_module": "@jupyter-widgets/controls",
      "model_module_version": "1.4.0",
      "model_name": "ButtonModel",
      "state": {
       "description": "Prev",
       "layout": "IPY_MODEL_4191bd0a99be428c97e9a6ce1241c3a5",
       "style": "IPY_MODEL_330b4423100949b38b481da65d36a212"
      }
     },
     "8e772009ea0d4684acc52c349a670c65": {
      "model_module": "@jupyter-widgets/base",
      "model_module_version": "1.1.0",
      "model_name": "LayoutModel",
      "state": {}
     },
     "9017a21fb0d3470498c32809adff38f1": {
      "model_module": "@jupyter-widgets/controls",
      "model_module_version": "1.4.0",
      "model_name": "DescriptionStyleModel",
      "state": {
       "description_width": ""
      }
     },
     "901f2fd161d64c78953c5a9b9549f881": {
      "model_module": "@jupyter-widgets/controls",
      "model_module_version": "1.4.0",
      "model_name": "ButtonStyleModel",
      "state": {}
     },
     "917e5bbff979435fb7b74525204bfdc4": {
      "model_module": "@jupyter-widgets/controls",
      "model_module_version": "1.4.0",
      "model_name": "LinkModel",
      "state": {
       "source": [
        "IPY_MODEL_6184ffb72a404e62896ec5e1ecf57de2",
        "value"
       ],
       "target": [
        "IPY_MODEL_af0b60412078493d91ad0a1373d34e12",
        "value"
       ]
      }
     },
     "91ccd631697c4c88be893fee09ebbb8c": {
      "model_module": "@jupyter-widgets/controls",
      "model_module_version": "1.4.0",
      "model_name": "ButtonStyleModel",
      "state": {}
     },
     "91e23cef23fd44db99282ba8a2f3bc12": {
      "model_module": "@jupyter-widgets/base",
      "model_module_version": "1.1.0",
      "model_name": "LayoutModel",
      "state": {}
     },
     "9214ad49fa734122a3ca98e11bb46956": {
      "model_module": "@jupyter-widgets/controls",
      "model_module_version": "1.4.0",
      "model_name": "ButtonStyleModel",
      "state": {}
     },
     "9234bea456664af5945e2ad9138faa3d": {
      "model_module": "@jupyter-widgets/controls",
      "model_module_version": "1.4.0",
      "model_name": "VBoxModel",
      "state": {
       "children": [
        "IPY_MODEL_62f3c57a6fa642ed9e9c039adad1daae",
        "IPY_MODEL_41e8b8d9cd9d4f6d9769cddc7a43b15c"
       ],
       "layout": "IPY_MODEL_ff6ae0a4285b40ac9e50bfb155ff107a"
      }
     },
     "92654a1dae2e4362bd0c70d78286dec7": {
      "model_module": "@jupyter-widgets/controls",
      "model_module_version": "1.4.0",
      "model_name": "ButtonModel",
      "state": {
       "description": "Random",
       "layout": "IPY_MODEL_2791e0d9135e49b4ae0d8e53c0a9a304",
       "style": "IPY_MODEL_439dd93d08ef42c5b9286c9bb11981fb"
      }
     },
     "92e2dbb325c240ada6d668948a684626": {
      "model_module": "@jupyter-widgets/controls",
      "model_module_version": "1.4.0",
      "model_name": "HBoxModel",
      "state": {
       "children": [
        "IPY_MODEL_13e472a10d0a4a34b72cfb9585bba34a",
        "IPY_MODEL_20865a1cdfa84ae68a1136661f6c473b",
        "IPY_MODEL_415c3fbd2f784f75b3f612932c89cecf",
        "IPY_MODEL_1475dc2c3142409e986a538325858520",
        "IPY_MODEL_7014710df5e44acd8bdf76a80bffbef4",
        "IPY_MODEL_d55f3cad3f1d44d6a1ef9c0b475b2de1"
       ],
       "layout": "IPY_MODEL_460c8189f664413eaca9f52e1fe85d22"
      }
     },
     "93f9a43a229745cd9f85eba2a650bd56": {
      "model_module": "@jupyter-widgets/controls",
      "model_module_version": "1.4.0",
      "model_name": "ButtonModel",
      "state": {
       "description": "Random",
       "layout": "IPY_MODEL_4d865e4f539248b4acc4d8ddc4fceac9",
       "style": "IPY_MODEL_988f7e2bede04c71a21be006a742a90a"
      }
     },
     "94bfb336f6b2498899ab179cc9e98083": {
      "model_module": "@jupyter-widgets/controls",
      "model_module_version": "1.4.0",
      "model_name": "ButtonModel",
      "state": {
       "description": "Random",
       "layout": "IPY_MODEL_ce935f7157a2493987c870328965f789",
       "style": "IPY_MODEL_6dea97163bf84d01a27f0ae9ba53fc38"
      }
     },
     "94ca624216594917b879a1e974074b5f": {
      "model_module": "@jupyter-widgets/controls",
      "model_module_version": "1.4.0",
      "model_name": "HBoxModel",
      "state": {
       "children": [
        "IPY_MODEL_a7483cd8b57844d09bf4b075ad04b3ab",
        "IPY_MODEL_714e0bd78f73456aba0b31126ab8ac55",
        "IPY_MODEL_26e566521fc04693b024bcab09e2e381",
        "IPY_MODEL_4d3771ee3dae49c3a1c711ccd2ffe905",
        "IPY_MODEL_0e77015a54024827b7bb130bb4b427c9",
        "IPY_MODEL_92654a1dae2e4362bd0c70d78286dec7"
       ],
       "layout": "IPY_MODEL_0c7a37ee8bb24cee89cc1acec088fc23"
      }
     },
     "94cbb4c16c134d5687aa2425b2ccafae": {
      "model_module": "@jupyter-widgets/controls",
      "model_module_version": "1.4.0",
      "model_name": "HBoxModel",
      "state": {
       "children": [
        "IPY_MODEL_ef632577431c4907910ee3d67cee42d3",
        "IPY_MODEL_fbf708c4ac8c4682b765bce1e3aaa568",
        "IPY_MODEL_435ffe3644474830a6747e7514bfbd73",
        "IPY_MODEL_025f678d10e74fe59cd9f833d65c6172",
        "IPY_MODEL_697452245c7249d4854b24a3df207c1e",
        "IPY_MODEL_3ff1b837333b4047a77dff33e98b9f40"
       ],
       "layout": "IPY_MODEL_e3977dd0ae1c40c08df1b0025e038f49"
      }
     },
     "94ec08000eb34df8a8337f6e8e896bf3": {
      "model_module": "@jupyter-widgets/controls",
      "model_module_version": "1.4.0",
      "model_name": "ButtonStyleModel",
      "state": {}
     },
     "9546ea875a6b447cb2a92a9586d2b9d7": {
      "model_module": "@jupyter-widgets/controls",
      "model_module_version": "1.4.0",
      "model_name": "SliderStyleModel",
      "state": {
       "description_width": ""
      }
     },
     "956479a32b46486e83ec179d1db0d0e7": {
      "model_module": "@jupyter-widgets/controls",
      "model_module_version": "1.4.0",
      "model_name": "ButtonModel",
      "state": {
       "description": "Last",
       "layout": "IPY_MODEL_215fc62e334c471883dce6a1a046d665",
       "style": "IPY_MODEL_7c6bbf33943843ac9c122d3dc592c670"
      }
     },
     "960c79c77e204febbdf15cebef69afe8": {
      "model_module": "@jupyter-widgets/controls",
      "model_module_version": "1.4.0",
      "model_name": "ButtonStyleModel",
      "state": {}
     },
     "9695a335091c430db96bd32180004188": {
      "model_module": "@jupyter-widgets/base",
      "model_module_version": "1.1.0",
      "model_name": "LayoutModel",
      "state": {}
     },
     "988f7e2bede04c71a21be006a742a90a": {
      "model_module": "@jupyter-widgets/controls",
      "model_module_version": "1.4.0",
      "model_name": "ButtonStyleModel",
      "state": {}
     },
     "98e813ba7530481ab9e04900715d6949": {
      "model_module": "@jupyter-widgets/controls",
      "model_module_version": "1.4.0",
      "model_name": "ButtonStyleModel",
      "state": {}
     },
     "998cbf565ddd4f9391560fa415fa26bb": {
      "model_module": "@jupyter-widgets/controls",
      "model_module_version": "1.4.0",
      "model_name": "BoundedIntTextModel",
      "state": {
       "layout": "IPY_MODEL_5ecafd108e124121adf5521e53b03b70",
       "max": 1690,
       "style": "IPY_MODEL_db201c74f90a4ddda36fea430ade3f69",
       "value": 30
      }
     },
     "9acbad7bc7844426a62d1d3e9f4d60a6": {
      "model_module": "@jupyter-widgets/controls",
      "model_module_version": "1.4.0",
      "model_name": "DescriptionStyleModel",
      "state": {
       "description_width": ""
      }
     },
     "9b1f2571605d421295b4026b1b936444": {
      "model_module": "@jupyter-widgets/base",
      "model_module_version": "1.1.0",
      "model_name": "LayoutModel",
      "state": {
       "width": "99%"
      }
     },
     "9b66f974a4ca475f9ad4aee29bfe6ef4": {
      "model_module": "@jupyter-widgets/controls",
      "model_module_version": "1.4.0",
      "model_name": "ButtonModel",
      "state": {
       "description": "First",
       "layout": "IPY_MODEL_d4e94286f2fb4c0d8483db540e75c0a3",
       "style": "IPY_MODEL_e5076bf58e134075b7b51533d13b3eec"
      }
     },
     "9bed30cab50b4e1caed11917a31091d9": {
      "model_module": "@jupyter-widgets/base",
      "model_module_version": "1.1.0",
      "model_name": "LayoutModel",
      "state": {
       "width": "99%"
      }
     },
     "9bee08a0c9ee4daea12f5ac22f0441cb": {
      "model_module": "@jupyter-widgets/controls",
      "model_module_version": "1.4.0",
      "model_name": "BoundedIntTextModel",
      "state": {
       "layout": "IPY_MODEL_f0a7d236b53b46af9083e3ff3bb4d580",
       "max": 1697,
       "style": "IPY_MODEL_3d60ed4504034b80ab8692a1b5fb7a03",
       "value": 1570
      }
     },
     "9c6348408abe4d5690ecaf6d0a36d14b": {
      "model_module": "@jupyter-widgets/base",
      "model_module_version": "1.1.0",
      "model_name": "LayoutModel",
      "state": {}
     },
     "9ca121191ac5414aa9c0980c2ff97f36": {
      "model_module": "@jupyter-widgets/base",
      "model_module_version": "1.1.0",
      "model_name": "LayoutModel",
      "state": {
       "width": "99%"
      }
     },
     "9d6a6aab75a249bb9291fa198381fa00": {
      "model_module": "@jupyter-widgets/controls",
      "model_module_version": "1.4.0",
      "model_name": "ButtonModel",
      "state": {
       "description": "First",
       "layout": "IPY_MODEL_1f5d69f168944f9c906307f023222c9a",
       "style": "IPY_MODEL_0fec5f8d1be1465b9878c773e4cf4ee9"
      }
     },
     "9d92c128f8a34aabaf7b6db24a6144be": {
      "model_module": "@jupyter-widgets/controls",
      "model_module_version": "1.4.0",
      "model_name": "ProgressStyleModel",
      "state": {
       "description_width": ""
      }
     },
     "9db288edee8a4ad898c361ff7ae75ee2": {
      "model_module": "@jupyter-widgets/controls",
      "model_module_version": "1.4.0",
      "model_name": "VBoxModel",
      "state": {
       "children": [
        "IPY_MODEL_42f556fe023846d48da1a8afb875b490",
        "IPY_MODEL_2e452f55ab254ca1a5f62e27385b918d"
       ],
       "layout": "IPY_MODEL_546a18a8e393461a9bd4c0535a260a89"
      }
     },
     "9dc1c14d3416410486642bca27430e78": {
      "model_module": "@jupyter-widgets/controls",
      "model_module_version": "1.4.0",
      "model_name": "VBoxModel",
      "state": {
       "children": [
        "IPY_MODEL_5be151cf4feb431a9b0877a894010842",
        "IPY_MODEL_cb7cc18517cf4078b2cd7b71480b055d"
       ],
       "layout": "IPY_MODEL_6a784b42b2b741f896e5ae334e0ffe9d"
      }
     },
     "9dc58504f8a6469da45128a357b7107a": {
      "model_module": "@jupyter-widgets/controls",
      "model_module_version": "1.4.0",
      "model_name": "SliderStyleModel",
      "state": {
       "description_width": ""
      }
     },
     "9dee55f7c2e14137905f203b56484b26": {
      "model_module": "@jupyter-widgets/base",
      "model_module_version": "1.1.0",
      "model_name": "LayoutModel",
      "state": {}
     },
     "9e0372c5b41d4fbfb3d8f3e07548c66a": {
      "model_module": "@jupyter-widgets/controls",
      "model_module_version": "1.4.0",
      "model_name": "ButtonStyleModel",
      "state": {}
     },
     "9ecb048d0d88479a91125fccc6e1fbdb": {
      "model_module": "@jupyter-widgets/controls",
      "model_module_version": "1.4.0",
      "model_name": "ButtonStyleModel",
      "state": {}
     },
     "9eefaa66ee4849ec89401e01706846bb": {
      "model_module": "@jupyter-widgets/controls",
      "model_module_version": "1.4.0",
      "model_name": "DescriptionStyleModel",
      "state": {
       "description_width": ""
      }
     },
     "9f21ff2dadc9433ea3e3668e982605bc": {
      "model_module": "@jupyter-widgets/controls",
      "model_module_version": "1.4.0",
      "model_name": "ButtonStyleModel",
      "state": {}
     },
     "9f43c18c80314636a54bbfd563a78f7d": {
      "model_module": "@jupyter-widgets/controls",
      "model_module_version": "1.4.0",
      "model_name": "SliderStyleModel",
      "state": {
       "description_width": ""
      }
     },
     "9f5bbeaf15174dd99666f10de6e193fd": {
      "model_module": "@jupyter-widgets/controls",
      "model_module_version": "1.4.0",
      "model_name": "ButtonStyleModel",
      "state": {}
     },
     "9f858c665fb14f43a26a450d7002d171": {
      "model_module": "@jupyter-widgets/base",
      "model_module_version": "1.1.0",
      "model_name": "LayoutModel",
      "state": {
       "width": "99%"
      }
     },
     "9fefd6b86fb34d4a99b23259f7b8922a": {
      "model_module": "@jupyter-widgets/base",
      "model_module_version": "1.1.0",
      "model_name": "LayoutModel",
      "state": {}
     },
     "a08bdfe31dcb4e8284c7b53a7eeb0a16": {
      "model_module": "@jupyter-widgets/controls",
      "model_module_version": "1.4.0",
      "model_name": "HBoxModel",
      "state": {
       "children": [
        "IPY_MODEL_48438ff31d8e496cb904fb0625356cac",
        "IPY_MODEL_6903d86c28334ccfbacadad23c096696",
        "IPY_MODEL_b551f006074a462da4fa9dad942a3469",
        "IPY_MODEL_efada3e5be6d4750bf3d2bef021d2b03",
        "IPY_MODEL_3233854dd5d4464caad1dd189fcfc247",
        "IPY_MODEL_c75203c700aa413f9382cd4cd24bf649"
       ],
       "layout": "IPY_MODEL_b003956c25444a3bb4278ca5e07c0e60"
      }
     },
     "a1ad76d970f34787859e17275de25e1f": {
      "model_module": "@jupyter-widgets/base",
      "model_module_version": "1.1.0",
      "model_name": "LayoutModel",
      "state": {}
     },
     "a26ec07739164793a9b0f0a7ef57cd6a": {
      "model_module": "@jupyter-widgets/base",
      "model_module_version": "1.1.0",
      "model_name": "LayoutModel",
      "state": {
       "width": "99%"
      }
     },
     "a2821d3b179b40eda111a46247f611f4": {
      "model_module": "@jupyter-widgets/controls",
      "model_module_version": "1.4.0",
      "model_name": "ButtonModel",
      "state": {
       "description": "Next",
       "layout": "IPY_MODEL_c8842a58a1aa49dba19f684d119e9551",
       "style": "IPY_MODEL_c1b6f74c84fe4249b12c4f55ed34318b"
      }
     },
     "a2a8d983f667414c88441bcaaebc02c5": {
      "model_module": "@jupyter-widgets/base",
      "model_module_version": "1.1.0",
      "model_name": "LayoutModel",
      "state": {}
     },
     "a2f68250a17e4bee9e40209912652197": {
      "model_module": "@jupyter-widgets/base",
      "model_module_version": "1.1.0",
      "model_name": "LayoutModel",
      "state": {}
     },
     "a318a998d03241bb824755f77073a806": {
      "model_module": "@jupyter-widgets/controls",
      "model_module_version": "1.4.0",
      "model_name": "ButtonModel",
      "state": {
       "description": "Prev",
       "layout": "IPY_MODEL_d4c46eda04684f2da66083499374d8df",
       "style": "IPY_MODEL_98e813ba7530481ab9e04900715d6949"
      }
     },
     "a3324e9fda034d1387d73cb02ba0ea6c": {
      "model_module": "@jupyter-widgets/controls",
      "model_module_version": "1.4.0",
      "model_name": "ButtonStyleModel",
      "state": {}
     },
     "a3a01396e9dd4f0788b6d300dce13761": {
      "model_module": "@jupyter-widgets/base",
      "model_module_version": "1.1.0",
      "model_name": "LayoutModel",
      "state": {
       "width": "99%"
      }
     },
     "a3d2084e7ab84c6f9ea3d52231aaad8c": {
      "model_module": "@jupyter-widgets/base",
      "model_module_version": "1.1.0",
      "model_name": "LayoutModel",
      "state": {}
     },
     "a45fc9ac7d514663a9e01af8ee077a1a": {
      "model_module": "@jupyter-widgets/controls",
      "model_module_version": "1.4.0",
      "model_name": "DescriptionStyleModel",
      "state": {
       "description_width": ""
      }
     },
     "a4a2ed2b13e54cce819a47ddbc6cfb75": {
      "model_module": "@jupyter-widgets/controls",
      "model_module_version": "1.4.0",
      "model_name": "DescriptionStyleModel",
      "state": {
       "description_width": ""
      }
     },
     "a4bef4bb4b954d2cbe5efd89bae8257c": {
      "model_module": "@jupyter-widgets/controls",
      "model_module_version": "1.4.0",
      "model_name": "ButtonStyleModel",
      "state": {}
     },
     "a4f31881a8704c809d4e617c7263d39c": {
      "model_module": "@jupyter-widgets/controls",
      "model_module_version": "1.4.0",
      "model_name": "BoundedIntTextModel",
      "state": {
       "layout": "IPY_MODEL_5bee1fe866d147bb97a1ac86222ef7d1",
       "max": 16,
       "style": "IPY_MODEL_b63e66b040bc414194ea914fb0d9f9c7"
      }
     },
     "a5066c4e451849559faae255bc2944c9": {
      "model_module": "@jupyter-widgets/controls",
      "model_module_version": "1.4.0",
      "model_name": "ButtonStyleModel",
      "state": {}
     },
     "a5b95a3e52fc4eda9f9822bb34a5f47f": {
      "model_module": "@jupyter-widgets/base",
      "model_module_version": "1.1.0",
      "model_name": "LayoutModel",
      "state": {}
     },
     "a5fabb613fd24df2a88d902aada2dc98": {
      "model_module": "@jupyter-widgets/controls",
      "model_module_version": "1.4.0",
      "model_name": "SliderStyleModel",
      "state": {
       "description_width": ""
      }
     },
     "a626628189ee4cad8759ee70e91adac0": {
      "model_module": "@jupyter-widgets/controls",
      "model_module_version": "1.4.0",
      "model_name": "BoundedIntTextModel",
      "state": {
       "layout": "IPY_MODEL_dae87ff814d44e5096e82471be483cea",
       "max": 1,
       "style": "IPY_MODEL_3c779e64880e45f982fdece103129ee4",
       "value": 1
      }
     },
     "a6485cfa44f4483daa0a4a3851305250": {
      "model_module": "@jupyter-widgets/base",
      "model_module_version": "1.1.0",
      "model_name": "LayoutModel",
      "state": {
       "width": "99%"
      }
     },
     "a7425f88feea47879ae8eb9f58ca2abf": {
      "model_module": "@jupyter-widgets/controls",
      "model_module_version": "1.4.0",
      "model_name": "ButtonStyleModel",
      "state": {}
     },
     "a7483cd8b57844d09bf4b075ad04b3ab": {
      "model_module": "@jupyter-widgets/controls",
      "model_module_version": "1.4.0",
      "model_name": "ButtonModel",
      "state": {
       "description": "First",
       "layout": "IPY_MODEL_fc50f21721894ad19d1a716d83497a6d",
       "style": "IPY_MODEL_0a06e2e46a724d4092c4c256e2b291b8"
      }
     },
     "a7485dd76a3244ebb937503e6350d5a2": {
      "model_module": "@jupyter-widgets/base",
      "model_module_version": "1.1.0",
      "model_name": "LayoutModel",
      "state": {}
     },
     "a7ce968f365c4faa8756e2abbb0cba9a": {
      "model_module": "@jupyter-widgets/controls",
      "model_module_version": "1.4.0",
      "model_name": "VBoxModel",
      "state": {
       "children": [
        "IPY_MODEL_05bfae6e50574b3e92333b24a699f34f",
        "IPY_MODEL_848e313da2ad4ba9954705e28c612008"
       ],
       "layout": "IPY_MODEL_cd2ebaa2e3b649ffa89ad93f8323c81f"
      }
     },
     "a8cf43d9e88643f1b53f13f3844a9a6e": {
      "model_module": "@jupyter-widgets/base",
      "model_module_version": "1.1.0",
      "model_name": "LayoutModel",
      "state": {}
     },
     "a9bc5d8ee3fc4154b249b6bdb55c4042": {
      "model_module": "@jupyter-widgets/controls",
      "model_module_version": "1.4.0",
      "model_name": "ButtonModel",
      "state": {
       "description": "Prev",
       "layout": "IPY_MODEL_3ffaf5b418014ed8be402ce41f82a3d2",
       "style": "IPY_MODEL_328cf994dece48ecb705c8e82a295bfe"
      }
     },
     "ab5f17d295174736ba12064cf322be47": {
      "model_module": "@jupyter-widgets/controls",
      "model_module_version": "1.4.0",
      "model_name": "ButtonModel",
      "state": {
       "description": "First",
       "layout": "IPY_MODEL_281230468cdf414fa43cf3dc9e311778",
       "style": "IPY_MODEL_c994b856f4bb44cdaf0f5c6c489b5fba"
      }
     },
     "ab8a0c99ed52473383804f46317d3841": {
      "model_module": "@jupyter-widgets/base",
      "model_module_version": "1.1.0",
      "model_name": "LayoutModel",
      "state": {}
     },
     "ac39748294a849158d9cfddf5cd54aad": {
      "model_module": "@jupyter-widgets/controls",
      "model_module_version": "1.4.0",
      "model_name": "ButtonModel",
      "state": {
       "description": "First",
       "layout": "IPY_MODEL_8a995ec38bab4a2da5206a3db11b0aca",
       "style": "IPY_MODEL_d45320a91cfa4761bc06bad1e431a981"
      }
     },
     "ac909ce6d1d44b9296537ca0f52d3063": {
      "model_module": "@jupyter-widgets/base",
      "model_module_version": "1.1.0",
      "model_name": "LayoutModel",
      "state": {}
     },
     "ad29588a8aab4d9891cfabab024bb95b": {
      "model_module": "@jupyter-widgets/controls",
      "model_module_version": "1.4.0",
      "model_name": "SliderStyleModel",
      "state": {
       "description_width": ""
      }
     },
     "ad6f304d48c54204afbef6e9c0a825e4": {
      "model_module": "@jupyter-widgets/controls",
      "model_module_version": "1.4.0",
      "model_name": "ButtonStyleModel",
      "state": {}
     },
     "ad90eb122b514d728fcc8a5b2c4fe9c4": {
      "model_module": "@jupyter-widgets/base",
      "model_module_version": "1.1.0",
      "model_name": "LayoutModel",
      "state": {}
     },
     "adb7e3ed4c6a461fbb22b74eb72772ad": {
      "model_module": "@jupyter-widgets/base",
      "model_module_version": "1.1.0",
      "model_name": "LayoutModel",
      "state": {}
     },
     "ae8d7372386e44fdaf36a576b4a89cdb": {
      "model_module": "@jupyter-widgets/controls",
      "model_module_version": "1.4.0",
      "model_name": "ButtonModel",
      "state": {
       "description": "Random",
       "layout": "IPY_MODEL_0db94746a7fd4b498c74dfc5a965838e",
       "style": "IPY_MODEL_c558448cbf82431ab194d1375350b2ca"
      }
     },
     "aeb2fb2cb8004fe9822369ee11743384": {
      "model_module": "@jupyter-widgets/base",
      "model_module_version": "1.1.0",
      "model_name": "LayoutModel",
      "state": {}
     },
     "af0b60412078493d91ad0a1373d34e12": {
      "model_module": "@jupyter-widgets/controls",
      "model_module_version": "1.4.0",
      "model_name": "IntSliderModel",
      "state": {
       "layout": "IPY_MODEL_fbbbb38f7f744858a240e3edc25a33f5",
       "max": 2352,
       "readout": false,
       "style": "IPY_MODEL_d20d04b27c514b1186ba78e5b5f4bcdd",
       "value": 605
      }
     },
     "b003956c25444a3bb4278ca5e07c0e60": {
      "model_module": "@jupyter-widgets/base",
      "model_module_version": "1.1.0",
      "model_name": "LayoutModel",
      "state": {}
     },
     "b0d136edb178439dab37871bd93e598a": {
      "model_module": "@jupyter-widgets/base",
      "model_module_version": "1.1.0",
      "model_name": "LayoutModel",
      "state": {}
     },
     "b17cfe0c1ee844dfa8825ca10243bfd6": {
      "model_module": "@jupyter-widgets/base",
      "model_module_version": "1.1.0",
      "model_name": "LayoutModel",
      "state": {}
     },
     "b203d341815547efa9f1cc6ed12d348f": {
      "model_module": "@jupyter-widgets/controls",
      "model_module_version": "1.4.0",
      "model_name": "ButtonModel",
      "state": {
       "description": "Last",
       "layout": "IPY_MODEL_fda06a5acab44d7382f1595ea3687eef",
       "style": "IPY_MODEL_490c473a088e497aa939f3ad7938b7c3"
      }
     },
     "b270b49fb5514314affb6a08257b51cc": {
      "model_module": "@jupyter-widgets/base",
      "model_module_version": "1.1.0",
      "model_name": "LayoutModel",
      "state": {}
     },
     "b342c24e69dc4e3c944d33e0baae6367": {
      "model_module": "@jupyter-widgets/controls",
      "model_module_version": "1.4.0",
      "model_name": "ButtonModel",
      "state": {
       "description": "Prev",
       "layout": "IPY_MODEL_f402599995b347999bb88c8eb7f35d6f",
       "style": "IPY_MODEL_f8b522b9e53d44f5b295ae12a39a1b2e"
      }
     },
     "b42df15e5b4947ffa348c4637b18ef73": {
      "model_module": "@jupyter-widgets/base",
      "model_module_version": "1.1.0",
      "model_name": "LayoutModel",
      "state": {}
     },
     "b449ef0dc088471cabaf0042b4f1e9b7": {
      "model_module": "@jupyter-widgets/controls",
      "model_module_version": "1.4.0",
      "model_name": "IntSliderModel",
      "state": {
       "layout": "IPY_MODEL_a26ec07739164793a9b0f0a7ef57cd6a",
       "max": 17,
       "readout": false,
       "style": "IPY_MODEL_74602d0360c8468d99582c50497fad04",
       "value": 15
      }
     },
     "b477b36053ee42cc8c9076671167c253": {
      "model_module": "@jupyter-widgets/base",
      "model_module_version": "1.1.0",
      "model_name": "LayoutModel",
      "state": {}
     },
     "b48f51d4920d41cbb73df7992d288640": {
      "model_module": "@jupyter-widgets/controls",
      "model_module_version": "1.4.0",
      "model_name": "LinkModel",
      "state": {
       "source": [
        "IPY_MODEL_a626628189ee4cad8759ee70e91adac0",
        "value"
       ],
       "target": [
        "IPY_MODEL_2e452f55ab254ca1a5f62e27385b918d",
        "value"
       ]
      }
     },
     "b551f006074a462da4fa9dad942a3469": {
      "model_module": "@jupyter-widgets/controls",
      "model_module_version": "1.4.0",
      "model_name": "BoundedIntTextModel",
      "state": {
       "layout": "IPY_MODEL_b270b49fb5514314affb6a08257b51cc",
       "max": 23,
       "style": "IPY_MODEL_23302b5b934c47fda90ec42126fb0250",
       "value": 11
      }
     },
     "b588a6f455eb4a82afb20568c73b9fa0": {
      "model_module": "@jupyter-widgets/controls",
      "model_module_version": "1.4.0",
      "model_name": "DescriptionStyleModel",
      "state": {
       "description_width": ""
      }
     },
     "b5a022b0f6474b8b9701339d9c058d3e": {
      "model_module": "@jupyter-widgets/controls",
      "model_module_version": "1.4.0",
      "model_name": "DescriptionStyleModel",
      "state": {
       "description_width": ""
      }
     },
     "b5d1eb358e004e63ab98bbbdb999a698": {
      "model_module": "@jupyter-widgets/base",
      "model_module_version": "1.1.0",
      "model_name": "LayoutModel",
      "state": {}
     },
     "b63e66b040bc414194ea914fb0d9f9c7": {
      "model_module": "@jupyter-widgets/controls",
      "model_module_version": "1.4.0",
      "model_name": "DescriptionStyleModel",
      "state": {
       "description_width": ""
      }
     },
     "b6f3e728631a440caf76ed8638d43c41": {
      "model_module": "@jupyter-widgets/base",
      "model_module_version": "1.1.0",
      "model_name": "LayoutModel",
      "state": {}
     },
     "b71691fd838f4049bcd0b0cca31aa5e5": {
      "model_module": "@jupyter-widgets/base",
      "model_module_version": "1.1.0",
      "model_name": "LayoutModel",
      "state": {}
     },
     "b79acba72c44494583a2b48842ab39e4": {
      "model_module": "@jupyter-widgets/base",
      "model_module_version": "1.1.0",
      "model_name": "LayoutModel",
      "state": {}
     },
     "b7bdf24b65344da985f7a68774b4aba1": {
      "model_module": "@jupyter-widgets/base",
      "model_module_version": "1.1.0",
      "model_name": "LayoutModel",
      "state": {}
     },
     "b87109a0d36c45fcae08974540f84519": {
      "model_module": "@jupyter-widgets/controls",
      "model_module_version": "1.4.0",
      "model_name": "ButtonStyleModel",
      "state": {}
     },
     "b8826a896e984d18873aae3b97787668": {
      "model_module": "@jupyter-widgets/controls",
      "model_module_version": "1.4.0",
      "model_name": "ButtonStyleModel",
      "state": {}
     },
     "b8fc97586c37415792b9cc7f17ce0b5e": {
      "model_module": "@jupyter-widgets/base",
      "model_module_version": "1.1.0",
      "model_name": "LayoutModel",
      "state": {}
     },
     "b943d91168484ad7bf97ff8535ffad78": {
      "model_module": "@jupyter-widgets/controls",
      "model_module_version": "1.4.0",
      "model_name": "DescriptionStyleModel",
      "state": {
       "description_width": ""
      }
     },
     "b95bb65ea1c446f2a61df918376a8495": {
      "model_module": "@jupyter-widgets/controls",
      "model_module_version": "1.4.0",
      "model_name": "ButtonStyleModel",
      "state": {}
     },
     "b9f65fd8a07b4cb8937d6f0257172d52": {
      "model_module": "@jupyter-widgets/controls",
      "model_module_version": "1.4.0",
      "model_name": "DescriptionStyleModel",
      "state": {
       "description_width": ""
      }
     },
     "bb2157e0cf8c401d92bfe32c2eed1a44": {
      "model_module": "@jupyter-widgets/controls",
      "model_module_version": "1.4.0",
      "model_name": "ButtonModel",
      "state": {
       "description": "First",
       "layout": "IPY_MODEL_89cdb16467714282a668b20d5de438f2",
       "style": "IPY_MODEL_6f922badc65c497fb7ffd331996024b8"
      }
     },
     "bc525efe5e8b46a6bc0cabff7cc0c826": {
      "model_module": "@jupyter-widgets/controls",
      "model_module_version": "1.4.0",
      "model_name": "VBoxModel",
      "state": {
       "children": [
        "IPY_MODEL_94ca624216594917b879a1e974074b5f",
        "IPY_MODEL_dabfbb160f50415c8792f8143498496d"
       ],
       "layout": "IPY_MODEL_f102cc453af54f7486c4b739d5749dc3"
      }
     },
     "bcad714a8d6f4294b174ab21d1007f52": {
      "model_module": "@jupyter-widgets/controls",
      "model_module_version": "1.4.0",
      "model_name": "ButtonStyleModel",
      "state": {}
     },
     "bcf923a942754f9fa6760cc2639ff9b9": {
      "model_module": "@jupyter-widgets/base",
      "model_module_version": "1.1.0",
      "model_name": "LayoutModel",
      "state": {}
     },
     "bd42305e3a674ef8a27552636e90badd": {
      "model_module": "@jupyter-widgets/base",
      "model_module_version": "1.1.0",
      "model_name": "LayoutModel",
      "state": {}
     },
     "be4844b430e7480bbce7435d5ce1b2b6": {
      "model_module": "@jupyter-widgets/controls",
      "model_module_version": "1.4.0",
      "model_name": "ButtonStyleModel",
      "state": {}
     },
     "bf1caf9171af4c80b17822187de6893f": {
      "model_module": "@jupyter-widgets/base",
      "model_module_version": "1.1.0",
      "model_name": "LayoutModel",
      "state": {
       "width": "99%"
      }
     },
     "c1b6f74c84fe4249b12c4f55ed34318b": {
      "model_module": "@jupyter-widgets/controls",
      "model_module_version": "1.4.0",
      "model_name": "ButtonStyleModel",
      "state": {}
     },
     "c2418bf451314d42a098f84fe5607a7b": {
      "model_module": "@jupyter-widgets/base",
      "model_module_version": "1.1.0",
      "model_name": "LayoutModel",
      "state": {}
     },
     "c4182dd1eb9f4fabaa1b5264797884ca": {
      "model_module": "@jupyter-widgets/base",
      "model_module_version": "1.1.0",
      "model_name": "LayoutModel",
      "state": {}
     },
     "c558448cbf82431ab194d1375350b2ca": {
      "model_module": "@jupyter-widgets/controls",
      "model_module_version": "1.4.0",
      "model_name": "ButtonStyleModel",
      "state": {}
     },
     "c574583fac174acc8ff3543411e47ff0": {
      "model_module": "@jupyter-widgets/controls",
      "model_module_version": "1.4.0",
      "model_name": "ButtonModel",
      "state": {
       "description": "Last",
       "layout": "IPY_MODEL_020882fdcd2a4d5389ab6914471cb79f",
       "style": "IPY_MODEL_4daf8d5e23d04e2793386d85c94fc464"
      }
     },
     "c5dbb171c3194a9db6ce3aa50e71130b": {
      "model_module": "@jupyter-widgets/controls",
      "model_module_version": "1.4.0",
      "model_name": "ButtonModel",
      "state": {
       "description": "Random",
       "layout": "IPY_MODEL_05a69c5627414414a116a4827ba8ffd3",
       "style": "IPY_MODEL_7fd4072681bd429e9f673e77cb3f5bf8"
      }
     },
     "c5e5b6515cce48e4a9644f8cff2e9f62": {
      "model_module": "@jupyter-widgets/controls",
      "model_module_version": "1.4.0",
      "model_name": "ButtonStyleModel",
      "state": {}
     },
     "c6330684536741b996a616135eaf0e51": {
      "model_module": "@jupyter-widgets/controls",
      "model_module_version": "1.4.0",
      "model_name": "ButtonStyleModel",
      "state": {}
     },
     "c67e1498f63643e4baf12a7c80e27838": {
      "model_module": "@jupyter-widgets/controls",
      "model_module_version": "1.4.0",
      "model_name": "HBoxModel",
      "state": {
       "children": [
        "IPY_MODEL_63eda91338fc40da885443f7e632d253",
        "IPY_MODEL_ff4b7e52d0934128b7baf9931ddcc09a",
        "IPY_MODEL_3e7d31f90acb47bcaf962b31a892c960",
        "IPY_MODEL_8c51453d1b924d5891d60249c9af4426",
        "IPY_MODEL_01eb1c95404f4a55975aa47818372e2c",
        "IPY_MODEL_800437ff769c4c58a54f9f91a345d96b"
       ],
       "layout": "IPY_MODEL_f8b83724b3e049cea70d39542d3edf5f"
      }
     },
     "c6a26b43e9534b66bc2ffd74ee32335a": {
      "model_module": "@jupyter-widgets/base",
      "model_module_version": "1.1.0",
      "model_name": "LayoutModel",
      "state": {
       "width": "99%"
      }
     },
     "c6b21879401b4508a513cd3736259ee2": {
      "model_module": "@jupyter-widgets/controls",
      "model_module_version": "1.4.0",
      "model_name": "HTMLModel",
      "state": {
       "layout": "IPY_MODEL_e52369792eb44b9b80cb99c3fb524777",
       "style": "IPY_MODEL_b5a022b0f6474b8b9701339d9c058d3e",
       "value": "100% 2519/2519 [04:39&lt;00:00,  9.00it/s]"
      }
     },
     "c6e4d8049a6d4f019e85d9c480b78cda": {
      "model_module": "@jupyter-widgets/controls",
      "model_module_version": "1.4.0",
      "model_name": "ButtonModel",
      "state": {
       "description": "Next",
       "layout": "IPY_MODEL_5988a5c5bff941a18a74eeeddebab5cd",
       "style": "IPY_MODEL_be4844b430e7480bbce7435d5ce1b2b6"
      }
     },
     "c7453a73763e455bb8be785bc1653c30": {
      "model_module": "@jupyter-widgets/controls",
      "model_module_version": "1.4.0",
      "model_name": "HBoxModel",
      "state": {
       "children": [
        "IPY_MODEL_d5b167aebe314eb0835b718f751b459a",
        "IPY_MODEL_f5d95a47000c4e069b5ea8872f52b5b6",
        "IPY_MODEL_4b26d28fcf9443e7a2709761bb3bb01f",
        "IPY_MODEL_21bfdc70b515421d8a463f8f61287d90",
        "IPY_MODEL_712670a7a2ce4b779d8c12f6abf8d894",
        "IPY_MODEL_0608cb44acda461f95ea8750eff9f903"
       ],
       "layout": "IPY_MODEL_18b4e7dfbed7441ab31bf0e035cd2b7e"
      }
     },
     "c75203c700aa413f9382cd4cd24bf649": {
      "model_module": "@jupyter-widgets/controls",
      "model_module_version": "1.4.0",
      "model_name": "ButtonModel",
      "state": {
       "description": "Random",
       "layout": "IPY_MODEL_5d0da879343746f1a1b9ec8b50375a5c",
       "style": "IPY_MODEL_a3324e9fda034d1387d73cb02ba0ea6c"
      }
     },
     "c7586ae8c75e4bdaaa3364b983e5f032": {
      "model_module": "@jupyter-widgets/base",
      "model_module_version": "1.1.0",
      "model_name": "LayoutModel",
      "state": {}
     },
     "c79678c0ef31456988c411e7be1e51d3": {
      "model_module": "@jupyter-widgets/base",
      "model_module_version": "1.1.0",
      "model_name": "LayoutModel",
      "state": {}
     },
     "c7f2d2bdb1bd432a875a465f37935d49": {
      "model_module": "@jupyter-widgets/controls",
      "model_module_version": "1.4.0",
      "model_name": "LinkModel",
      "state": {
       "source": [
        "IPY_MODEL_998cbf565ddd4f9391560fa415fa26bb",
        "value"
       ],
       "target": [
        "IPY_MODEL_cb7cc18517cf4078b2cd7b71480b055d",
        "value"
       ]
      }
     },
     "c86d74eee7724fe2bdb7e89f54fd2687": {
      "model_module": "@jupyter-widgets/controls",
      "model_module_version": "1.4.0",
      "model_name": "ButtonStyleModel",
      "state": {}
     },
     "c8842a58a1aa49dba19f684d119e9551": {
      "model_module": "@jupyter-widgets/base",
      "model_module_version": "1.1.0",
      "model_name": "LayoutModel",
      "state": {}
     },
     "c994b856f4bb44cdaf0f5c6c489b5fba": {
      "model_module": "@jupyter-widgets/controls",
      "model_module_version": "1.4.0",
      "model_name": "ButtonStyleModel",
      "state": {}
     },
     "cad40897d71448b9ad39d680ac717202": {
      "model_module": "@jupyter-widgets/controls",
      "model_module_version": "1.4.0",
      "model_name": "ButtonStyleModel",
      "state": {}
     },
     "cb3ef03f137d4347ab6cc236ee8130d7": {
      "model_module": "@jupyter-widgets/controls",
      "model_module_version": "1.4.0",
      "model_name": "ButtonModel",
      "state": {
       "description": "Next",
       "layout": "IPY_MODEL_b7bdf24b65344da985f7a68774b4aba1",
       "style": "IPY_MODEL_c86d74eee7724fe2bdb7e89f54fd2687"
      }
     },
     "cb7cc18517cf4078b2cd7b71480b055d": {
      "model_module": "@jupyter-widgets/controls",
      "model_module_version": "1.4.0",
      "model_name": "IntSliderModel",
      "state": {
       "layout": "IPY_MODEL_9b1f2571605d421295b4026b1b936444",
       "max": 1690,
       "readout": false,
       "style": "IPY_MODEL_a5fabb613fd24df2a88d902aada2dc98",
       "value": 30
      }
     },
     "cbeb41a2d07d44e78500348591157e6d": {
      "model_module": "@jupyter-widgets/base",
      "model_module_version": "1.1.0",
      "model_name": "LayoutModel",
      "state": {}
     },
     "cc10e4994d7c40ab83a588e05c66b74d": {
      "model_module": "@jupyter-widgets/controls",
      "model_module_version": "1.4.0",
      "model_name": "ButtonModel",
      "state": {
       "description": "Prev",
       "layout": "IPY_MODEL_2359311d5dc7438298b2f3ab49914ee5",
       "style": "IPY_MODEL_bcad714a8d6f4294b174ab21d1007f52"
      }
     },
     "cc64e59a2b91401a9536be43d968f7d7": {
      "model_module": "@jupyter-widgets/base",
      "model_module_version": "1.1.0",
      "model_name": "LayoutModel",
      "state": {}
     },
     "cc8194aeb2d7426090a3afbe2851912c": {
      "model_module": "@jupyter-widgets/base",
      "model_module_version": "1.1.0",
      "model_name": "LayoutModel",
      "state": {}
     },
     "cce011c907914c6a91c3f923e9dd0367": {
      "model_module": "@jupyter-widgets/controls",
      "model_module_version": "1.4.0",
      "model_name": "SliderStyleModel",
      "state": {
       "description_width": ""
      }
     },
     "ccf47ea3d93a4357823dbee5a236af27": {
      "model_module": "@jupyter-widgets/controls",
      "model_module_version": "1.4.0",
      "model_name": "IntSliderModel",
      "state": {
       "layout": "IPY_MODEL_a3a01396e9dd4f0788b6d300dce13761",
       "max": 3,
       "readout": false,
       "style": "IPY_MODEL_9546ea875a6b447cb2a92a9586d2b9d7"
      }
     },
     "cd2ebaa2e3b649ffa89ad93f8323c81f": {
      "model_module": "@jupyter-widgets/base",
      "model_module_version": "1.1.0",
      "model_name": "LayoutModel",
      "state": {}
     },
     "ce38cc06e8e64cc48818d3b54bae9a80": {
      "model_module": "@jupyter-widgets/base",
      "model_module_version": "1.1.0",
      "model_name": "LayoutModel",
      "state": {}
     },
     "ce935f7157a2493987c870328965f789": {
      "model_module": "@jupyter-widgets/base",
      "model_module_version": "1.1.0",
      "model_name": "LayoutModel",
      "state": {}
     },
     "cf170c7b84a442cd84b716d2d4409451": {
      "model_module": "@jupyter-widgets/controls",
      "model_module_version": "1.4.0",
      "model_name": "ButtonStyleModel",
      "state": {}
     },
     "d07bb6d2f3d84c92b305dbf38f69bc64": {
      "model_module": "@jupyter-widgets/base",
      "model_module_version": "1.1.0",
      "model_name": "LayoutModel",
      "state": {}
     },
     "d181ffa074b24d99964819343da44cbc": {
      "model_module": "@jupyter-widgets/controls",
      "model_module_version": "1.4.0",
      "model_name": "ButtonStyleModel",
      "state": {}
     },
     "d1f0cd77e7e0483f9c572b00aea9ea9c": {
      "model_module": "@jupyter-widgets/controls",
      "model_module_version": "1.4.0",
      "model_name": "IntSliderModel",
      "state": {
       "layout": "IPY_MODEL_361172557c3246bb9fb3069e13542e46",
       "max": 19,
       "readout": false,
       "style": "IPY_MODEL_d60fb8bf1cc7479692f62eac84b94c15",
       "value": 7
      }
     },
     "d20d04b27c514b1186ba78e5b5f4bcdd": {
      "model_module": "@jupyter-widgets/controls",
      "model_module_version": "1.4.0",
      "model_name": "SliderStyleModel",
      "state": {
       "description_width": ""
      }
     },
     "d23d13ce2b984d18856f5f720293df47": {
      "model_module": "@jupyter-widgets/base",
      "model_module_version": "1.1.0",
      "model_name": "LayoutModel",
      "state": {}
     },
     "d2894f8ca1294b7eb673fea75cff37db": {
      "model_module": "@jupyter-widgets/controls",
      "model_module_version": "1.4.0",
      "model_name": "ButtonModel",
      "state": {
       "description": "Random",
       "layout": "IPY_MODEL_31787e67eb2743d7889eaea4626cfa76",
       "style": "IPY_MODEL_0529fcfab9c54354b7d29e9dd7ce9ebb"
      }
     },
     "d2e3c4ddef464fcaa2e67a6b149595e9": {
      "model_module": "@jupyter-widgets/controls",
      "model_module_version": "1.4.0",
      "model_name": "LinkModel",
      "state": {
       "source": [
        "IPY_MODEL_dea89da1649e4ef980eae208f673cb43",
        "value"
       ],
       "target": [
        "IPY_MODEL_b449ef0dc088471cabaf0042b4f1e9b7",
        "value"
       ]
      }
     },
     "d306c5d2016e44adac513e241199882a": {
      "model_module": "@jupyter-widgets/controls",
      "model_module_version": "1.4.0",
      "model_name": "HBoxModel",
      "state": {
       "children": [
        "IPY_MODEL_bb2157e0cf8c401d92bfe32c2eed1a44",
        "IPY_MODEL_3095d0817e8043939f0303d249ae8012",
        "IPY_MODEL_6184ffb72a404e62896ec5e1ecf57de2",
        "IPY_MODEL_1fe1367e2b894849965578a327c84378",
        "IPY_MODEL_edea13a5d7bf4829801b92bd1482abb3",
        "IPY_MODEL_3e7eae53709f4f9ea0b4bc132f510359"
       ],
       "layout": "IPY_MODEL_3f557157f8ac4004b7212b1a429fe180"
      }
     },
     "d332b27661b0479ab35b01591769938e": {
      "model_module": "@jupyter-widgets/controls",
      "model_module_version": "1.4.0",
      "model_name": "ProgressStyleModel",
      "state": {
       "description_width": ""
      }
     },
     "d371f032eabb47f89f1ab8d591e04714": {
      "model_module": "@jupyter-widgets/controls",
      "model_module_version": "1.4.0",
      "model_name": "ButtonStyleModel",
      "state": {}
     },
     "d3d0d77923e74d90900184bc5a71e670": {
      "model_module": "@jupyter-widgets/controls",
      "model_module_version": "1.4.0",
      "model_name": "ButtonStyleModel",
      "state": {}
     },
     "d45320a91cfa4761bc06bad1e431a981": {
      "model_module": "@jupyter-widgets/controls",
      "model_module_version": "1.4.0",
      "model_name": "ButtonStyleModel",
      "state": {}
     },
     "d4a559e5ec83462ea3e2a3c34a58f6fd": {
      "model_module": "@jupyter-widgets/controls",
      "model_module_version": "1.4.0",
      "model_name": "HBoxModel",
      "state": {
       "children": [
        "IPY_MODEL_80dfb5b719814c7996dd56fd81180a03",
        "IPY_MODEL_18c9dc27fab1421e9e2b33a0ee794f9d"
       ],
       "layout": "IPY_MODEL_097b3c0623b04d419a5efc09ffc4693d"
      }
     },
     "d4c46eda04684f2da66083499374d8df": {
      "model_module": "@jupyter-widgets/base",
      "model_module_version": "1.1.0",
      "model_name": "LayoutModel",
      "state": {}
     },
     "d4e94286f2fb4c0d8483db540e75c0a3": {
      "model_module": "@jupyter-widgets/base",
      "model_module_version": "1.1.0",
      "model_name": "LayoutModel",
      "state": {}
     },
     "d55f3cad3f1d44d6a1ef9c0b475b2de1": {
      "model_module": "@jupyter-widgets/controls",
      "model_module_version": "1.4.0",
      "model_name": "ButtonModel",
      "state": {
       "description": "Random",
       "layout": "IPY_MODEL_bcf923a942754f9fa6760cc2639ff9b9",
       "style": "IPY_MODEL_901f2fd161d64c78953c5a9b9549f881"
      }
     },
     "d5b167aebe314eb0835b718f751b459a": {
      "model_module": "@jupyter-widgets/controls",
      "model_module_version": "1.4.0",
      "model_name": "ButtonModel",
      "state": {
       "description": "First",
       "layout": "IPY_MODEL_2729771280384b7191aa209e638f35dd",
       "style": "IPY_MODEL_59714e0787a94c40a906fbf9e3922ffa"
      }
     },
     "d606b6838b96438c9d9424cc98e8c54b": {
      "model_module": "@jupyter-widgets/controls",
      "model_module_version": "1.4.0",
      "model_name": "ButtonModel",
      "state": {
       "description": "First",
       "layout": "IPY_MODEL_dcde7835b9d54d3bbdeb264aaa02a7b0",
       "style": "IPY_MODEL_1b8eabab999a40588c0db69bf99b6b46"
      }
     },
     "d60fb8bf1cc7479692f62eac84b94c15": {
      "model_module": "@jupyter-widgets/controls",
      "model_module_version": "1.4.0",
      "model_name": "SliderStyleModel",
      "state": {
       "description_width": ""
      }
     },
     "d63cf161dd7d48a1864f8ce2c9b0bd9e": {
      "model_module": "@jupyter-widgets/controls",
      "model_module_version": "1.4.0",
      "model_name": "BoundedIntTextModel",
      "state": {
       "layout": "IPY_MODEL_8e772009ea0d4684acc52c349a670c65",
       "max": 40,
       "style": "IPY_MODEL_d6487ff9212a4a3ba35bbd33dbe07c39",
       "value": 17
      }
     },
     "d6487ff9212a4a3ba35bbd33dbe07c39": {
      "model_module": "@jupyter-widgets/controls",
      "model_module_version": "1.4.0",
      "model_name": "DescriptionStyleModel",
      "state": {
       "description_width": ""
      }
     },
     "d6ed130919b045bcb4ad91ed1d14abe6": {
      "model_module": "@jupyter-widgets/controls",
      "model_module_version": "1.4.0",
      "model_name": "HBoxModel",
      "state": {
       "children": [
        "IPY_MODEL_705052ffee3e41a28530e1ef02613dd2",
        "IPY_MODEL_08b4407d7d184e47b25b9c8e794600cf",
        "IPY_MODEL_a4f31881a8704c809d4e617c7263d39c",
        "IPY_MODEL_1c210e92757d4f4ea837f9999bf19f02",
        "IPY_MODEL_5bbc4a76288e4cc39f608c4be9c56dc0",
        "IPY_MODEL_c5dbb171c3194a9db6ce3aa50e71130b"
       ],
       "layout": "IPY_MODEL_352329d8ed4649f894fa99bd4a54617b"
      }
     },
     "d78ce24892644dafbb7b63e76affcf67": {
      "model_module": "@jupyter-widgets/controls",
      "model_module_version": "1.4.0",
      "model_name": "VBoxModel",
      "state": {
       "children": [
        "IPY_MODEL_e68b80db0cc54f669a4330f75a89f438",
        "IPY_MODEL_4ad7b213a3a6458b9b8029398882f7d5"
       ],
       "layout": "IPY_MODEL_a7485dd76a3244ebb937503e6350d5a2"
      }
     },
     "d7ba88b677d248bfb2e9896b7edd6477": {
      "model_module": "@jupyter-widgets/controls",
      "model_module_version": "1.4.0",
      "model_name": "ButtonStyleModel",
      "state": {}
     },
     "d88a332a18b7498f9180f5724a85a958": {
      "model_module": "@jupyter-widgets/base",
      "model_module_version": "1.1.0",
      "model_name": "LayoutModel",
      "state": {}
     },
     "d92ad93900da4d3e9dde865e76b7ddea": {
      "model_module": "@jupyter-widgets/controls",
      "model_module_version": "1.4.0",
      "model_name": "VBoxModel",
      "state": {
       "children": [
        "IPY_MODEL_42032d0b639641a39514714ce85a5538",
        "IPY_MODEL_1528f2d828114b0ba2e5a532f252a093"
       ],
       "layout": "IPY_MODEL_db688d93b4ff4438937f1a2b618ed2e8"
      }
     },
     "d973d4fcf7524ad8ba281a2b75754264": {
      "model_module": "@jupyter-widgets/controls",
      "model_module_version": "1.4.0",
      "model_name": "ButtonStyleModel",
      "state": {}
     },
     "dabfbb160f50415c8792f8143498496d": {
      "model_module": "@jupyter-widgets/controls",
      "model_module_version": "1.4.0",
      "model_name": "IntSliderModel",
      "state": {
       "layout": "IPY_MODEL_625c6d9457d449a3a415cb5c0f45308c",
       "max": 2352,
       "readout": false,
       "style": "IPY_MODEL_5213d42a28c8438ca400e1aea02be0b3",
       "value": 1774
      }
     },
     "dae166b33ece4f4cabf6ae394490fe86": {
      "model_module": "@jupyter-widgets/controls",
      "model_module_version": "1.4.0",
      "model_name": "ButtonStyleModel",
      "state": {}
     },
     "dae87ff814d44e5096e82471be483cea": {
      "model_module": "@jupyter-widgets/base",
      "model_module_version": "1.1.0",
      "model_name": "LayoutModel",
      "state": {}
     },
     "daf2211a68414b0ab379bb74d4b5b9aa": {
      "model_module": "@jupyter-widgets/controls",
      "model_module_version": "1.4.0",
      "model_name": "LinkModel",
      "state": {
       "source": [
        "IPY_MODEL_d63cf161dd7d48a1864f8ce2c9b0bd9e",
        "value"
       ],
       "target": [
        "IPY_MODEL_4ad7b213a3a6458b9b8029398882f7d5",
        "value"
       ]
      }
     },
     "db201c74f90a4ddda36fea430ade3f69": {
      "model_module": "@jupyter-widgets/controls",
      "model_module_version": "1.4.0",
      "model_name": "DescriptionStyleModel",
      "state": {
       "description_width": ""
      }
     },
     "db688d93b4ff4438937f1a2b618ed2e8": {
      "model_module": "@jupyter-widgets/base",
      "model_module_version": "1.1.0",
      "model_name": "LayoutModel",
      "state": {}
     },
     "db69a55c87ca43a9b46ae1c5b9023061": {
      "model_module": "@jupyter-widgets/base",
      "model_module_version": "1.1.0",
      "model_name": "LayoutModel",
      "state": {}
     },
     "dba3a04c4f594b238c6103317d088bd6": {
      "model_module": "@jupyter-widgets/controls",
      "model_module_version": "1.4.0",
      "model_name": "SliderStyleModel",
      "state": {
       "description_width": ""
      }
     },
     "dbdee67851e84c14a81af00624974996": {
      "model_module": "@jupyter-widgets/controls",
      "model_module_version": "1.4.0",
      "model_name": "ButtonStyleModel",
      "state": {}
     },
     "dcde7835b9d54d3bbdeb264aaa02a7b0": {
      "model_module": "@jupyter-widgets/base",
      "model_module_version": "1.1.0",
      "model_name": "LayoutModel",
      "state": {}
     },
     "dd60ae604d0b47fb94bd1782955c08d6": {
      "model_module": "@jupyter-widgets/controls",
      "model_module_version": "1.4.0",
      "model_name": "ButtonStyleModel",
      "state": {}
     },
     "dea89da1649e4ef980eae208f673cb43": {
      "model_module": "@jupyter-widgets/controls",
      "model_module_version": "1.4.0",
      "model_name": "BoundedIntTextModel",
      "state": {
       "layout": "IPY_MODEL_aeb2fb2cb8004fe9822369ee11743384",
       "max": 17,
       "style": "IPY_MODEL_9eefaa66ee4849ec89401e01706846bb",
       "value": 15
      }
     },
     "deff4e0c8f0a47ffacad122ac52a922f": {
      "model_module": "@jupyter-widgets/controls",
      "model_module_version": "1.4.0",
      "model_name": "LinkModel",
      "state": {
       "source": [
        "IPY_MODEL_6263d0272416459f8782c86f7b0fa576",
        "value"
       ],
       "target": [
        "IPY_MODEL_ccf47ea3d93a4357823dbee5a236af27",
        "value"
       ]
      }
     },
     "e0120fee6e5d429592f47add3ec56bfe": {
      "model_module": "@jupyter-widgets/base",
      "model_module_version": "1.1.0",
      "model_name": "LayoutModel",
      "state": {}
     },
     "e0a7a9b2b8a144d5adfaaaf31580a3c4": {
      "model_module": "@jupyter-widgets/controls",
      "model_module_version": "1.4.0",
      "model_name": "ButtonStyleModel",
      "state": {}
     },
     "e0ed2277d9d84e20b2e0de4b63003f97": {
      "model_module": "@jupyter-widgets/controls",
      "model_module_version": "1.4.0",
      "model_name": "SliderStyleModel",
      "state": {
       "description_width": ""
      }
     },
     "e1d93f891f6a4bf7afaeeaee3343f87a": {
      "model_module": "@jupyter-widgets/base",
      "model_module_version": "1.1.0",
      "model_name": "LayoutModel",
      "state": {}
     },
     "e2f7a9f9daef477a8bdac0c6ce16d3df": {
      "model_module": "@jupyter-widgets/controls",
      "model_module_version": "1.4.0",
      "model_name": "LinkModel",
      "state": {
       "source": [
        "IPY_MODEL_415c3fbd2f784f75b3f612932c89cecf",
        "value"
       ],
       "target": [
        "IPY_MODEL_3356f57cce3d4ad6b03a0e6d0d1cfbae",
        "value"
       ]
      }
     },
     "e3977dd0ae1c40c08df1b0025e038f49": {
      "model_module": "@jupyter-widgets/base",
      "model_module_version": "1.1.0",
      "model_name": "LayoutModel",
      "state": {}
     },
     "e47319faf4e44287b41afd4b8834d147": {
      "model_module": "@jupyter-widgets/controls",
      "model_module_version": "1.4.0",
      "model_name": "HBoxModel",
      "state": {
       "children": [
        "IPY_MODEL_ac39748294a849158d9cfddf5cd54aad",
        "IPY_MODEL_6efeb8291e7646e9a0ca9d39a952f52d",
        "IPY_MODEL_435892a0dfd6440ebe550abf038c9e72",
        "IPY_MODEL_cb3ef03f137d4347ab6cc236ee8130d7",
        "IPY_MODEL_f0730cf8017f47fab761ed8846b29c67",
        "IPY_MODEL_3a9033babdb14bd9b8a834b916ee2233"
       ],
       "layout": "IPY_MODEL_35114c62613446828a662bdb5ad9a692"
      }
     },
     "e4afa744711b49a0a6cf4493c79b824f": {
      "model_module": "@jupyter-widgets/controls",
      "model_module_version": "1.4.0",
      "model_name": "ButtonModel",
      "state": {
       "description": "Prev",
       "layout": "IPY_MODEL_eb4a8acf62b94fa7810b08301f1b86b4",
       "style": "IPY_MODEL_cf170c7b84a442cd84b716d2d4409451"
      }
     },
     "e5076bf58e134075b7b51533d13b3eec": {
      "model_module": "@jupyter-widgets/controls",
      "model_module_version": "1.4.0",
      "model_name": "ButtonStyleModel",
      "state": {}
     },
     "e52369792eb44b9b80cb99c3fb524777": {
      "model_module": "@jupyter-widgets/base",
      "model_module_version": "1.1.0",
      "model_name": "LayoutModel",
      "state": {}
     },
     "e5429ff83c9e44348eea71b7d1864333": {
      "model_module": "@jupyter-widgets/controls",
      "model_module_version": "1.4.0",
      "model_name": "LinkModel",
      "state": {
       "source": [
        "IPY_MODEL_1065aed0dd374babbfb9aaff5c5c8bcb",
        "value"
       ],
       "target": [
        "IPY_MODEL_1528f2d828114b0ba2e5a532f252a093",
        "value"
       ]
      }
     },
     "e68b80db0cc54f669a4330f75a89f438": {
      "model_module": "@jupyter-widgets/controls",
      "model_module_version": "1.4.0",
      "model_name": "HBoxModel",
      "state": {
       "children": [
        "IPY_MODEL_fdc64c04eae04c32984ce2d6e418363d",
        "IPY_MODEL_e4afa744711b49a0a6cf4493c79b824f",
        "IPY_MODEL_d63cf161dd7d48a1864f8ce2c9b0bd9e",
        "IPY_MODEL_fdcac6ebc0ed42799e2e0c9d5569ee6e",
        "IPY_MODEL_41b355b94f684ddab1d32b30e7bc774c",
        "IPY_MODEL_3dc4b133d51a47cdad7bd8253fc8a195"
       ],
       "layout": "IPY_MODEL_f0b87d7e5dc34506a154b874ac4cc543"
      }
     },
     "e69f947dd9b140f8b2dd7572da4d5d0d": {
      "model_module": "@jupyter-widgets/controls",
      "model_module_version": "1.4.0",
      "model_name": "ButtonModel",
      "state": {
       "description": "Random",
       "layout": "IPY_MODEL_0d3b7666dc0e4ca2978a33e5f5f3fc08",
       "style": "IPY_MODEL_0bbbd7b0419942edb9eecaa87c6561bf"
      }
     },
     "e6c29f535d8a407cb41efb0b973611d8": {
      "model_module": "@jupyter-widgets/controls",
      "model_module_version": "1.4.0",
      "model_name": "VBoxModel",
      "state": {
       "children": [
        "IPY_MODEL_88abd9fedf2d4dbca5b98286bb38b4d5",
        "IPY_MODEL_78bc665de1c54b04b6b11e32001a2b98"
       ],
       "layout": "IPY_MODEL_1c27a14dfb824c11a5ceda85a48fc115"
      }
     },
     "e6cf8045fdf248f9ad8d646a6ff77bd0": {
      "model_module": "@jupyter-widgets/base",
      "model_module_version": "1.1.0",
      "model_name": "LayoutModel",
      "state": {}
     },
     "e81b43eb6c8347aba549b0582b132e00": {
      "model_module": "@jupyter-widgets/controls",
      "model_module_version": "1.4.0",
      "model_name": "ButtonStyleModel",
      "state": {}
     },
     "e84aff1ddec6490e97fa5145a7782e02": {
      "model_module": "@jupyter-widgets/controls",
      "model_module_version": "1.4.0",
      "model_name": "VBoxModel",
      "state": {
       "children": [
        "IPY_MODEL_d306c5d2016e44adac513e241199882a",
        "IPY_MODEL_af0b60412078493d91ad0a1373d34e12"
       ],
       "layout": "IPY_MODEL_b0d136edb178439dab37871bd93e598a"
      }
     },
     "eb4a8acf62b94fa7810b08301f1b86b4": {
      "model_module": "@jupyter-widgets/base",
      "model_module_version": "1.1.0",
      "model_name": "LayoutModel",
      "state": {}
     },
     "edea13a5d7bf4829801b92bd1482abb3": {
      "model_module": "@jupyter-widgets/controls",
      "model_module_version": "1.4.0",
      "model_name": "ButtonModel",
      "state": {
       "description": "Last",
       "layout": "IPY_MODEL_3145eb3072b84d75a712b03d2c905ae1",
       "style": "IPY_MODEL_fa3f17c3d7494463a6d5f4dae7ef9886"
      }
     },
     "ee0fd3098ef34cf2890f65aab04fc67e": {
      "model_module": "@jupyter-widgets/controls",
      "model_module_version": "1.4.0",
      "model_name": "BoundedIntTextModel",
      "state": {
       "layout": "IPY_MODEL_1d33895ae07a4748b350307be14380c2",
       "max": 24,
       "style": "IPY_MODEL_74527cc47e774243ab50fb7100765b5f",
       "value": 24
      }
     },
     "ee472cabc523469b8e583bd4de7c230d": {
      "model_module": "@jupyter-widgets/controls",
      "model_module_version": "1.4.0",
      "model_name": "ButtonStyleModel",
      "state": {}
     },
     "eec2df08afe04474aba087d8cac14fac": {
      "model_module": "@jupyter-widgets/base",
      "model_module_version": "1.1.0",
      "model_name": "LayoutModel",
      "state": {}
     },
     "ef632577431c4907910ee3d67cee42d3": {
      "model_module": "@jupyter-widgets/controls",
      "model_module_version": "1.4.0",
      "model_name": "ButtonModel",
      "state": {
       "description": "First",
       "layout": "IPY_MODEL_08fe8bab74804d6b99a2753d6c794a51",
       "style": "IPY_MODEL_72be6458c5074820a519a1571b9668f5"
      }
     },
     "efada3e5be6d4750bf3d2bef021d2b03": {
      "model_module": "@jupyter-widgets/controls",
      "model_module_version": "1.4.0",
      "model_name": "ButtonModel",
      "state": {
       "description": "Next",
       "layout": "IPY_MODEL_ad90eb122b514d728fcc8a5b2c4fe9c4",
       "style": "IPY_MODEL_506d8b5bed624792ab7ae635b7213b89"
      }
     },
     "f0730cf8017f47fab761ed8846b29c67": {
      "model_module": "@jupyter-widgets/controls",
      "model_module_version": "1.4.0",
      "model_name": "ButtonModel",
      "state": {
       "description": "Last",
       "layout": "IPY_MODEL_a5b95a3e52fc4eda9f9822bb34a5f47f",
       "style": "IPY_MODEL_7d7a192440f94cb897481a42a51bcaaf"
      }
     },
     "f080838eed27446c84015be99905e3ab": {
      "model_module": "@jupyter-widgets/base",
      "model_module_version": "1.1.0",
      "model_name": "LayoutModel",
      "state": {}
     },
     "f0a7d236b53b46af9083e3ff3bb4d580": {
      "model_module": "@jupyter-widgets/base",
      "model_module_version": "1.1.0",
      "model_name": "LayoutModel",
      "state": {}
     },
     "f0b87d7e5dc34506a154b874ac4cc543": {
      "model_module": "@jupyter-widgets/base",
      "model_module_version": "1.1.0",
      "model_name": "LayoutModel",
      "state": {}
     },
     "f0e0f2d57ed94cb8b9c8c978b6db6765": {
      "model_module": "@jupyter-widgets/controls",
      "model_module_version": "1.4.0",
      "model_name": "ButtonStyleModel",
      "state": {}
     },
     "f102cc453af54f7486c4b739d5749dc3": {
      "model_module": "@jupyter-widgets/base",
      "model_module_version": "1.1.0",
      "model_name": "LayoutModel",
      "state": {}
     },
     "f1ac961534434d1f97040c188aac14b9": {
      "model_module": "@jupyter-widgets/controls",
      "model_module_version": "1.4.0",
      "model_name": "HTMLModel",
      "state": {
       "layout": "IPY_MODEL_9dee55f7c2e14137905f203b56484b26",
       "style": "IPY_MODEL_fefb7d362d14425e9dd660406bd9aae3",
       "value": "100% 2394/2394 [20:29&lt;00:00,  1.98it/s]"
      }
     },
     "f25046b00024435c85538f14ea8b9dbf": {
      "model_module": "@jupyter-widgets/base",
      "model_module_version": "1.1.0",
      "model_name": "LayoutModel",
      "state": {}
     },
     "f2949bb361004036878f31210cf1a61a": {
      "model_module": "@jupyter-widgets/controls",
      "model_module_version": "1.4.0",
      "model_name": "ButtonStyleModel",
      "state": {}
     },
     "f36daf3276084ad7b7cc4fcb67eda557": {
      "model_module": "@jupyter-widgets/controls",
      "model_module_version": "1.4.0",
      "model_name": "ButtonStyleModel",
      "state": {}
     },
     "f402599995b347999bb88c8eb7f35d6f": {
      "model_module": "@jupyter-widgets/base",
      "model_module_version": "1.1.0",
      "model_name": "LayoutModel",
      "state": {}
     },
     "f4a79a0b2318413eb7ceb0f6b24eb559": {
      "model_module": "@jupyter-widgets/controls",
      "model_module_version": "1.4.0",
      "model_name": "ButtonModel",
      "state": {
       "description": "Last",
       "layout": "IPY_MODEL_76d91618e2e54367b99ae6701bfa9e04",
       "style": "IPY_MODEL_9ecb048d0d88479a91125fccc6e1fbdb"
      }
     },
     "f4b5bbfd27b646ffb9f59572e77f8f75": {
      "model_module": "@jupyter-widgets/controls",
      "model_module_version": "1.4.0",
      "model_name": "ButtonStyleModel",
      "state": {}
     },
     "f57595acb6ea49f4abd2339d6a237f38": {
      "model_module": "@jupyter-widgets/controls",
      "model_module_version": "1.4.0",
      "model_name": "ButtonModel",
      "state": {
       "description": "First",
       "layout": "IPY_MODEL_7eb74bd3d7c646d5b8e3fe3f2d0b274e",
       "style": "IPY_MODEL_d973d4fcf7524ad8ba281a2b75754264"
      }
     },
     "f5931010ea1d488594e3ebc6b7376f74": {
      "model_module": "@jupyter-widgets/controls",
      "model_module_version": "1.4.0",
      "model_name": "HBoxModel",
      "state": {
       "children": [
        "IPY_MODEL_71a64e1e9b34466fb581ce973f8603c4",
        "IPY_MODEL_8e320622265046ea89930f36223104a9",
        "IPY_MODEL_6263d0272416459f8782c86f7b0fa576",
        "IPY_MODEL_6e8cce8d892049aabc53df369a266e91",
        "IPY_MODEL_49647b9abb0546f89e10f2ae368e7727",
        "IPY_MODEL_d2894f8ca1294b7eb673fea75cff37db"
       ],
       "layout": "IPY_MODEL_ce38cc06e8e64cc48818d3b54bae9a80"
      }
     },
     "f5d95a47000c4e069b5ea8872f52b5b6": {
      "model_module": "@jupyter-widgets/controls",
      "model_module_version": "1.4.0",
      "model_name": "ButtonModel",
      "state": {
       "description": "Prev",
       "layout": "IPY_MODEL_b42df15e5b4947ffa348c4637b18ef73",
       "style": "IPY_MODEL_7e9bdb77435246208ca3ce1bec523fdf"
      }
     },
     "f6618bbab6784539932e3a95f7efb7c7": {
      "model_module": "@jupyter-widgets/controls",
      "model_module_version": "1.4.0",
      "model_name": "ButtonModel",
      "state": {
       "description": "Next",
       "layout": "IPY_MODEL_6e5505166bcf42f58b958a9b3480f7d2",
       "style": "IPY_MODEL_b8826a896e984d18873aae3b97787668"
      }
     },
     "f6fbf6c0fdd34ce69c7d912ea5ee24ad": {
      "model_module": "@jupyter-widgets/controls",
      "model_module_version": "1.4.0",
      "model_name": "ButtonStyleModel",
      "state": {}
     },
     "f7f171a1652a4eb98485f3605ed66612": {
      "model_module": "@jupyter-widgets/base",
      "model_module_version": "1.1.0",
      "model_name": "LayoutModel",
      "state": {}
     },
     "f89e9573815f43dc9eb3f5c348620f38": {
      "model_module": "@jupyter-widgets/base",
      "model_module_version": "1.1.0",
      "model_name": "LayoutModel",
      "state": {}
     },
     "f8b522b9e53d44f5b295ae12a39a1b2e": {
      "model_module": "@jupyter-widgets/controls",
      "model_module_version": "1.4.0",
      "model_name": "ButtonStyleModel",
      "state": {}
     },
     "f8b83724b3e049cea70d39542d3edf5f": {
      "model_module": "@jupyter-widgets/base",
      "model_module_version": "1.1.0",
      "model_name": "LayoutModel",
      "state": {}
     },
     "f9cccb3d849f4820aea04ff12487c883": {
      "model_module": "@jupyter-widgets/controls",
      "model_module_version": "1.4.0",
      "model_name": "ButtonStyleModel",
      "state": {}
     },
     "fa15284eb7e34ea3a94b71182a90c615": {
      "model_module": "@jupyter-widgets/base",
      "model_module_version": "1.1.0",
      "model_name": "LayoutModel",
      "state": {}
     },
     "fa3f17c3d7494463a6d5f4dae7ef9886": {
      "model_module": "@jupyter-widgets/controls",
      "model_module_version": "1.4.0",
      "model_name": "ButtonStyleModel",
      "state": {}
     },
     "fafac7e4255b49a8be8379800a694fcb": {
      "model_module": "@jupyter-widgets/controls",
      "model_module_version": "1.4.0",
      "model_name": "DescriptionStyleModel",
      "state": {
       "description_width": ""
      }
     },
     "fb24b0da08fb40498ca44ed19d9a7c3b": {
      "model_module": "@jupyter-widgets/controls",
      "model_module_version": "1.4.0",
      "model_name": "IntProgressModel",
      "state": {
       "bar_style": "success",
       "layout": "IPY_MODEL_32ec258b69c44ce091eedad594902267",
       "max": 1723,
       "style": "IPY_MODEL_29ff9c486d0e4a9badfd24dbdfe5e720",
       "value": 1723
      }
     },
     "fbbbb38f7f744858a240e3edc25a33f5": {
      "model_module": "@jupyter-widgets/base",
      "model_module_version": "1.1.0",
      "model_name": "LayoutModel",
      "state": {
       "width": "99%"
      }
     },
     "fbf708c4ac8c4682b765bce1e3aaa568": {
      "model_module": "@jupyter-widgets/controls",
      "model_module_version": "1.4.0",
      "model_name": "ButtonModel",
      "state": {
       "description": "Prev",
       "layout": "IPY_MODEL_850a2e3aaf7c4501b2a70137b14974bf",
       "style": "IPY_MODEL_dd60ae604d0b47fb94bd1782955c08d6"
      }
     },
     "fc50f21721894ad19d1a716d83497a6d": {
      "model_module": "@jupyter-widgets/base",
      "model_module_version": "1.1.0",
      "model_name": "LayoutModel",
      "state": {}
     },
     "fc93689c3b78408c92df6c686968abea": {
      "model_module": "@jupyter-widgets/controls",
      "model_module_version": "1.4.0",
      "model_name": "ButtonStyleModel",
      "state": {}
     },
     "fd1887dabd7d4cccb595c8794bf14c8b": {
      "model_module": "@jupyter-widgets/controls",
      "model_module_version": "1.4.0",
      "model_name": "DescriptionStyleModel",
      "state": {
       "description_width": ""
      }
     },
     "fda06a5acab44d7382f1595ea3687eef": {
      "model_module": "@jupyter-widgets/base",
      "model_module_version": "1.1.0",
      "model_name": "LayoutModel",
      "state": {}
     },
     "fdc64c04eae04c32984ce2d6e418363d": {
      "model_module": "@jupyter-widgets/controls",
      "model_module_version": "1.4.0",
      "model_name": "ButtonModel",
      "state": {
       "description": "First",
       "layout": "IPY_MODEL_db69a55c87ca43a9b46ae1c5b9023061",
       "style": "IPY_MODEL_9f21ff2dadc9433ea3e3668e982605bc"
      }
     },
     "fdcac6ebc0ed42799e2e0c9d5569ee6e": {
      "model_module": "@jupyter-widgets/controls",
      "model_module_version": "1.4.0",
      "model_name": "ButtonModel",
      "state": {
       "description": "Next",
       "layout": "IPY_MODEL_82a75f80855d4a819a44610e25b8cf9e",
       "style": "IPY_MODEL_6440333bf0464c968b88a1751cc48006"
      }
     },
     "fe145dfe5c074ff0916dd37169544f94": {
      "model_module": "@jupyter-widgets/base",
      "model_module_version": "1.1.0",
      "model_name": "LayoutModel",
      "state": {}
     },
     "fefb7d362d14425e9dd660406bd9aae3": {
      "model_module": "@jupyter-widgets/controls",
      "model_module_version": "1.4.0",
      "model_name": "DescriptionStyleModel",
      "state": {
       "description_width": ""
      }
     },
     "ff4b7e52d0934128b7baf9931ddcc09a": {
      "model_module": "@jupyter-widgets/controls",
      "model_module_version": "1.4.0",
      "model_name": "ButtonModel",
      "state": {
       "description": "Prev",
       "layout": "IPY_MODEL_91e23cef23fd44db99282ba8a2f3bc12",
       "style": "IPY_MODEL_b95bb65ea1c446f2a61df918376a8495"
      }
     },
     "ff6ae0a4285b40ac9e50bfb155ff107a": {
      "model_module": "@jupyter-widgets/base",
      "model_module_version": "1.1.0",
      "model_name": "LayoutModel",
      "state": {}
     },
     "ffbf64836c874c04880e906a165f0d30": {
      "model_module": "@jupyter-widgets/controls",
      "model_module_version": "1.4.0",
      "model_name": "ButtonStyleModel",
      "state": {}
     }
    },
    "version_major": 2,
    "version_minor": 0
   }
  }
 },
 "nbformat": 4,
 "nbformat_minor": 2
}

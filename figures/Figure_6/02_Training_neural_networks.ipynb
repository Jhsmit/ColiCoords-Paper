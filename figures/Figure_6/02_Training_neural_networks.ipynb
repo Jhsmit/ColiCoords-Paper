{
 "cells": [
  {
   "cell_type": "code",
   "execution_count": null,
   "metadata": {},
   "outputs": [],
   "source": [
    "%matplotlib notebook\n",
    "import matplotlib.pyplot as plt\n",
    "import matplotlib as mpl\n",
    "from colicoords import iter_subplots\n",
    "from colicoords.cnn.unet import get_unet_256\n",
    "from colicoords.cnn.preprocess import DefaultImgSequence, resize_stack\n",
    "import tensorflow as tf\n",
    "from tensorflow.keras.callbacks import ModelCheckpoint, TensorBoard\n",
    "import tifffile\n",
    "import os\n",
    "import numpy as np"
   ]
  },
  {
   "cell_type": "markdown",
   "metadata": {},
   "source": [
    "100 brightfield images of each dataset were manually annotated (segmented) and will be combined to train a neural network to segment the rest of the brightfield images."
   ]
  },
  {
   "cell_type": "code",
   "execution_count": 3,
   "metadata": {},
   "outputs": [],
   "source": [
    "data_dir = r'.'"
   ]
  },
  {
   "cell_type": "markdown",
   "metadata": {},
   "source": [
    "Loading Cy3B images:"
   ]
  },
  {
   "cell_type": "code",
   "execution_count": 4,
   "metadata": {},
   "outputs": [
    {
     "data": {
      "text/plain": [
       "((100, 512, 512), (100, 512, 512))"
      ]
     },
     "execution_count": 4,
     "metadata": {},
     "output_type": "execute_result"
    }
   ],
   "source": [
    "binary_cy3b = tifffile.imread(os.path.join(data_dir, 'Cy3B_NHS', 'Binary_annotated.tif'))\n",
    "brightfield_cy3b = tifffile.imread(os.path.join(data_dir, 'Cy3B_NHS', 'Bf_corrected.tif'))[:100]\n",
    "binary_cy3b.shape, brightfield_cy3b.shape"
   ]
  },
  {
   "cell_type": "markdown",
   "metadata": {},
   "source": [
    "Loading eGFP images:"
   ]
  },
  {
   "cell_type": "code",
   "execution_count": 5,
   "metadata": {},
   "outputs": [
    {
     "data": {
      "text/plain": [
       "((100, 512, 512), (100, 512, 512))"
      ]
     },
     "execution_count": 5,
     "metadata": {},
     "output_type": "execute_result"
    }
   ],
   "source": [
    "binary_egfp = tifffile.imread(os.path.join(data_dir, 'eGFP', 'Binary_annotated.tif'))\n",
    "brightfield_egfp = tifffile.imread(os.path.join(data_dir, 'eGFP', 'Bf_corrected.tif'))[:100]\n",
    "binary_egfp.shape, brightfield_egfp.shape"
   ]
  },
  {
   "cell_type": "markdown",
   "metadata": {},
   "source": [
    "We can use ``iter_subplots`` to quickly browse the images and check if they're properly segemented."
   ]
  },
  {
   "cell_type": "code",
   "execution_count": 6,
   "metadata": {},
   "outputs": [
    {
     "data": {
      "application/javascript": [
       "/* Put everything inside the global mpl namespace */\n",
       "window.mpl = {};\n",
       "\n",
       "\n",
       "mpl.get_websocket_type = function() {\n",
       "    if (typeof(WebSocket) !== 'undefined') {\n",
       "        return WebSocket;\n",
       "    } else if (typeof(MozWebSocket) !== 'undefined') {\n",
       "        return MozWebSocket;\n",
       "    } else {\n",
       "        alert('Your browser does not have WebSocket support.' +\n",
       "              'Please try Chrome, Safari or Firefox ≥ 6. ' +\n",
       "              'Firefox 4 and 5 are also supported but you ' +\n",
       "              'have to enable WebSockets in about:config.');\n",
       "    };\n",
       "}\n",
       "\n",
       "mpl.figure = function(figure_id, websocket, ondownload, parent_element) {\n",
       "    this.id = figure_id;\n",
       "\n",
       "    this.ws = websocket;\n",
       "\n",
       "    this.supports_binary = (this.ws.binaryType != undefined);\n",
       "\n",
       "    if (!this.supports_binary) {\n",
       "        var warnings = document.getElementById(\"mpl-warnings\");\n",
       "        if (warnings) {\n",
       "            warnings.style.display = 'block';\n",
       "            warnings.textContent = (\n",
       "                \"This browser does not support binary websocket messages. \" +\n",
       "                    \"Performance may be slow.\");\n",
       "        }\n",
       "    }\n",
       "\n",
       "    this.imageObj = new Image();\n",
       "\n",
       "    this.context = undefined;\n",
       "    this.message = undefined;\n",
       "    this.canvas = undefined;\n",
       "    this.rubberband_canvas = undefined;\n",
       "    this.rubberband_context = undefined;\n",
       "    this.format_dropdown = undefined;\n",
       "\n",
       "    this.image_mode = 'full';\n",
       "\n",
       "    this.root = $('<div/>');\n",
       "    this._root_extra_style(this.root)\n",
       "    this.root.attr('style', 'display: inline-block');\n",
       "\n",
       "    $(parent_element).append(this.root);\n",
       "\n",
       "    this._init_header(this);\n",
       "    this._init_canvas(this);\n",
       "    this._init_toolbar(this);\n",
       "\n",
       "    var fig = this;\n",
       "\n",
       "    this.waiting = false;\n",
       "\n",
       "    this.ws.onopen =  function () {\n",
       "            fig.send_message(\"supports_binary\", {value: fig.supports_binary});\n",
       "            fig.send_message(\"send_image_mode\", {});\n",
       "            if (mpl.ratio != 1) {\n",
       "                fig.send_message(\"set_dpi_ratio\", {'dpi_ratio': mpl.ratio});\n",
       "            }\n",
       "            fig.send_message(\"refresh\", {});\n",
       "        }\n",
       "\n",
       "    this.imageObj.onload = function() {\n",
       "            if (fig.image_mode == 'full') {\n",
       "                // Full images could contain transparency (where diff images\n",
       "                // almost always do), so we need to clear the canvas so that\n",
       "                // there is no ghosting.\n",
       "                fig.context.clearRect(0, 0, fig.canvas.width, fig.canvas.height);\n",
       "            }\n",
       "            fig.context.drawImage(fig.imageObj, 0, 0);\n",
       "        };\n",
       "\n",
       "    this.imageObj.onunload = function() {\n",
       "        fig.ws.close();\n",
       "    }\n",
       "\n",
       "    this.ws.onmessage = this._make_on_message_function(this);\n",
       "\n",
       "    this.ondownload = ondownload;\n",
       "}\n",
       "\n",
       "mpl.figure.prototype._init_header = function() {\n",
       "    var titlebar = $(\n",
       "        '<div class=\"ui-dialog-titlebar ui-widget-header ui-corner-all ' +\n",
       "        'ui-helper-clearfix\"/>');\n",
       "    var titletext = $(\n",
       "        '<div class=\"ui-dialog-title\" style=\"width: 100%; ' +\n",
       "        'text-align: center; padding: 3px;\"/>');\n",
       "    titlebar.append(titletext)\n",
       "    this.root.append(titlebar);\n",
       "    this.header = titletext[0];\n",
       "}\n",
       "\n",
       "\n",
       "\n",
       "mpl.figure.prototype._canvas_extra_style = function(canvas_div) {\n",
       "\n",
       "}\n",
       "\n",
       "\n",
       "mpl.figure.prototype._root_extra_style = function(canvas_div) {\n",
       "\n",
       "}\n",
       "\n",
       "mpl.figure.prototype._init_canvas = function() {\n",
       "    var fig = this;\n",
       "\n",
       "    var canvas_div = $('<div/>');\n",
       "\n",
       "    canvas_div.attr('style', 'position: relative; clear: both; outline: 0');\n",
       "\n",
       "    function canvas_keyboard_event(event) {\n",
       "        return fig.key_event(event, event['data']);\n",
       "    }\n",
       "\n",
       "    canvas_div.keydown('key_press', canvas_keyboard_event);\n",
       "    canvas_div.keyup('key_release', canvas_keyboard_event);\n",
       "    this.canvas_div = canvas_div\n",
       "    this._canvas_extra_style(canvas_div)\n",
       "    this.root.append(canvas_div);\n",
       "\n",
       "    var canvas = $('<canvas/>');\n",
       "    canvas.addClass('mpl-canvas');\n",
       "    canvas.attr('style', \"left: 0; top: 0; z-index: 0; outline: 0\")\n",
       "\n",
       "    this.canvas = canvas[0];\n",
       "    this.context = canvas[0].getContext(\"2d\");\n",
       "\n",
       "    var backingStore = this.context.backingStorePixelRatio ||\n",
       "\tthis.context.webkitBackingStorePixelRatio ||\n",
       "\tthis.context.mozBackingStorePixelRatio ||\n",
       "\tthis.context.msBackingStorePixelRatio ||\n",
       "\tthis.context.oBackingStorePixelRatio ||\n",
       "\tthis.context.backingStorePixelRatio || 1;\n",
       "\n",
       "    mpl.ratio = (window.devicePixelRatio || 1) / backingStore;\n",
       "\n",
       "    var rubberband = $('<canvas/>');\n",
       "    rubberband.attr('style', \"position: absolute; left: 0; top: 0; z-index: 1;\")\n",
       "\n",
       "    var pass_mouse_events = true;\n",
       "\n",
       "    canvas_div.resizable({\n",
       "        start: function(event, ui) {\n",
       "            pass_mouse_events = false;\n",
       "        },\n",
       "        resize: function(event, ui) {\n",
       "            fig.request_resize(ui.size.width, ui.size.height);\n",
       "        },\n",
       "        stop: function(event, ui) {\n",
       "            pass_mouse_events = true;\n",
       "            fig.request_resize(ui.size.width, ui.size.height);\n",
       "        },\n",
       "    });\n",
       "\n",
       "    function mouse_event_fn(event) {\n",
       "        if (pass_mouse_events)\n",
       "            return fig.mouse_event(event, event['data']);\n",
       "    }\n",
       "\n",
       "    rubberband.mousedown('button_press', mouse_event_fn);\n",
       "    rubberband.mouseup('button_release', mouse_event_fn);\n",
       "    // Throttle sequential mouse events to 1 every 20ms.\n",
       "    rubberband.mousemove('motion_notify', mouse_event_fn);\n",
       "\n",
       "    rubberband.mouseenter('figure_enter', mouse_event_fn);\n",
       "    rubberband.mouseleave('figure_leave', mouse_event_fn);\n",
       "\n",
       "    canvas_div.on(\"wheel\", function (event) {\n",
       "        event = event.originalEvent;\n",
       "        event['data'] = 'scroll'\n",
       "        if (event.deltaY < 0) {\n",
       "            event.step = 1;\n",
       "        } else {\n",
       "            event.step = -1;\n",
       "        }\n",
       "        mouse_event_fn(event);\n",
       "    });\n",
       "\n",
       "    canvas_div.append(canvas);\n",
       "    canvas_div.append(rubberband);\n",
       "\n",
       "    this.rubberband = rubberband;\n",
       "    this.rubberband_canvas = rubberband[0];\n",
       "    this.rubberband_context = rubberband[0].getContext(\"2d\");\n",
       "    this.rubberband_context.strokeStyle = \"#000000\";\n",
       "\n",
       "    this._resize_canvas = function(width, height) {\n",
       "        // Keep the size of the canvas, canvas container, and rubber band\n",
       "        // canvas in synch.\n",
       "        canvas_div.css('width', width)\n",
       "        canvas_div.css('height', height)\n",
       "\n",
       "        canvas.attr('width', width * mpl.ratio);\n",
       "        canvas.attr('height', height * mpl.ratio);\n",
       "        canvas.attr('style', 'width: ' + width + 'px; height: ' + height + 'px;');\n",
       "\n",
       "        rubberband.attr('width', width);\n",
       "        rubberband.attr('height', height);\n",
       "    }\n",
       "\n",
       "    // Set the figure to an initial 600x600px, this will subsequently be updated\n",
       "    // upon first draw.\n",
       "    this._resize_canvas(600, 600);\n",
       "\n",
       "    // Disable right mouse context menu.\n",
       "    $(this.rubberband_canvas).bind(\"contextmenu\",function(e){\n",
       "        return false;\n",
       "    });\n",
       "\n",
       "    function set_focus () {\n",
       "        canvas.focus();\n",
       "        canvas_div.focus();\n",
       "    }\n",
       "\n",
       "    window.setTimeout(set_focus, 100);\n",
       "}\n",
       "\n",
       "mpl.figure.prototype._init_toolbar = function() {\n",
       "    var fig = this;\n",
       "\n",
       "    var nav_element = $('<div/>')\n",
       "    nav_element.attr('style', 'width: 100%');\n",
       "    this.root.append(nav_element);\n",
       "\n",
       "    // Define a callback function for later on.\n",
       "    function toolbar_event(event) {\n",
       "        return fig.toolbar_button_onclick(event['data']);\n",
       "    }\n",
       "    function toolbar_mouse_event(event) {\n",
       "        return fig.toolbar_button_onmouseover(event['data']);\n",
       "    }\n",
       "\n",
       "    for(var toolbar_ind in mpl.toolbar_items) {\n",
       "        var name = mpl.toolbar_items[toolbar_ind][0];\n",
       "        var tooltip = mpl.toolbar_items[toolbar_ind][1];\n",
       "        var image = mpl.toolbar_items[toolbar_ind][2];\n",
       "        var method_name = mpl.toolbar_items[toolbar_ind][3];\n",
       "\n",
       "        if (!name) {\n",
       "            // put a spacer in here.\n",
       "            continue;\n",
       "        }\n",
       "        var button = $('<button/>');\n",
       "        button.addClass('ui-button ui-widget ui-state-default ui-corner-all ' +\n",
       "                        'ui-button-icon-only');\n",
       "        button.attr('role', 'button');\n",
       "        button.attr('aria-disabled', 'false');\n",
       "        button.click(method_name, toolbar_event);\n",
       "        button.mouseover(tooltip, toolbar_mouse_event);\n",
       "\n",
       "        var icon_img = $('<span/>');\n",
       "        icon_img.addClass('ui-button-icon-primary ui-icon');\n",
       "        icon_img.addClass(image);\n",
       "        icon_img.addClass('ui-corner-all');\n",
       "\n",
       "        var tooltip_span = $('<span/>');\n",
       "        tooltip_span.addClass('ui-button-text');\n",
       "        tooltip_span.html(tooltip);\n",
       "\n",
       "        button.append(icon_img);\n",
       "        button.append(tooltip_span);\n",
       "\n",
       "        nav_element.append(button);\n",
       "    }\n",
       "\n",
       "    var fmt_picker_span = $('<span/>');\n",
       "\n",
       "    var fmt_picker = $('<select/>');\n",
       "    fmt_picker.addClass('mpl-toolbar-option ui-widget ui-widget-content');\n",
       "    fmt_picker_span.append(fmt_picker);\n",
       "    nav_element.append(fmt_picker_span);\n",
       "    this.format_dropdown = fmt_picker[0];\n",
       "\n",
       "    for (var ind in mpl.extensions) {\n",
       "        var fmt = mpl.extensions[ind];\n",
       "        var option = $(\n",
       "            '<option/>', {selected: fmt === mpl.default_extension}).html(fmt);\n",
       "        fmt_picker.append(option)\n",
       "    }\n",
       "\n",
       "    // Add hover states to the ui-buttons\n",
       "    $( \".ui-button\" ).hover(\n",
       "        function() { $(this).addClass(\"ui-state-hover\");},\n",
       "        function() { $(this).removeClass(\"ui-state-hover\");}\n",
       "    );\n",
       "\n",
       "    var status_bar = $('<span class=\"mpl-message\"/>');\n",
       "    nav_element.append(status_bar);\n",
       "    this.message = status_bar[0];\n",
       "}\n",
       "\n",
       "mpl.figure.prototype.request_resize = function(x_pixels, y_pixels) {\n",
       "    // Request matplotlib to resize the figure. Matplotlib will then trigger a resize in the client,\n",
       "    // which will in turn request a refresh of the image.\n",
       "    this.send_message('resize', {'width': x_pixels, 'height': y_pixels});\n",
       "}\n",
       "\n",
       "mpl.figure.prototype.send_message = function(type, properties) {\n",
       "    properties['type'] = type;\n",
       "    properties['figure_id'] = this.id;\n",
       "    this.ws.send(JSON.stringify(properties));\n",
       "}\n",
       "\n",
       "mpl.figure.prototype.send_draw_message = function() {\n",
       "    if (!this.waiting) {\n",
       "        this.waiting = true;\n",
       "        this.ws.send(JSON.stringify({type: \"draw\", figure_id: this.id}));\n",
       "    }\n",
       "}\n",
       "\n",
       "\n",
       "mpl.figure.prototype.handle_save = function(fig, msg) {\n",
       "    var format_dropdown = fig.format_dropdown;\n",
       "    var format = format_dropdown.options[format_dropdown.selectedIndex].value;\n",
       "    fig.ondownload(fig, format);\n",
       "}\n",
       "\n",
       "\n",
       "mpl.figure.prototype.handle_resize = function(fig, msg) {\n",
       "    var size = msg['size'];\n",
       "    if (size[0] != fig.canvas.width || size[1] != fig.canvas.height) {\n",
       "        fig._resize_canvas(size[0], size[1]);\n",
       "        fig.send_message(\"refresh\", {});\n",
       "    };\n",
       "}\n",
       "\n",
       "mpl.figure.prototype.handle_rubberband = function(fig, msg) {\n",
       "    var x0 = msg['x0'] / mpl.ratio;\n",
       "    var y0 = (fig.canvas.height - msg['y0']) / mpl.ratio;\n",
       "    var x1 = msg['x1'] / mpl.ratio;\n",
       "    var y1 = (fig.canvas.height - msg['y1']) / mpl.ratio;\n",
       "    x0 = Math.floor(x0) + 0.5;\n",
       "    y0 = Math.floor(y0) + 0.5;\n",
       "    x1 = Math.floor(x1) + 0.5;\n",
       "    y1 = Math.floor(y1) + 0.5;\n",
       "    var min_x = Math.min(x0, x1);\n",
       "    var min_y = Math.min(y0, y1);\n",
       "    var width = Math.abs(x1 - x0);\n",
       "    var height = Math.abs(y1 - y0);\n",
       "\n",
       "    fig.rubberband_context.clearRect(\n",
       "        0, 0, fig.canvas.width, fig.canvas.height);\n",
       "\n",
       "    fig.rubberband_context.strokeRect(min_x, min_y, width, height);\n",
       "}\n",
       "\n",
       "mpl.figure.prototype.handle_figure_label = function(fig, msg) {\n",
       "    // Updates the figure title.\n",
       "    fig.header.textContent = msg['label'];\n",
       "}\n",
       "\n",
       "mpl.figure.prototype.handle_cursor = function(fig, msg) {\n",
       "    var cursor = msg['cursor'];\n",
       "    switch(cursor)\n",
       "    {\n",
       "    case 0:\n",
       "        cursor = 'pointer';\n",
       "        break;\n",
       "    case 1:\n",
       "        cursor = 'default';\n",
       "        break;\n",
       "    case 2:\n",
       "        cursor = 'crosshair';\n",
       "        break;\n",
       "    case 3:\n",
       "        cursor = 'move';\n",
       "        break;\n",
       "    }\n",
       "    fig.rubberband_canvas.style.cursor = cursor;\n",
       "}\n",
       "\n",
       "mpl.figure.prototype.handle_message = function(fig, msg) {\n",
       "    fig.message.textContent = msg['message'];\n",
       "}\n",
       "\n",
       "mpl.figure.prototype.handle_draw = function(fig, msg) {\n",
       "    // Request the server to send over a new figure.\n",
       "    fig.send_draw_message();\n",
       "}\n",
       "\n",
       "mpl.figure.prototype.handle_image_mode = function(fig, msg) {\n",
       "    fig.image_mode = msg['mode'];\n",
       "}\n",
       "\n",
       "mpl.figure.prototype.updated_canvas_event = function() {\n",
       "    // Called whenever the canvas gets updated.\n",
       "    this.send_message(\"ack\", {});\n",
       "}\n",
       "\n",
       "// A function to construct a web socket function for onmessage handling.\n",
       "// Called in the figure constructor.\n",
       "mpl.figure.prototype._make_on_message_function = function(fig) {\n",
       "    return function socket_on_message(evt) {\n",
       "        if (evt.data instanceof Blob) {\n",
       "            /* FIXME: We get \"Resource interpreted as Image but\n",
       "             * transferred with MIME type text/plain:\" errors on\n",
       "             * Chrome.  But how to set the MIME type?  It doesn't seem\n",
       "             * to be part of the websocket stream */\n",
       "            evt.data.type = \"image/png\";\n",
       "\n",
       "            /* Free the memory for the previous frames */\n",
       "            if (fig.imageObj.src) {\n",
       "                (window.URL || window.webkitURL).revokeObjectURL(\n",
       "                    fig.imageObj.src);\n",
       "            }\n",
       "\n",
       "            fig.imageObj.src = (window.URL || window.webkitURL).createObjectURL(\n",
       "                evt.data);\n",
       "            fig.updated_canvas_event();\n",
       "            fig.waiting = false;\n",
       "            return;\n",
       "        }\n",
       "        else if (typeof evt.data === 'string' && evt.data.slice(0, 21) == \"data:image/png;base64\") {\n",
       "            fig.imageObj.src = evt.data;\n",
       "            fig.updated_canvas_event();\n",
       "            fig.waiting = false;\n",
       "            return;\n",
       "        }\n",
       "\n",
       "        var msg = JSON.parse(evt.data);\n",
       "        var msg_type = msg['type'];\n",
       "\n",
       "        // Call the  \"handle_{type}\" callback, which takes\n",
       "        // the figure and JSON message as its only arguments.\n",
       "        try {\n",
       "            var callback = fig[\"handle_\" + msg_type];\n",
       "        } catch (e) {\n",
       "            console.log(\"No handler for the '\" + msg_type + \"' message type: \", msg);\n",
       "            return;\n",
       "        }\n",
       "\n",
       "        if (callback) {\n",
       "            try {\n",
       "                // console.log(\"Handling '\" + msg_type + \"' message: \", msg);\n",
       "                callback(fig, msg);\n",
       "            } catch (e) {\n",
       "                console.log(\"Exception inside the 'handler_\" + msg_type + \"' callback:\", e, e.stack, msg);\n",
       "            }\n",
       "        }\n",
       "    };\n",
       "}\n",
       "\n",
       "// from http://stackoverflow.com/questions/1114465/getting-mouse-location-in-canvas\n",
       "mpl.findpos = function(e) {\n",
       "    //this section is from http://www.quirksmode.org/js/events_properties.html\n",
       "    var targ;\n",
       "    if (!e)\n",
       "        e = window.event;\n",
       "    if (e.target)\n",
       "        targ = e.target;\n",
       "    else if (e.srcElement)\n",
       "        targ = e.srcElement;\n",
       "    if (targ.nodeType == 3) // defeat Safari bug\n",
       "        targ = targ.parentNode;\n",
       "\n",
       "    // jQuery normalizes the pageX and pageY\n",
       "    // pageX,Y are the mouse positions relative to the document\n",
       "    // offset() returns the position of the element relative to the document\n",
       "    var x = e.pageX - $(targ).offset().left;\n",
       "    var y = e.pageY - $(targ).offset().top;\n",
       "\n",
       "    return {\"x\": x, \"y\": y};\n",
       "};\n",
       "\n",
       "/*\n",
       " * return a copy of an object with only non-object keys\n",
       " * we need this to avoid circular references\n",
       " * http://stackoverflow.com/a/24161582/3208463\n",
       " */\n",
       "function simpleKeys (original) {\n",
       "  return Object.keys(original).reduce(function (obj, key) {\n",
       "    if (typeof original[key] !== 'object')\n",
       "        obj[key] = original[key]\n",
       "    return obj;\n",
       "  }, {});\n",
       "}\n",
       "\n",
       "mpl.figure.prototype.mouse_event = function(event, name) {\n",
       "    var canvas_pos = mpl.findpos(event)\n",
       "\n",
       "    if (name === 'button_press')\n",
       "    {\n",
       "        this.canvas.focus();\n",
       "        this.canvas_div.focus();\n",
       "    }\n",
       "\n",
       "    var x = canvas_pos.x * mpl.ratio;\n",
       "    var y = canvas_pos.y * mpl.ratio;\n",
       "\n",
       "    this.send_message(name, {x: x, y: y, button: event.button,\n",
       "                             step: event.step,\n",
       "                             guiEvent: simpleKeys(event)});\n",
       "\n",
       "    /* This prevents the web browser from automatically changing to\n",
       "     * the text insertion cursor when the button is pressed.  We want\n",
       "     * to control all of the cursor setting manually through the\n",
       "     * 'cursor' event from matplotlib */\n",
       "    event.preventDefault();\n",
       "    return false;\n",
       "}\n",
       "\n",
       "mpl.figure.prototype._key_event_extra = function(event, name) {\n",
       "    // Handle any extra behaviour associated with a key event\n",
       "}\n",
       "\n",
       "mpl.figure.prototype.key_event = function(event, name) {\n",
       "\n",
       "    // Prevent repeat events\n",
       "    if (name == 'key_press')\n",
       "    {\n",
       "        if (event.which === this._key)\n",
       "            return;\n",
       "        else\n",
       "            this._key = event.which;\n",
       "    }\n",
       "    if (name == 'key_release')\n",
       "        this._key = null;\n",
       "\n",
       "    var value = '';\n",
       "    if (event.ctrlKey && event.which != 17)\n",
       "        value += \"ctrl+\";\n",
       "    if (event.altKey && event.which != 18)\n",
       "        value += \"alt+\";\n",
       "    if (event.shiftKey && event.which != 16)\n",
       "        value += \"shift+\";\n",
       "\n",
       "    value += 'k';\n",
       "    value += event.which.toString();\n",
       "\n",
       "    this._key_event_extra(event, name);\n",
       "\n",
       "    this.send_message(name, {key: value,\n",
       "                             guiEvent: simpleKeys(event)});\n",
       "    return false;\n",
       "}\n",
       "\n",
       "mpl.figure.prototype.toolbar_button_onclick = function(name) {\n",
       "    if (name == 'download') {\n",
       "        this.handle_save(this, null);\n",
       "    } else {\n",
       "        this.send_message(\"toolbar_button\", {name: name});\n",
       "    }\n",
       "};\n",
       "\n",
       "mpl.figure.prototype.toolbar_button_onmouseover = function(tooltip) {\n",
       "    this.message.textContent = tooltip;\n",
       "};\n",
       "mpl.toolbar_items = [[\"Home\", \"Reset original view\", \"fa fa-home icon-home\", \"home\"], [\"Back\", \"Back to previous view\", \"fa fa-arrow-left icon-arrow-left\", \"back\"], [\"Forward\", \"Forward to next view\", \"fa fa-arrow-right icon-arrow-right\", \"forward\"], [\"\", \"\", \"\", \"\"], [\"Pan\", \"Pan axes with left mouse, zoom with right\", \"fa fa-arrows icon-move\", \"pan\"], [\"Zoom\", \"Zoom to rectangle\", \"fa fa-square-o icon-check-empty\", \"zoom\"], [\"\", \"\", \"\", \"\"], [\"Download\", \"Download plot\", \"fa fa-floppy-o icon-save\", \"download\"]];\n",
       "\n",
       "mpl.extensions = [\"eps\", \"pdf\", \"png\", \"ps\", \"raw\", \"svg\"];\n",
       "\n",
       "mpl.default_extension = \"png\";var comm_websocket_adapter = function(comm) {\n",
       "    // Create a \"websocket\"-like object which calls the given IPython comm\n",
       "    // object with the appropriate methods. Currently this is a non binary\n",
       "    // socket, so there is still some room for performance tuning.\n",
       "    var ws = {};\n",
       "\n",
       "    ws.close = function() {\n",
       "        comm.close()\n",
       "    };\n",
       "    ws.send = function(m) {\n",
       "        //console.log('sending', m);\n",
       "        comm.send(m);\n",
       "    };\n",
       "    // Register the callback with on_msg.\n",
       "    comm.on_msg(function(msg) {\n",
       "        //console.log('receiving', msg['content']['data'], msg);\n",
       "        // Pass the mpl event to the overridden (by mpl) onmessage function.\n",
       "        ws.onmessage(msg['content']['data'])\n",
       "    });\n",
       "    return ws;\n",
       "}\n",
       "\n",
       "mpl.mpl_figure_comm = function(comm, msg) {\n",
       "    // This is the function which gets called when the mpl process\n",
       "    // starts-up an IPython Comm through the \"matplotlib\" channel.\n",
       "\n",
       "    var id = msg.content.data.id;\n",
       "    // Get hold of the div created by the display call when the Comm\n",
       "    // socket was opened in Python.\n",
       "    var element = $(\"#\" + id);\n",
       "    var ws_proxy = comm_websocket_adapter(comm)\n",
       "\n",
       "    function ondownload(figure, format) {\n",
       "        window.open(figure.imageObj.src);\n",
       "    }\n",
       "\n",
       "    var fig = new mpl.figure(id, ws_proxy,\n",
       "                           ondownload,\n",
       "                           element.get(0));\n",
       "\n",
       "    // Call onopen now - mpl needs it, as it is assuming we've passed it a real\n",
       "    // web socket which is closed, not our websocket->open comm proxy.\n",
       "    ws_proxy.onopen();\n",
       "\n",
       "    fig.parent_element = element.get(0);\n",
       "    fig.cell_info = mpl.find_output_cell(\"<div id='\" + id + \"'></div>\");\n",
       "    if (!fig.cell_info) {\n",
       "        console.error(\"Failed to find cell for figure\", id, fig);\n",
       "        return;\n",
       "    }\n",
       "\n",
       "    var output_index = fig.cell_info[2]\n",
       "    var cell = fig.cell_info[0];\n",
       "\n",
       "};\n",
       "\n",
       "mpl.figure.prototype.handle_close = function(fig, msg) {\n",
       "    var width = fig.canvas.width/mpl.ratio\n",
       "    fig.root.unbind('remove')\n",
       "\n",
       "    // Update the output cell to use the data from the current canvas.\n",
       "    fig.push_to_output();\n",
       "    var dataURL = fig.canvas.toDataURL();\n",
       "    // Re-enable the keyboard manager in IPython - without this line, in FF,\n",
       "    // the notebook keyboard shortcuts fail.\n",
       "    IPython.keyboard_manager.enable()\n",
       "    $(fig.parent_element).html('<img src=\"' + dataURL + '\" width=\"' + width + '\">');\n",
       "    fig.close_ws(fig, msg);\n",
       "}\n",
       "\n",
       "mpl.figure.prototype.close_ws = function(fig, msg){\n",
       "    fig.send_message('closing', msg);\n",
       "    // fig.ws.close()\n",
       "}\n",
       "\n",
       "mpl.figure.prototype.push_to_output = function(remove_interactive) {\n",
       "    // Turn the data on the canvas into data in the output cell.\n",
       "    var width = this.canvas.width/mpl.ratio\n",
       "    var dataURL = this.canvas.toDataURL();\n",
       "    this.cell_info[1]['text/html'] = '<img src=\"' + dataURL + '\" width=\"' + width + '\">';\n",
       "}\n",
       "\n",
       "mpl.figure.prototype.updated_canvas_event = function() {\n",
       "    // Tell IPython that the notebook contents must change.\n",
       "    IPython.notebook.set_dirty(true);\n",
       "    this.send_message(\"ack\", {});\n",
       "    var fig = this;\n",
       "    // Wait a second, then push the new image to the DOM so\n",
       "    // that it is saved nicely (might be nice to debounce this).\n",
       "    setTimeout(function () { fig.push_to_output() }, 1000);\n",
       "}\n",
       "\n",
       "mpl.figure.prototype._init_toolbar = function() {\n",
       "    var fig = this;\n",
       "\n",
       "    var nav_element = $('<div/>')\n",
       "    nav_element.attr('style', 'width: 100%');\n",
       "    this.root.append(nav_element);\n",
       "\n",
       "    // Define a callback function for later on.\n",
       "    function toolbar_event(event) {\n",
       "        return fig.toolbar_button_onclick(event['data']);\n",
       "    }\n",
       "    function toolbar_mouse_event(event) {\n",
       "        return fig.toolbar_button_onmouseover(event['data']);\n",
       "    }\n",
       "\n",
       "    for(var toolbar_ind in mpl.toolbar_items){\n",
       "        var name = mpl.toolbar_items[toolbar_ind][0];\n",
       "        var tooltip = mpl.toolbar_items[toolbar_ind][1];\n",
       "        var image = mpl.toolbar_items[toolbar_ind][2];\n",
       "        var method_name = mpl.toolbar_items[toolbar_ind][3];\n",
       "\n",
       "        if (!name) { continue; };\n",
       "\n",
       "        var button = $('<button class=\"btn btn-default\" href=\"#\" title=\"' + name + '\"><i class=\"fa ' + image + ' fa-lg\"></i></button>');\n",
       "        button.click(method_name, toolbar_event);\n",
       "        button.mouseover(tooltip, toolbar_mouse_event);\n",
       "        nav_element.append(button);\n",
       "    }\n",
       "\n",
       "    // Add the status bar.\n",
       "    var status_bar = $('<span class=\"mpl-message\" style=\"text-align:right; float: right;\"/>');\n",
       "    nav_element.append(status_bar);\n",
       "    this.message = status_bar[0];\n",
       "\n",
       "    // Add the close button to the window.\n",
       "    var buttongrp = $('<div class=\"btn-group inline pull-right\"></div>');\n",
       "    var button = $('<button class=\"btn btn-mini btn-primary\" href=\"#\" title=\"Stop Interaction\"><i class=\"fa fa-power-off icon-remove icon-large\"></i></button>');\n",
       "    button.click(function (evt) { fig.handle_close(fig, {}); } );\n",
       "    button.mouseover('Stop Interaction', toolbar_mouse_event);\n",
       "    buttongrp.append(button);\n",
       "    var titlebar = this.root.find($('.ui-dialog-titlebar'));\n",
       "    titlebar.prepend(buttongrp);\n",
       "}\n",
       "\n",
       "mpl.figure.prototype._root_extra_style = function(el){\n",
       "    var fig = this\n",
       "    el.on(\"remove\", function(){\n",
       "\tfig.close_ws(fig, {});\n",
       "    });\n",
       "}\n",
       "\n",
       "mpl.figure.prototype._canvas_extra_style = function(el){\n",
       "    // this is important to make the div 'focusable\n",
       "    el.attr('tabindex', 0)\n",
       "    // reach out to IPython and tell the keyboard manager to turn it's self\n",
       "    // off when our div gets focus\n",
       "\n",
       "    // location in version 3\n",
       "    if (IPython.notebook.keyboard_manager) {\n",
       "        IPython.notebook.keyboard_manager.register_events(el);\n",
       "    }\n",
       "    else {\n",
       "        // location in version 2\n",
       "        IPython.keyboard_manager.register_events(el);\n",
       "    }\n",
       "\n",
       "}\n",
       "\n",
       "mpl.figure.prototype._key_event_extra = function(event, name) {\n",
       "    var manager = IPython.notebook.keyboard_manager;\n",
       "    if (!manager)\n",
       "        manager = IPython.keyboard_manager;\n",
       "\n",
       "    // Check for shift+enter\n",
       "    if (event.shiftKey && event.which == 13) {\n",
       "        this.canvas_div.blur();\n",
       "        event.shiftKey = false;\n",
       "        // Send a \"J\" for go to next cell\n",
       "        event.which = 74;\n",
       "        event.keyCode = 74;\n",
       "        manager.command_mode();\n",
       "        manager.handle_keydown(event);\n",
       "    }\n",
       "}\n",
       "\n",
       "mpl.figure.prototype.handle_save = function(fig, msg) {\n",
       "    fig.ondownload(fig, null);\n",
       "}\n",
       "\n",
       "\n",
       "mpl.find_output_cell = function(html_output) {\n",
       "    // Return the cell and output element which can be found *uniquely* in the notebook.\n",
       "    // Note - this is a bit hacky, but it is done because the \"notebook_saving.Notebook\"\n",
       "    // IPython event is triggered only after the cells have been serialised, which for\n",
       "    // our purposes (turning an active figure into a static one), is too late.\n",
       "    var cells = IPython.notebook.get_cells();\n",
       "    var ncells = cells.length;\n",
       "    for (var i=0; i<ncells; i++) {\n",
       "        var cell = cells[i];\n",
       "        if (cell.cell_type === 'code'){\n",
       "            for (var j=0; j<cell.output_area.outputs.length; j++) {\n",
       "                var data = cell.output_area.outputs[j];\n",
       "                if (data.data) {\n",
       "                    // IPython >= 3 moved mimebundle to data attribute of output\n",
       "                    data = data.data;\n",
       "                }\n",
       "                if (data['text/html'] == html_output) {\n",
       "                    return [cell, data, j];\n",
       "                }\n",
       "            }\n",
       "        }\n",
       "    }\n",
       "}\n",
       "\n",
       "// Register the function which deals with the matplotlib target/channel.\n",
       "// The kernel may be null if the page has been refreshed.\n",
       "if (IPython.notebook.kernel != null) {\n",
       "    IPython.notebook.kernel.comm_manager.register_target('matplotlib', mpl.mpl_figure_comm);\n",
       "}\n"
      ],
      "text/plain": [
       "<IPython.core.display.Javascript object>"
      ]
     },
     "metadata": {},
     "output_type": "display_data"
    },
    {
     "data": {
      "text/html": [
       "<img src=\"data:image/png;base64,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\" width=\"400\">"
      ],
      "text/plain": [
       "<IPython.core.display.HTML object>"
      ]
     },
     "metadata": {},
     "output_type": "display_data"
    },
    {
     "data": {
      "application/vnd.jupyter.widget-view+json": {
       "model_id": "88faa4499068402c88f35c40e37e6e69",
       "version_major": 2,
       "version_minor": 0
      },
      "text/plain": [
       "VBox(children=(HBox(children=(Button(description='First', style=ButtonStyle()), Button(description='Prev', sty…"
      ]
     },
     "metadata": {},
     "output_type": "display_data"
    }
   ],
   "source": [
    "mpl.rcParams['xtick.labelbottom'] = False\n",
    "mpl.rcParams['ytick.labelleft'] = False\n",
    "\n",
    "fig, axes = iter_subplots(2, 2, figsize=(4,4))\n",
    "axes[0, 0].iter_imshow(binary_cy3b, cmap='gray')\n",
    "axes[0, 1].iter_imshow(brightfield_cy3b, cmap='gray')\n",
    "axes[1, 0].iter_imshow(binary_egfp, cmap='gray')\n",
    "axes[1, 1].iter_imshow(brightfield_egfp, cmap='gray')\n",
    "fig.display()"
   ]
  },
  {
   "cell_type": "markdown",
   "metadata": {},
   "source": [
    "Combining both stacks:"
   ]
  },
  {
   "cell_type": "code",
   "execution_count": 7,
   "metadata": {},
   "outputs": [
    {
     "data": {
      "text/plain": [
       "((200, 512, 512), (200, 512, 512))"
      ]
     },
     "execution_count": 7,
     "metadata": {},
     "output_type": "execute_result"
    }
   ],
   "source": [
    "binary = np.concatenate([binary_egfp, binary_cy3b])\n",
    "brightfield = np.concatenate([brightfield_egfp, brightfield_cy3b])\n",
    "binary.shape, brightfield.shape"
   ]
  },
  {
   "cell_type": "code",
   "execution_count": 8,
   "metadata": {},
   "outputs": [
    {
     "data": {
      "application/javascript": [
       "/* Put everything inside the global mpl namespace */\n",
       "window.mpl = {};\n",
       "\n",
       "\n",
       "mpl.get_websocket_type = function() {\n",
       "    if (typeof(WebSocket) !== 'undefined') {\n",
       "        return WebSocket;\n",
       "    } else if (typeof(MozWebSocket) !== 'undefined') {\n",
       "        return MozWebSocket;\n",
       "    } else {\n",
       "        alert('Your browser does not have WebSocket support.' +\n",
       "              'Please try Chrome, Safari or Firefox ≥ 6. ' +\n",
       "              'Firefox 4 and 5 are also supported but you ' +\n",
       "              'have to enable WebSockets in about:config.');\n",
       "    };\n",
       "}\n",
       "\n",
       "mpl.figure = function(figure_id, websocket, ondownload, parent_element) {\n",
       "    this.id = figure_id;\n",
       "\n",
       "    this.ws = websocket;\n",
       "\n",
       "    this.supports_binary = (this.ws.binaryType != undefined);\n",
       "\n",
       "    if (!this.supports_binary) {\n",
       "        var warnings = document.getElementById(\"mpl-warnings\");\n",
       "        if (warnings) {\n",
       "            warnings.style.display = 'block';\n",
       "            warnings.textContent = (\n",
       "                \"This browser does not support binary websocket messages. \" +\n",
       "                    \"Performance may be slow.\");\n",
       "        }\n",
       "    }\n",
       "\n",
       "    this.imageObj = new Image();\n",
       "\n",
       "    this.context = undefined;\n",
       "    this.message = undefined;\n",
       "    this.canvas = undefined;\n",
       "    this.rubberband_canvas = undefined;\n",
       "    this.rubberband_context = undefined;\n",
       "    this.format_dropdown = undefined;\n",
       "\n",
       "    this.image_mode = 'full';\n",
       "\n",
       "    this.root = $('<div/>');\n",
       "    this._root_extra_style(this.root)\n",
       "    this.root.attr('style', 'display: inline-block');\n",
       "\n",
       "    $(parent_element).append(this.root);\n",
       "\n",
       "    this._init_header(this);\n",
       "    this._init_canvas(this);\n",
       "    this._init_toolbar(this);\n",
       "\n",
       "    var fig = this;\n",
       "\n",
       "    this.waiting = false;\n",
       "\n",
       "    this.ws.onopen =  function () {\n",
       "            fig.send_message(\"supports_binary\", {value: fig.supports_binary});\n",
       "            fig.send_message(\"send_image_mode\", {});\n",
       "            if (mpl.ratio != 1) {\n",
       "                fig.send_message(\"set_dpi_ratio\", {'dpi_ratio': mpl.ratio});\n",
       "            }\n",
       "            fig.send_message(\"refresh\", {});\n",
       "        }\n",
       "\n",
       "    this.imageObj.onload = function() {\n",
       "            if (fig.image_mode == 'full') {\n",
       "                // Full images could contain transparency (where diff images\n",
       "                // almost always do), so we need to clear the canvas so that\n",
       "                // there is no ghosting.\n",
       "                fig.context.clearRect(0, 0, fig.canvas.width, fig.canvas.height);\n",
       "            }\n",
       "            fig.context.drawImage(fig.imageObj, 0, 0);\n",
       "        };\n",
       "\n",
       "    this.imageObj.onunload = function() {\n",
       "        fig.ws.close();\n",
       "    }\n",
       "\n",
       "    this.ws.onmessage = this._make_on_message_function(this);\n",
       "\n",
       "    this.ondownload = ondownload;\n",
       "}\n",
       "\n",
       "mpl.figure.prototype._init_header = function() {\n",
       "    var titlebar = $(\n",
       "        '<div class=\"ui-dialog-titlebar ui-widget-header ui-corner-all ' +\n",
       "        'ui-helper-clearfix\"/>');\n",
       "    var titletext = $(\n",
       "        '<div class=\"ui-dialog-title\" style=\"width: 100%; ' +\n",
       "        'text-align: center; padding: 3px;\"/>');\n",
       "    titlebar.append(titletext)\n",
       "    this.root.append(titlebar);\n",
       "    this.header = titletext[0];\n",
       "}\n",
       "\n",
       "\n",
       "\n",
       "mpl.figure.prototype._canvas_extra_style = function(canvas_div) {\n",
       "\n",
       "}\n",
       "\n",
       "\n",
       "mpl.figure.prototype._root_extra_style = function(canvas_div) {\n",
       "\n",
       "}\n",
       "\n",
       "mpl.figure.prototype._init_canvas = function() {\n",
       "    var fig = this;\n",
       "\n",
       "    var canvas_div = $('<div/>');\n",
       "\n",
       "    canvas_div.attr('style', 'position: relative; clear: both; outline: 0');\n",
       "\n",
       "    function canvas_keyboard_event(event) {\n",
       "        return fig.key_event(event, event['data']);\n",
       "    }\n",
       "\n",
       "    canvas_div.keydown('key_press', canvas_keyboard_event);\n",
       "    canvas_div.keyup('key_release', canvas_keyboard_event);\n",
       "    this.canvas_div = canvas_div\n",
       "    this._canvas_extra_style(canvas_div)\n",
       "    this.root.append(canvas_div);\n",
       "\n",
       "    var canvas = $('<canvas/>');\n",
       "    canvas.addClass('mpl-canvas');\n",
       "    canvas.attr('style', \"left: 0; top: 0; z-index: 0; outline: 0\")\n",
       "\n",
       "    this.canvas = canvas[0];\n",
       "    this.context = canvas[0].getContext(\"2d\");\n",
       "\n",
       "    var backingStore = this.context.backingStorePixelRatio ||\n",
       "\tthis.context.webkitBackingStorePixelRatio ||\n",
       "\tthis.context.mozBackingStorePixelRatio ||\n",
       "\tthis.context.msBackingStorePixelRatio ||\n",
       "\tthis.context.oBackingStorePixelRatio ||\n",
       "\tthis.context.backingStorePixelRatio || 1;\n",
       "\n",
       "    mpl.ratio = (window.devicePixelRatio || 1) / backingStore;\n",
       "\n",
       "    var rubberband = $('<canvas/>');\n",
       "    rubberband.attr('style', \"position: absolute; left: 0; top: 0; z-index: 1;\")\n",
       "\n",
       "    var pass_mouse_events = true;\n",
       "\n",
       "    canvas_div.resizable({\n",
       "        start: function(event, ui) {\n",
       "            pass_mouse_events = false;\n",
       "        },\n",
       "        resize: function(event, ui) {\n",
       "            fig.request_resize(ui.size.width, ui.size.height);\n",
       "        },\n",
       "        stop: function(event, ui) {\n",
       "            pass_mouse_events = true;\n",
       "            fig.request_resize(ui.size.width, ui.size.height);\n",
       "        },\n",
       "    });\n",
       "\n",
       "    function mouse_event_fn(event) {\n",
       "        if (pass_mouse_events)\n",
       "            return fig.mouse_event(event, event['data']);\n",
       "    }\n",
       "\n",
       "    rubberband.mousedown('button_press', mouse_event_fn);\n",
       "    rubberband.mouseup('button_release', mouse_event_fn);\n",
       "    // Throttle sequential mouse events to 1 every 20ms.\n",
       "    rubberband.mousemove('motion_notify', mouse_event_fn);\n",
       "\n",
       "    rubberband.mouseenter('figure_enter', mouse_event_fn);\n",
       "    rubberband.mouseleave('figure_leave', mouse_event_fn);\n",
       "\n",
       "    canvas_div.on(\"wheel\", function (event) {\n",
       "        event = event.originalEvent;\n",
       "        event['data'] = 'scroll'\n",
       "        if (event.deltaY < 0) {\n",
       "            event.step = 1;\n",
       "        } else {\n",
       "            event.step = -1;\n",
       "        }\n",
       "        mouse_event_fn(event);\n",
       "    });\n",
       "\n",
       "    canvas_div.append(canvas);\n",
       "    canvas_div.append(rubberband);\n",
       "\n",
       "    this.rubberband = rubberband;\n",
       "    this.rubberband_canvas = rubberband[0];\n",
       "    this.rubberband_context = rubberband[0].getContext(\"2d\");\n",
       "    this.rubberband_context.strokeStyle = \"#000000\";\n",
       "\n",
       "    this._resize_canvas = function(width, height) {\n",
       "        // Keep the size of the canvas, canvas container, and rubber band\n",
       "        // canvas in synch.\n",
       "        canvas_div.css('width', width)\n",
       "        canvas_div.css('height', height)\n",
       "\n",
       "        canvas.attr('width', width * mpl.ratio);\n",
       "        canvas.attr('height', height * mpl.ratio);\n",
       "        canvas.attr('style', 'width: ' + width + 'px; height: ' + height + 'px;');\n",
       "\n",
       "        rubberband.attr('width', width);\n",
       "        rubberband.attr('height', height);\n",
       "    }\n",
       "\n",
       "    // Set the figure to an initial 600x600px, this will subsequently be updated\n",
       "    // upon first draw.\n",
       "    this._resize_canvas(600, 600);\n",
       "\n",
       "    // Disable right mouse context menu.\n",
       "    $(this.rubberband_canvas).bind(\"contextmenu\",function(e){\n",
       "        return false;\n",
       "    });\n",
       "\n",
       "    function set_focus () {\n",
       "        canvas.focus();\n",
       "        canvas_div.focus();\n",
       "    }\n",
       "\n",
       "    window.setTimeout(set_focus, 100);\n",
       "}\n",
       "\n",
       "mpl.figure.prototype._init_toolbar = function() {\n",
       "    var fig = this;\n",
       "\n",
       "    var nav_element = $('<div/>')\n",
       "    nav_element.attr('style', 'width: 100%');\n",
       "    this.root.append(nav_element);\n",
       "\n",
       "    // Define a callback function for later on.\n",
       "    function toolbar_event(event) {\n",
       "        return fig.toolbar_button_onclick(event['data']);\n",
       "    }\n",
       "    function toolbar_mouse_event(event) {\n",
       "        return fig.toolbar_button_onmouseover(event['data']);\n",
       "    }\n",
       "\n",
       "    for(var toolbar_ind in mpl.toolbar_items) {\n",
       "        var name = mpl.toolbar_items[toolbar_ind][0];\n",
       "        var tooltip = mpl.toolbar_items[toolbar_ind][1];\n",
       "        var image = mpl.toolbar_items[toolbar_ind][2];\n",
       "        var method_name = mpl.toolbar_items[toolbar_ind][3];\n",
       "\n",
       "        if (!name) {\n",
       "            // put a spacer in here.\n",
       "            continue;\n",
       "        }\n",
       "        var button = $('<button/>');\n",
       "        button.addClass('ui-button ui-widget ui-state-default ui-corner-all ' +\n",
       "                        'ui-button-icon-only');\n",
       "        button.attr('role', 'button');\n",
       "        button.attr('aria-disabled', 'false');\n",
       "        button.click(method_name, toolbar_event);\n",
       "        button.mouseover(tooltip, toolbar_mouse_event);\n",
       "\n",
       "        var icon_img = $('<span/>');\n",
       "        icon_img.addClass('ui-button-icon-primary ui-icon');\n",
       "        icon_img.addClass(image);\n",
       "        icon_img.addClass('ui-corner-all');\n",
       "\n",
       "        var tooltip_span = $('<span/>');\n",
       "        tooltip_span.addClass('ui-button-text');\n",
       "        tooltip_span.html(tooltip);\n",
       "\n",
       "        button.append(icon_img);\n",
       "        button.append(tooltip_span);\n",
       "\n",
       "        nav_element.append(button);\n",
       "    }\n",
       "\n",
       "    var fmt_picker_span = $('<span/>');\n",
       "\n",
       "    var fmt_picker = $('<select/>');\n",
       "    fmt_picker.addClass('mpl-toolbar-option ui-widget ui-widget-content');\n",
       "    fmt_picker_span.append(fmt_picker);\n",
       "    nav_element.append(fmt_picker_span);\n",
       "    this.format_dropdown = fmt_picker[0];\n",
       "\n",
       "    for (var ind in mpl.extensions) {\n",
       "        var fmt = mpl.extensions[ind];\n",
       "        var option = $(\n",
       "            '<option/>', {selected: fmt === mpl.default_extension}).html(fmt);\n",
       "        fmt_picker.append(option)\n",
       "    }\n",
       "\n",
       "    // Add hover states to the ui-buttons\n",
       "    $( \".ui-button\" ).hover(\n",
       "        function() { $(this).addClass(\"ui-state-hover\");},\n",
       "        function() { $(this).removeClass(\"ui-state-hover\");}\n",
       "    );\n",
       "\n",
       "    var status_bar = $('<span class=\"mpl-message\"/>');\n",
       "    nav_element.append(status_bar);\n",
       "    this.message = status_bar[0];\n",
       "}\n",
       "\n",
       "mpl.figure.prototype.request_resize = function(x_pixels, y_pixels) {\n",
       "    // Request matplotlib to resize the figure. Matplotlib will then trigger a resize in the client,\n",
       "    // which will in turn request a refresh of the image.\n",
       "    this.send_message('resize', {'width': x_pixels, 'height': y_pixels});\n",
       "}\n",
       "\n",
       "mpl.figure.prototype.send_message = function(type, properties) {\n",
       "    properties['type'] = type;\n",
       "    properties['figure_id'] = this.id;\n",
       "    this.ws.send(JSON.stringify(properties));\n",
       "}\n",
       "\n",
       "mpl.figure.prototype.send_draw_message = function() {\n",
       "    if (!this.waiting) {\n",
       "        this.waiting = true;\n",
       "        this.ws.send(JSON.stringify({type: \"draw\", figure_id: this.id}));\n",
       "    }\n",
       "}\n",
       "\n",
       "\n",
       "mpl.figure.prototype.handle_save = function(fig, msg) {\n",
       "    var format_dropdown = fig.format_dropdown;\n",
       "    var format = format_dropdown.options[format_dropdown.selectedIndex].value;\n",
       "    fig.ondownload(fig, format);\n",
       "}\n",
       "\n",
       "\n",
       "mpl.figure.prototype.handle_resize = function(fig, msg) {\n",
       "    var size = msg['size'];\n",
       "    if (size[0] != fig.canvas.width || size[1] != fig.canvas.height) {\n",
       "        fig._resize_canvas(size[0], size[1]);\n",
       "        fig.send_message(\"refresh\", {});\n",
       "    };\n",
       "}\n",
       "\n",
       "mpl.figure.prototype.handle_rubberband = function(fig, msg) {\n",
       "    var x0 = msg['x0'] / mpl.ratio;\n",
       "    var y0 = (fig.canvas.height - msg['y0']) / mpl.ratio;\n",
       "    var x1 = msg['x1'] / mpl.ratio;\n",
       "    var y1 = (fig.canvas.height - msg['y1']) / mpl.ratio;\n",
       "    x0 = Math.floor(x0) + 0.5;\n",
       "    y0 = Math.floor(y0) + 0.5;\n",
       "    x1 = Math.floor(x1) + 0.5;\n",
       "    y1 = Math.floor(y1) + 0.5;\n",
       "    var min_x = Math.min(x0, x1);\n",
       "    var min_y = Math.min(y0, y1);\n",
       "    var width = Math.abs(x1 - x0);\n",
       "    var height = Math.abs(y1 - y0);\n",
       "\n",
       "    fig.rubberband_context.clearRect(\n",
       "        0, 0, fig.canvas.width, fig.canvas.height);\n",
       "\n",
       "    fig.rubberband_context.strokeRect(min_x, min_y, width, height);\n",
       "}\n",
       "\n",
       "mpl.figure.prototype.handle_figure_label = function(fig, msg) {\n",
       "    // Updates the figure title.\n",
       "    fig.header.textContent = msg['label'];\n",
       "}\n",
       "\n",
       "mpl.figure.prototype.handle_cursor = function(fig, msg) {\n",
       "    var cursor = msg['cursor'];\n",
       "    switch(cursor)\n",
       "    {\n",
       "    case 0:\n",
       "        cursor = 'pointer';\n",
       "        break;\n",
       "    case 1:\n",
       "        cursor = 'default';\n",
       "        break;\n",
       "    case 2:\n",
       "        cursor = 'crosshair';\n",
       "        break;\n",
       "    case 3:\n",
       "        cursor = 'move';\n",
       "        break;\n",
       "    }\n",
       "    fig.rubberband_canvas.style.cursor = cursor;\n",
       "}\n",
       "\n",
       "mpl.figure.prototype.handle_message = function(fig, msg) {\n",
       "    fig.message.textContent = msg['message'];\n",
       "}\n",
       "\n",
       "mpl.figure.prototype.handle_draw = function(fig, msg) {\n",
       "    // Request the server to send over a new figure.\n",
       "    fig.send_draw_message();\n",
       "}\n",
       "\n",
       "mpl.figure.prototype.handle_image_mode = function(fig, msg) {\n",
       "    fig.image_mode = msg['mode'];\n",
       "}\n",
       "\n",
       "mpl.figure.prototype.updated_canvas_event = function() {\n",
       "    // Called whenever the canvas gets updated.\n",
       "    this.send_message(\"ack\", {});\n",
       "}\n",
       "\n",
       "// A function to construct a web socket function for onmessage handling.\n",
       "// Called in the figure constructor.\n",
       "mpl.figure.prototype._make_on_message_function = function(fig) {\n",
       "    return function socket_on_message(evt) {\n",
       "        if (evt.data instanceof Blob) {\n",
       "            /* FIXME: We get \"Resource interpreted as Image but\n",
       "             * transferred with MIME type text/plain:\" errors on\n",
       "             * Chrome.  But how to set the MIME type?  It doesn't seem\n",
       "             * to be part of the websocket stream */\n",
       "            evt.data.type = \"image/png\";\n",
       "\n",
       "            /* Free the memory for the previous frames */\n",
       "            if (fig.imageObj.src) {\n",
       "                (window.URL || window.webkitURL).revokeObjectURL(\n",
       "                    fig.imageObj.src);\n",
       "            }\n",
       "\n",
       "            fig.imageObj.src = (window.URL || window.webkitURL).createObjectURL(\n",
       "                evt.data);\n",
       "            fig.updated_canvas_event();\n",
       "            fig.waiting = false;\n",
       "            return;\n",
       "        }\n",
       "        else if (typeof evt.data === 'string' && evt.data.slice(0, 21) == \"data:image/png;base64\") {\n",
       "            fig.imageObj.src = evt.data;\n",
       "            fig.updated_canvas_event();\n",
       "            fig.waiting = false;\n",
       "            return;\n",
       "        }\n",
       "\n",
       "        var msg = JSON.parse(evt.data);\n",
       "        var msg_type = msg['type'];\n",
       "\n",
       "        // Call the  \"handle_{type}\" callback, which takes\n",
       "        // the figure and JSON message as its only arguments.\n",
       "        try {\n",
       "            var callback = fig[\"handle_\" + msg_type];\n",
       "        } catch (e) {\n",
       "            console.log(\"No handler for the '\" + msg_type + \"' message type: \", msg);\n",
       "            return;\n",
       "        }\n",
       "\n",
       "        if (callback) {\n",
       "            try {\n",
       "                // console.log(\"Handling '\" + msg_type + \"' message: \", msg);\n",
       "                callback(fig, msg);\n",
       "            } catch (e) {\n",
       "                console.log(\"Exception inside the 'handler_\" + msg_type + \"' callback:\", e, e.stack, msg);\n",
       "            }\n",
       "        }\n",
       "    };\n",
       "}\n",
       "\n",
       "// from http://stackoverflow.com/questions/1114465/getting-mouse-location-in-canvas\n",
       "mpl.findpos = function(e) {\n",
       "    //this section is from http://www.quirksmode.org/js/events_properties.html\n",
       "    var targ;\n",
       "    if (!e)\n",
       "        e = window.event;\n",
       "    if (e.target)\n",
       "        targ = e.target;\n",
       "    else if (e.srcElement)\n",
       "        targ = e.srcElement;\n",
       "    if (targ.nodeType == 3) // defeat Safari bug\n",
       "        targ = targ.parentNode;\n",
       "\n",
       "    // jQuery normalizes the pageX and pageY\n",
       "    // pageX,Y are the mouse positions relative to the document\n",
       "    // offset() returns the position of the element relative to the document\n",
       "    var x = e.pageX - $(targ).offset().left;\n",
       "    var y = e.pageY - $(targ).offset().top;\n",
       "\n",
       "    return {\"x\": x, \"y\": y};\n",
       "};\n",
       "\n",
       "/*\n",
       " * return a copy of an object with only non-object keys\n",
       " * we need this to avoid circular references\n",
       " * http://stackoverflow.com/a/24161582/3208463\n",
       " */\n",
       "function simpleKeys (original) {\n",
       "  return Object.keys(original).reduce(function (obj, key) {\n",
       "    if (typeof original[key] !== 'object')\n",
       "        obj[key] = original[key]\n",
       "    return obj;\n",
       "  }, {});\n",
       "}\n",
       "\n",
       "mpl.figure.prototype.mouse_event = function(event, name) {\n",
       "    var canvas_pos = mpl.findpos(event)\n",
       "\n",
       "    if (name === 'button_press')\n",
       "    {\n",
       "        this.canvas.focus();\n",
       "        this.canvas_div.focus();\n",
       "    }\n",
       "\n",
       "    var x = canvas_pos.x * mpl.ratio;\n",
       "    var y = canvas_pos.y * mpl.ratio;\n",
       "\n",
       "    this.send_message(name, {x: x, y: y, button: event.button,\n",
       "                             step: event.step,\n",
       "                             guiEvent: simpleKeys(event)});\n",
       "\n",
       "    /* This prevents the web browser from automatically changing to\n",
       "     * the text insertion cursor when the button is pressed.  We want\n",
       "     * to control all of the cursor setting manually through the\n",
       "     * 'cursor' event from matplotlib */\n",
       "    event.preventDefault();\n",
       "    return false;\n",
       "}\n",
       "\n",
       "mpl.figure.prototype._key_event_extra = function(event, name) {\n",
       "    // Handle any extra behaviour associated with a key event\n",
       "}\n",
       "\n",
       "mpl.figure.prototype.key_event = function(event, name) {\n",
       "\n",
       "    // Prevent repeat events\n",
       "    if (name == 'key_press')\n",
       "    {\n",
       "        if (event.which === this._key)\n",
       "            return;\n",
       "        else\n",
       "            this._key = event.which;\n",
       "    }\n",
       "    if (name == 'key_release')\n",
       "        this._key = null;\n",
       "\n",
       "    var value = '';\n",
       "    if (event.ctrlKey && event.which != 17)\n",
       "        value += \"ctrl+\";\n",
       "    if (event.altKey && event.which != 18)\n",
       "        value += \"alt+\";\n",
       "    if (event.shiftKey && event.which != 16)\n",
       "        value += \"shift+\";\n",
       "\n",
       "    value += 'k';\n",
       "    value += event.which.toString();\n",
       "\n",
       "    this._key_event_extra(event, name);\n",
       "\n",
       "    this.send_message(name, {key: value,\n",
       "                             guiEvent: simpleKeys(event)});\n",
       "    return false;\n",
       "}\n",
       "\n",
       "mpl.figure.prototype.toolbar_button_onclick = function(name) {\n",
       "    if (name == 'download') {\n",
       "        this.handle_save(this, null);\n",
       "    } else {\n",
       "        this.send_message(\"toolbar_button\", {name: name});\n",
       "    }\n",
       "};\n",
       "\n",
       "mpl.figure.prototype.toolbar_button_onmouseover = function(tooltip) {\n",
       "    this.message.textContent = tooltip;\n",
       "};\n",
       "mpl.toolbar_items = [[\"Home\", \"Reset original view\", \"fa fa-home icon-home\", \"home\"], [\"Back\", \"Back to previous view\", \"fa fa-arrow-left icon-arrow-left\", \"back\"], [\"Forward\", \"Forward to next view\", \"fa fa-arrow-right icon-arrow-right\", \"forward\"], [\"\", \"\", \"\", \"\"], [\"Pan\", \"Pan axes with left mouse, zoom with right\", \"fa fa-arrows icon-move\", \"pan\"], [\"Zoom\", \"Zoom to rectangle\", \"fa fa-square-o icon-check-empty\", \"zoom\"], [\"\", \"\", \"\", \"\"], [\"Download\", \"Download plot\", \"fa fa-floppy-o icon-save\", \"download\"]];\n",
       "\n",
       "mpl.extensions = [\"eps\", \"pdf\", \"png\", \"ps\", \"raw\", \"svg\"];\n",
       "\n",
       "mpl.default_extension = \"png\";var comm_websocket_adapter = function(comm) {\n",
       "    // Create a \"websocket\"-like object which calls the given IPython comm\n",
       "    // object with the appropriate methods. Currently this is a non binary\n",
       "    // socket, so there is still some room for performance tuning.\n",
       "    var ws = {};\n",
       "\n",
       "    ws.close = function() {\n",
       "        comm.close()\n",
       "    };\n",
       "    ws.send = function(m) {\n",
       "        //console.log('sending', m);\n",
       "        comm.send(m);\n",
       "    };\n",
       "    // Register the callback with on_msg.\n",
       "    comm.on_msg(function(msg) {\n",
       "        //console.log('receiving', msg['content']['data'], msg);\n",
       "        // Pass the mpl event to the overridden (by mpl) onmessage function.\n",
       "        ws.onmessage(msg['content']['data'])\n",
       "    });\n",
       "    return ws;\n",
       "}\n",
       "\n",
       "mpl.mpl_figure_comm = function(comm, msg) {\n",
       "    // This is the function which gets called when the mpl process\n",
       "    // starts-up an IPython Comm through the \"matplotlib\" channel.\n",
       "\n",
       "    var id = msg.content.data.id;\n",
       "    // Get hold of the div created by the display call when the Comm\n",
       "    // socket was opened in Python.\n",
       "    var element = $(\"#\" + id);\n",
       "    var ws_proxy = comm_websocket_adapter(comm)\n",
       "\n",
       "    function ondownload(figure, format) {\n",
       "        window.open(figure.imageObj.src);\n",
       "    }\n",
       "\n",
       "    var fig = new mpl.figure(id, ws_proxy,\n",
       "                           ondownload,\n",
       "                           element.get(0));\n",
       "\n",
       "    // Call onopen now - mpl needs it, as it is assuming we've passed it a real\n",
       "    // web socket which is closed, not our websocket->open comm proxy.\n",
       "    ws_proxy.onopen();\n",
       "\n",
       "    fig.parent_element = element.get(0);\n",
       "    fig.cell_info = mpl.find_output_cell(\"<div id='\" + id + \"'></div>\");\n",
       "    if (!fig.cell_info) {\n",
       "        console.error(\"Failed to find cell for figure\", id, fig);\n",
       "        return;\n",
       "    }\n",
       "\n",
       "    var output_index = fig.cell_info[2]\n",
       "    var cell = fig.cell_info[0];\n",
       "\n",
       "};\n",
       "\n",
       "mpl.figure.prototype.handle_close = function(fig, msg) {\n",
       "    var width = fig.canvas.width/mpl.ratio\n",
       "    fig.root.unbind('remove')\n",
       "\n",
       "    // Update the output cell to use the data from the current canvas.\n",
       "    fig.push_to_output();\n",
       "    var dataURL = fig.canvas.toDataURL();\n",
       "    // Re-enable the keyboard manager in IPython - without this line, in FF,\n",
       "    // the notebook keyboard shortcuts fail.\n",
       "    IPython.keyboard_manager.enable()\n",
       "    $(fig.parent_element).html('<img src=\"' + dataURL + '\" width=\"' + width + '\">');\n",
       "    fig.close_ws(fig, msg);\n",
       "}\n",
       "\n",
       "mpl.figure.prototype.close_ws = function(fig, msg){\n",
       "    fig.send_message('closing', msg);\n",
       "    // fig.ws.close()\n",
       "}\n",
       "\n",
       "mpl.figure.prototype.push_to_output = function(remove_interactive) {\n",
       "    // Turn the data on the canvas into data in the output cell.\n",
       "    var width = this.canvas.width/mpl.ratio\n",
       "    var dataURL = this.canvas.toDataURL();\n",
       "    this.cell_info[1]['text/html'] = '<img src=\"' + dataURL + '\" width=\"' + width + '\">';\n",
       "}\n",
       "\n",
       "mpl.figure.prototype.updated_canvas_event = function() {\n",
       "    // Tell IPython that the notebook contents must change.\n",
       "    IPython.notebook.set_dirty(true);\n",
       "    this.send_message(\"ack\", {});\n",
       "    var fig = this;\n",
       "    // Wait a second, then push the new image to the DOM so\n",
       "    // that it is saved nicely (might be nice to debounce this).\n",
       "    setTimeout(function () { fig.push_to_output() }, 1000);\n",
       "}\n",
       "\n",
       "mpl.figure.prototype._init_toolbar = function() {\n",
       "    var fig = this;\n",
       "\n",
       "    var nav_element = $('<div/>')\n",
       "    nav_element.attr('style', 'width: 100%');\n",
       "    this.root.append(nav_element);\n",
       "\n",
       "    // Define a callback function for later on.\n",
       "    function toolbar_event(event) {\n",
       "        return fig.toolbar_button_onclick(event['data']);\n",
       "    }\n",
       "    function toolbar_mouse_event(event) {\n",
       "        return fig.toolbar_button_onmouseover(event['data']);\n",
       "    }\n",
       "\n",
       "    for(var toolbar_ind in mpl.toolbar_items){\n",
       "        var name = mpl.toolbar_items[toolbar_ind][0];\n",
       "        var tooltip = mpl.toolbar_items[toolbar_ind][1];\n",
       "        var image = mpl.toolbar_items[toolbar_ind][2];\n",
       "        var method_name = mpl.toolbar_items[toolbar_ind][3];\n",
       "\n",
       "        if (!name) { continue; };\n",
       "\n",
       "        var button = $('<button class=\"btn btn-default\" href=\"#\" title=\"' + name + '\"><i class=\"fa ' + image + ' fa-lg\"></i></button>');\n",
       "        button.click(method_name, toolbar_event);\n",
       "        button.mouseover(tooltip, toolbar_mouse_event);\n",
       "        nav_element.append(button);\n",
       "    }\n",
       "\n",
       "    // Add the status bar.\n",
       "    var status_bar = $('<span class=\"mpl-message\" style=\"text-align:right; float: right;\"/>');\n",
       "    nav_element.append(status_bar);\n",
       "    this.message = status_bar[0];\n",
       "\n",
       "    // Add the close button to the window.\n",
       "    var buttongrp = $('<div class=\"btn-group inline pull-right\"></div>');\n",
       "    var button = $('<button class=\"btn btn-mini btn-primary\" href=\"#\" title=\"Stop Interaction\"><i class=\"fa fa-power-off icon-remove icon-large\"></i></button>');\n",
       "    button.click(function (evt) { fig.handle_close(fig, {}); } );\n",
       "    button.mouseover('Stop Interaction', toolbar_mouse_event);\n",
       "    buttongrp.append(button);\n",
       "    var titlebar = this.root.find($('.ui-dialog-titlebar'));\n",
       "    titlebar.prepend(buttongrp);\n",
       "}\n",
       "\n",
       "mpl.figure.prototype._root_extra_style = function(el){\n",
       "    var fig = this\n",
       "    el.on(\"remove\", function(){\n",
       "\tfig.close_ws(fig, {});\n",
       "    });\n",
       "}\n",
       "\n",
       "mpl.figure.prototype._canvas_extra_style = function(el){\n",
       "    // this is important to make the div 'focusable\n",
       "    el.attr('tabindex', 0)\n",
       "    // reach out to IPython and tell the keyboard manager to turn it's self\n",
       "    // off when our div gets focus\n",
       "\n",
       "    // location in version 3\n",
       "    if (IPython.notebook.keyboard_manager) {\n",
       "        IPython.notebook.keyboard_manager.register_events(el);\n",
       "    }\n",
       "    else {\n",
       "        // location in version 2\n",
       "        IPython.keyboard_manager.register_events(el);\n",
       "    }\n",
       "\n",
       "}\n",
       "\n",
       "mpl.figure.prototype._key_event_extra = function(event, name) {\n",
       "    var manager = IPython.notebook.keyboard_manager;\n",
       "    if (!manager)\n",
       "        manager = IPython.keyboard_manager;\n",
       "\n",
       "    // Check for shift+enter\n",
       "    if (event.shiftKey && event.which == 13) {\n",
       "        this.canvas_div.blur();\n",
       "        event.shiftKey = false;\n",
       "        // Send a \"J\" for go to next cell\n",
       "        event.which = 74;\n",
       "        event.keyCode = 74;\n",
       "        manager.command_mode();\n",
       "        manager.handle_keydown(event);\n",
       "    }\n",
       "}\n",
       "\n",
       "mpl.figure.prototype.handle_save = function(fig, msg) {\n",
       "    fig.ondownload(fig, null);\n",
       "}\n",
       "\n",
       "\n",
       "mpl.find_output_cell = function(html_output) {\n",
       "    // Return the cell and output element which can be found *uniquely* in the notebook.\n",
       "    // Note - this is a bit hacky, but it is done because the \"notebook_saving.Notebook\"\n",
       "    // IPython event is triggered only after the cells have been serialised, which for\n",
       "    // our purposes (turning an active figure into a static one), is too late.\n",
       "    var cells = IPython.notebook.get_cells();\n",
       "    var ncells = cells.length;\n",
       "    for (var i=0; i<ncells; i++) {\n",
       "        var cell = cells[i];\n",
       "        if (cell.cell_type === 'code'){\n",
       "            for (var j=0; j<cell.output_area.outputs.length; j++) {\n",
       "                var data = cell.output_area.outputs[j];\n",
       "                if (data.data) {\n",
       "                    // IPython >= 3 moved mimebundle to data attribute of output\n",
       "                    data = data.data;\n",
       "                }\n",
       "                if (data['text/html'] == html_output) {\n",
       "                    return [cell, data, j];\n",
       "                }\n",
       "            }\n",
       "        }\n",
       "    }\n",
       "}\n",
       "\n",
       "// Register the function which deals with the matplotlib target/channel.\n",
       "// The kernel may be null if the page has been refreshed.\n",
       "if (IPython.notebook.kernel != null) {\n",
       "    IPython.notebook.kernel.comm_manager.register_target('matplotlib', mpl.mpl_figure_comm);\n",
       "}\n"
      ],
      "text/plain": [
       "<IPython.core.display.Javascript object>"
      ]
     },
     "metadata": {},
     "output_type": "display_data"
    },
    {
     "data": {
      "text/html": [
       "<img src=\"data:image/png;base64,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\" width=\"400\">"
      ],
      "text/plain": [
       "<IPython.core.display.HTML object>"
      ]
     },
     "metadata": {},
     "output_type": "display_data"
    },
    {
     "data": {
      "application/vnd.jupyter.widget-view+json": {
       "model_id": "505d643dc69249c982fad06850c03248",
       "version_major": 2,
       "version_minor": 0
      },
      "text/plain": [
       "VBox(children=(HBox(children=(Button(description='First', style=ButtonStyle()), Button(description='Prev', sty…"
      ]
     },
     "metadata": {},
     "output_type": "display_data"
    }
   ],
   "source": [
    "fig, axes = iter_subplots(1, 2, figsize=(4,2))\n",
    "axes[0].iter_imshow(binary, cmap='gray')\n",
    "axes[1].iter_imshow(brightfield, cmap='gray')\n",
    "fig.display()"
   ]
  },
  {
   "cell_type": "markdown",
   "metadata": {},
   "source": [
    "Resizing the stacks to 256x256 to preserve memory:"
   ]
  },
  {
   "cell_type": "code",
   "execution_count": 9,
   "metadata": {},
   "outputs": [
    {
     "data": {
      "text/plain": [
       "((200, 256, 256), (200, 256, 256))"
      ]
     },
     "execution_count": 9,
     "metadata": {},
     "output_type": "execute_result"
    }
   ],
   "source": [
    "binary_resized = resize_stack((binary > 0).astype(int), 0.5, img_type='binary')\n",
    "brightfield_resized = resize_stack(brightfield, 0.5)\n",
    "binary_resized.shape, binary_resized.shape"
   ]
  },
  {
   "cell_type": "markdown",
   "metadata": {},
   "source": [
    "The ``DefualtImgSequence`` used to augment the data and to normalize the images. Then the sequence is split into the training and validation datasets."
   ]
  },
  {
   "cell_type": "code",
   "execution_count": 10,
   "metadata": {},
   "outputs": [
    {
     "name": "stdout",
     "output_type": "stream",
     "text": [
      "Warning, index out of bounds, set to last element\n"
     ]
    },
    {
     "data": {
      "text/plain": [
       "(25, 175)"
      ]
     },
     "execution_count": 10,
     "metadata": {},
     "output_type": "execute_result"
    }
   ],
   "source": [
    "isq = DefaultImgSequence(brightfield_resized, binary_resized)\n",
    "vsq, tsq = isq.val_split(1/8., random=True)\n",
    "vsq.shuffle(), tsq.shuffle()\n",
    "len(vsq), len(tsq)"
   ]
  },
  {
   "cell_type": "code",
   "execution_count": 16,
   "metadata": {},
   "outputs": [],
   "source": [
    "os.mkdir(os.path.join(data_dir, 'wts')) if not os.path.exists(os.path.join(data_dir, 'wts')) else None\n",
    "os.mkdir(os.path.join(data_dir, 'logs')) if not os.path.exists(os.path.join(data_dir, 'logs')) else None"
   ]
  },
  {
   "cell_type": "markdown",
   "metadata": {},
   "source": [
    "Finally, we train the model. The modelcheckpoint is used to save the weights after each epoch and the tensorboard callback generate logs file which can be used to evauluate training performance. "
   ]
  },
  {
   "cell_type": "code",
   "execution_count": null,
   "metadata": {},
   "outputs": [],
   "source": [
    "tf.global_variables_initializer()\n",
    "model = get_unet_256(input_shape=(256, 256, 1))\n",
    "cp = ModelCheckpoint(os.path.join(data_dir, 'wts', 'wts_bf_{epoch:02d}-{val_loss:.6f}.h5'), monitor='val_loss', \n",
    "                     save_weights_only=True, verbose=1, mode='min')\n",
    "tb = TensorBoard(log_dir=os.path.join(data_dir, 'logs'))\n",
    "model.fit_generator(tsq, steps_per_epoch=len(tsq), epochs=50, validation_data=vsq, callbacks=[cp, tb])"
   ]
  }
 ],
 "metadata": {
  "kernelspec": {
   "display_name": "Python [conda env:tf_new]",
   "language": "python",
   "name": "conda-env-tf_new-py"
  },
  "language_info": {
   "codemirror_mode": {
    "name": "ipython",
    "version": 3
   },
   "file_extension": ".py",
   "mimetype": "text/x-python",
   "name": "python",
   "nbconvert_exporter": "python",
   "pygments_lexer": "ipython3",
   "version": "3.6.8"
  },
  "widgets": {
   "application/vnd.jupyter.widget-state+json": {
    "state": {
     "037f13b439e04e5289b423162f5a2766": {
      "model_module": "@jupyter-widgets/controls",
      "model_module_version": "1.4.0",
      "model_name": "ButtonStyleModel",
      "state": {}
     },
     "045e653b551a4cbab25b81fbd6f38359": {
      "model_module": "@jupyter-widgets/base",
      "model_module_version": "1.1.0",
      "model_name": "LayoutModel",
      "state": {}
     },
     "06a1ecf1036d47569e923387218ed05b": {
      "model_module": "@jupyter-widgets/controls",
      "model_module_version": "1.4.0",
      "model_name": "BoundedIntTextModel",
      "state": {
       "layout": "IPY_MODEL_5490661dae9546cca3e4abb47820c67e",
       "max": 199,
       "style": "IPY_MODEL_958599ebedb648b38941241c94687c99",
       "value": 8
      }
     },
     "0b822111150044558d3a0d708191aeb3": {
      "model_module": "@jupyter-widgets/controls",
      "model_module_version": "1.4.0",
      "model_name": "VBoxModel",
      "state": {
       "children": [
        "IPY_MODEL_1343baa161ef424bb53bc935a233895e",
        "IPY_MODEL_43287e07b38a4957b1eb5e88bd8fecdd"
       ],
       "layout": "IPY_MODEL_c55b5a109e6b46609c0cc4f9157bad1d"
      }
     },
     "10f71b24a59f488ea772db52994156f7": {
      "model_module": "@jupyter-widgets/controls",
      "model_module_version": "1.4.0",
      "model_name": "VBoxModel",
      "state": {
       "children": [
        "IPY_MODEL_8c3f72e2f70a44a194934e14500c2ccf",
        "IPY_MODEL_be10d978dc2c4efd84ffb2950fb56556"
       ],
       "layout": "IPY_MODEL_43eb45a3c9a3411387ae48b52ee257f7"
      }
     },
     "1343baa161ef424bb53bc935a233895e": {
      "model_module": "@jupyter-widgets/controls",
      "model_module_version": "1.4.0",
      "model_name": "HBoxModel",
      "state": {
       "children": [
        "IPY_MODEL_801c3be233644f0aa27401cb202e6f4f",
        "IPY_MODEL_af83765a72e941ebba05aa742b37ff34",
        "IPY_MODEL_51808131fd9248d5bc71cf4e30e55e21",
        "IPY_MODEL_ebf49735ebbe4d219ce2844aa4cc40ff",
        "IPY_MODEL_3918fbbc993e42398cfce0cee8227ccb",
        "IPY_MODEL_373f486302e843e8b726e578b7381e98"
       ],
       "layout": "IPY_MODEL_13df1bd37ceb4386a2e6fc6b80a37aef"
      }
     },
     "13df1bd37ceb4386a2e6fc6b80a37aef": {
      "model_module": "@jupyter-widgets/base",
      "model_module_version": "1.1.0",
      "model_name": "LayoutModel",
      "state": {}
     },
     "175f4700261044c09b51b5927455fb01": {
      "model_module": "@jupyter-widgets/controls",
      "model_module_version": "1.4.0",
      "model_name": "ButtonStyleModel",
      "state": {}
     },
     "183955f468974d93af417e2fe579834a": {
      "model_module": "@jupyter-widgets/controls",
      "model_module_version": "1.4.0",
      "model_name": "HBoxModel",
      "state": {
       "children": [
        "IPY_MODEL_542f21787b5b4f308b969eaa7f03a37a",
        "IPY_MODEL_2fb84697f5974e01ae2010d8da71e6a1",
        "IPY_MODEL_f5b3aa506e3a4120a1060fa1aaebba68",
        "IPY_MODEL_1c9b7d973df94d5dacdc69ce42340c51",
        "IPY_MODEL_d9f7905733e74ad3b3a94a19e2f382cb",
        "IPY_MODEL_192990a45cca44b5a1edb4898ce957e8"
       ],
       "layout": "IPY_MODEL_eea78d2346e440a8ad8062d2ada086b1"
      }
     },
     "192990a45cca44b5a1edb4898ce957e8": {
      "model_module": "@jupyter-widgets/controls",
      "model_module_version": "1.4.0",
      "model_name": "ButtonModel",
      "state": {
       "description": "Random",
       "layout": "IPY_MODEL_fa143ca9c966455cb16d4ac21282d0cb",
       "style": "IPY_MODEL_23324fd34f21440dab57636e088f6399"
      }
     },
     "1a003e3ffae54fc0b16f87a97122c8e2": {
      "model_module": "@jupyter-widgets/controls",
      "model_module_version": "1.4.0",
      "model_name": "ButtonModel",
      "state": {
       "description": "Next",
       "layout": "IPY_MODEL_f1449066604f4a759be7ba0071eab184",
       "style": "IPY_MODEL_43d6b8cd4cb641a8a744ceaa5175aa43"
      }
     },
     "1be62685a23e490cba6768c1d0ef40d0": {
      "model_module": "@jupyter-widgets/base",
      "model_module_version": "1.1.0",
      "model_name": "LayoutModel",
      "state": {}
     },
     "1c9b7d973df94d5dacdc69ce42340c51": {
      "model_module": "@jupyter-widgets/controls",
      "model_module_version": "1.4.0",
      "model_name": "ButtonModel",
      "state": {
       "description": "Next",
       "layout": "IPY_MODEL_aca50c60c8dd4968a0d26dcbafaab351",
       "style": "IPY_MODEL_28c6636acca14f66993a5f01c99a91be"
      }
     },
     "2171f6ab69b24c85b27f6415108f9473": {
      "model_module": "@jupyter-widgets/base",
      "model_module_version": "1.1.0",
      "model_name": "LayoutModel",
      "state": {}
     },
     "23324fd34f21440dab57636e088f6399": {
      "model_module": "@jupyter-widgets/controls",
      "model_module_version": "1.4.0",
      "model_name": "ButtonStyleModel",
      "state": {}
     },
     "2566240bd2224676b31517f558214ec8": {
      "model_module": "@jupyter-widgets/controls",
      "model_module_version": "1.4.0",
      "model_name": "ButtonStyleModel",
      "state": {}
     },
     "259df73f57674135aaf9e09b924c2f58": {
      "model_module": "@jupyter-widgets/controls",
      "model_module_version": "1.4.0",
      "model_name": "ButtonStyleModel",
      "state": {}
     },
     "262590f3b378419fbc8899a68ba15dc5": {
      "model_module": "@jupyter-widgets/controls",
      "model_module_version": "1.4.0",
      "model_name": "ButtonStyleModel",
      "state": {}
     },
     "28c6636acca14f66993a5f01c99a91be": {
      "model_module": "@jupyter-widgets/controls",
      "model_module_version": "1.4.0",
      "model_name": "ButtonStyleModel",
      "state": {}
     },
     "29c051871f634a4da47deb0192d077bd": {
      "model_module": "@jupyter-widgets/base",
      "model_module_version": "1.1.0",
      "model_name": "LayoutModel",
      "state": {}
     },
     "2c12c08639324512beb12786a1b657e6": {
      "model_module": "@jupyter-widgets/controls",
      "model_module_version": "1.4.0",
      "model_name": "VBoxModel",
      "state": {
       "children": [
        "IPY_MODEL_183955f468974d93af417e2fe579834a",
        "IPY_MODEL_d8b2a0a4e2064e609aa66c98c53f7da0"
       ],
       "layout": "IPY_MODEL_85634cedc16a4a3b9a4892b7b430146a"
      }
     },
     "2c6091122589480eabcc80b2ea7ddf59": {
      "model_module": "@jupyter-widgets/controls",
      "model_module_version": "1.4.0",
      "model_name": "ButtonModel",
      "state": {
       "description": "Next",
       "layout": "IPY_MODEL_94e85575d1b64e65aeca5c43983611fa",
       "style": "IPY_MODEL_037f13b439e04e5289b423162f5a2766"
      }
     },
     "2e3a9b5772f145b68b5ddd2632d912eb": {
      "model_module": "@jupyter-widgets/base",
      "model_module_version": "1.1.0",
      "model_name": "LayoutModel",
      "state": {}
     },
     "2fb84697f5974e01ae2010d8da71e6a1": {
      "model_module": "@jupyter-widgets/controls",
      "model_module_version": "1.4.0",
      "model_name": "ButtonModel",
      "state": {
       "description": "Prev",
       "layout": "IPY_MODEL_5006643130474420b1cca1050e748a5a",
       "style": "IPY_MODEL_6f86431ce53a4490ac973f621f8ec664"
      }
     },
     "3079cb9594104ababf39d9be7ccf68da": {
      "model_module": "@jupyter-widgets/base",
      "model_module_version": "1.1.0",
      "model_name": "LayoutModel",
      "state": {
       "width": "99%"
      }
     },
     "319e200a84f741e38ce0b58616684f1c": {
      "model_module": "@jupyter-widgets/controls",
      "model_module_version": "1.4.0",
      "model_name": "LinkModel",
      "state": {
       "source": [
        "IPY_MODEL_a78d93eeb1004c3da33d2590ea31eddd",
        "value"
       ],
       "target": [
        "IPY_MODEL_be10d978dc2c4efd84ffb2950fb56556",
        "value"
       ]
      }
     },
     "323b5490ad8c4321a191b3e8b5aa6cfb": {
      "model_module": "@jupyter-widgets/controls",
      "model_module_version": "1.4.0",
      "model_name": "ButtonModel",
      "state": {
       "description": "First",
       "layout": "IPY_MODEL_458ddd4ed2f547b8b01c402a58158edb",
       "style": "IPY_MODEL_41512e760b3d43cb8afc0fc19ab9a4bd"
      }
     },
     "35523024c5bd46139676488692916922": {
      "model_module": "@jupyter-widgets/controls",
      "model_module_version": "1.4.0",
      "model_name": "ButtonModel",
      "state": {
       "description": "First",
       "layout": "IPY_MODEL_9588fd0e22b64500b6f370adcc4f17eb",
       "style": "IPY_MODEL_259df73f57674135aaf9e09b924c2f58"
      }
     },
     "3608f40c974f4df89d5152cd920733bd": {
      "model_module": "@jupyter-widgets/controls",
      "model_module_version": "1.4.0",
      "model_name": "ButtonStyleModel",
      "state": {}
     },
     "373f486302e843e8b726e578b7381e98": {
      "model_module": "@jupyter-widgets/controls",
      "model_module_version": "1.4.0",
      "model_name": "ButtonModel",
      "state": {
       "description": "Random",
       "layout": "IPY_MODEL_95933f033bf045dd93a8fdb23c6e4725",
       "style": "IPY_MODEL_eb791252c2f349ec8c13bd32f3e341fb"
      }
     },
     "3918fbbc993e42398cfce0cee8227ccb": {
      "model_module": "@jupyter-widgets/controls",
      "model_module_version": "1.4.0",
      "model_name": "ButtonModel",
      "state": {
       "description": "Last",
       "layout": "IPY_MODEL_85d70d30f9b2446792ab23a81399c83b",
       "style": "IPY_MODEL_a5c7a7c05318498b86267369564291d3"
      }
     },
     "3b30e1511e6b4e9fb09118363043d615": {
      "model_module": "@jupyter-widgets/base",
      "model_module_version": "1.1.0",
      "model_name": "LayoutModel",
      "state": {}
     },
     "3e5ae55b6f98432b9dfde052b08e9756": {
      "model_module": "@jupyter-widgets/base",
      "model_module_version": "1.1.0",
      "model_name": "LayoutModel",
      "state": {}
     },
     "3eb04784e0cd47e2bc82790ebdf9c5af": {
      "model_module": "@jupyter-widgets/controls",
      "model_module_version": "1.4.0",
      "model_name": "BoundedIntTextModel",
      "state": {
       "layout": "IPY_MODEL_e23988166f8e4cd38553e23310153bed",
       "max": 199,
       "style": "IPY_MODEL_580b22bddabe4f1c8bf73619f83e7506",
       "value": 25
      }
     },
     "4126fdcabf384de89c62d9916414ad8b": {
      "model_module": "@jupyter-widgets/controls",
      "model_module_version": "1.4.0",
      "model_name": "DescriptionStyleModel",
      "state": {
       "description_width": ""
      }
     },
     "41512e760b3d43cb8afc0fc19ab9a4bd": {
      "model_module": "@jupyter-widgets/controls",
      "model_module_version": "1.4.0",
      "model_name": "ButtonStyleModel",
      "state": {}
     },
     "43287e07b38a4957b1eb5e88bd8fecdd": {
      "model_module": "@jupyter-widgets/controls",
      "model_module_version": "1.4.0",
      "model_name": "IntSliderModel",
      "state": {
       "layout": "IPY_MODEL_90192e2dde2b41c7a6edd975c58ab7dd",
       "max": 199,
       "readout": false,
       "style": "IPY_MODEL_b51d36b103ac4a949ffb936df425f33a"
      }
     },
     "43d6b8cd4cb641a8a744ceaa5175aa43": {
      "model_module": "@jupyter-widgets/controls",
      "model_module_version": "1.4.0",
      "model_name": "ButtonStyleModel",
      "state": {}
     },
     "43eb45a3c9a3411387ae48b52ee257f7": {
      "model_module": "@jupyter-widgets/base",
      "model_module_version": "1.1.0",
      "model_name": "LayoutModel",
      "state": {}
     },
     "44e4299bf61d436ebbf303d9fc707fe4": {
      "model_module": "@jupyter-widgets/base",
      "model_module_version": "1.1.0",
      "model_name": "LayoutModel",
      "state": {
       "width": "99%"
      }
     },
     "458ddd4ed2f547b8b01c402a58158edb": {
      "model_module": "@jupyter-widgets/base",
      "model_module_version": "1.1.0",
      "model_name": "LayoutModel",
      "state": {}
     },
     "46c4f796f99f4320a8e0a5bed04229b3": {
      "model_module": "@jupyter-widgets/controls",
      "model_module_version": "1.4.0",
      "model_name": "ButtonStyleModel",
      "state": {}
     },
     "4833c6c0e9154cd78de1e32c90311867": {
      "model_module": "@jupyter-widgets/controls",
      "model_module_version": "1.4.0",
      "model_name": "ButtonStyleModel",
      "state": {}
     },
     "4b461949a2c34b12bab06e9b6b367c4a": {
      "model_module": "@jupyter-widgets/base",
      "model_module_version": "1.1.0",
      "model_name": "LayoutModel",
      "state": {}
     },
     "4b8c57b0599e498bbf12c32c455e5f2c": {
      "model_module": "@jupyter-widgets/base",
      "model_module_version": "1.1.0",
      "model_name": "LayoutModel",
      "state": {}
     },
     "4babfb0cd6244bfca49f05185fbf9f6a": {
      "model_module": "@jupyter-widgets/base",
      "model_module_version": "1.1.0",
      "model_name": "LayoutModel",
      "state": {}
     },
     "4f5ba8f55c8544f5aac0147eafa15b7f": {
      "model_module": "@jupyter-widgets/controls",
      "model_module_version": "1.4.0",
      "model_name": "SliderStyleModel",
      "state": {
       "description_width": ""
      }
     },
     "5006643130474420b1cca1050e748a5a": {
      "model_module": "@jupyter-widgets/base",
      "model_module_version": "1.1.0",
      "model_name": "LayoutModel",
      "state": {}
     },
     "50a1ed01748b42848d653baaa0867e9b": {
      "model_module": "@jupyter-widgets/base",
      "model_module_version": "1.1.0",
      "model_name": "LayoutModel",
      "state": {}
     },
     "51808131fd9248d5bc71cf4e30e55e21": {
      "model_module": "@jupyter-widgets/controls",
      "model_module_version": "1.4.0",
      "model_name": "BoundedIntTextModel",
      "state": {
       "layout": "IPY_MODEL_4babfb0cd6244bfca49f05185fbf9f6a",
       "max": 199,
       "style": "IPY_MODEL_57d03601aba64a9db300b4e5ab91fd09"
      }
     },
     "54004e114fa7465e83f24393a7d01e86": {
      "model_module": "@jupyter-widgets/controls",
      "model_module_version": "1.4.0",
      "model_name": "DescriptionStyleModel",
      "state": {
       "description_width": ""
      }
     },
     "542f21787b5b4f308b969eaa7f03a37a": {
      "model_module": "@jupyter-widgets/controls",
      "model_module_version": "1.4.0",
      "model_name": "ButtonModel",
      "state": {
       "description": "First",
       "layout": "IPY_MODEL_7f9d748b331f46f9a0576a27bd37b8a2",
       "style": "IPY_MODEL_d34de7ab70c643818bc9e288035e7a28"
      }
     },
     "5490661dae9546cca3e4abb47820c67e": {
      "model_module": "@jupyter-widgets/base",
      "model_module_version": "1.1.0",
      "model_name": "LayoutModel",
      "state": {}
     },
     "57852244bcdb4f02bbda8dabce91d6c1": {
      "model_module": "@jupyter-widgets/controls",
      "model_module_version": "1.4.0",
      "model_name": "ButtonModel",
      "state": {
       "description": "Random",
       "layout": "IPY_MODEL_89d7574fb6ad4f04881ddb7556451d22",
       "style": "IPY_MODEL_2566240bd2224676b31517f558214ec8"
      }
     },
     "57d03601aba64a9db300b4e5ab91fd09": {
      "model_module": "@jupyter-widgets/controls",
      "model_module_version": "1.4.0",
      "model_name": "DescriptionStyleModel",
      "state": {
       "description_width": ""
      }
     },
     "580b22bddabe4f1c8bf73619f83e7506": {
      "model_module": "@jupyter-widgets/controls",
      "model_module_version": "1.4.0",
      "model_name": "DescriptionStyleModel",
      "state": {
       "description_width": ""
      }
     },
     "58c7f20d6598403fbd63b64c645e5424": {
      "model_module": "@jupyter-widgets/controls",
      "model_module_version": "1.4.0",
      "model_name": "ButtonModel",
      "state": {
       "description": "Random",
       "layout": "IPY_MODEL_045e653b551a4cbab25b81fbd6f38359",
       "style": "IPY_MODEL_62d697eadb4e4fa18c793c1d22a56e1b"
      }
     },
     "5e233b73781b4717acd2d74070a3c2d1": {
      "model_module": "@jupyter-widgets/base",
      "model_module_version": "1.1.0",
      "model_name": "LayoutModel",
      "state": {}
     },
     "5ec34f0297a843eebe6506e94599020b": {
      "model_module": "@jupyter-widgets/controls",
      "model_module_version": "1.4.0",
      "model_name": "ButtonModel",
      "state": {
       "description": "Prev",
       "layout": "IPY_MODEL_c871fe656ab5499c816b06f788e1e886",
       "style": "IPY_MODEL_87a435cee02441428fb56d6a6494c34a"
      }
     },
     "61a46a13f85148acb34ac4a0faa2553e": {
      "model_module": "@jupyter-widgets/base",
      "model_module_version": "1.1.0",
      "model_name": "LayoutModel",
      "state": {
       "width": "99%"
      }
     },
     "62d697eadb4e4fa18c793c1d22a56e1b": {
      "model_module": "@jupyter-widgets/controls",
      "model_module_version": "1.4.0",
      "model_name": "ButtonStyleModel",
      "state": {}
     },
     "63064df6735e4189a88c9df9d679d158": {
      "model_module": "@jupyter-widgets/base",
      "model_module_version": "1.1.0",
      "model_name": "LayoutModel",
      "state": {}
     },
     "63e298381668492c910cc825d5196eb3": {
      "model_module": "@jupyter-widgets/controls",
      "model_module_version": "1.4.0",
      "model_name": "ButtonStyleModel",
      "state": {}
     },
     "6971fdd46de34b428d79c1159e2c1a44": {
      "model_module": "@jupyter-widgets/controls",
      "model_module_version": "1.4.0",
      "model_name": "HBoxModel",
      "state": {
       "children": [
        "IPY_MODEL_323b5490ad8c4321a191b3e8b5aa6cfb",
        "IPY_MODEL_ad366d673cd0459688c683455e23fe0f",
        "IPY_MODEL_06a1ecf1036d47569e923387218ed05b",
        "IPY_MODEL_2c6091122589480eabcc80b2ea7ddf59",
        "IPY_MODEL_97957510a43d464883f96e5b1a4c5083",
        "IPY_MODEL_58c7f20d6598403fbd63b64c645e5424"
       ],
       "layout": "IPY_MODEL_c9e0075e863c492f9e2032b2caac1f0e"
      }
     },
     "6e5f207dd88e432db8c3d9f9299903ae": {
      "model_module": "@jupyter-widgets/controls",
      "model_module_version": "1.4.0",
      "model_name": "VBoxModel",
      "state": {
       "children": [
        "IPY_MODEL_b49a8289b0e74943bd64fc2b22307cb4",
        "IPY_MODEL_ed699d6bc2b44067a3639874b65ecd21"
       ],
       "layout": "IPY_MODEL_63064df6735e4189a88c9df9d679d158"
      }
     },
     "6f86431ce53a4490ac973f621f8ec664": {
      "model_module": "@jupyter-widgets/controls",
      "model_module_version": "1.4.0",
      "model_name": "ButtonStyleModel",
      "state": {}
     },
     "72e399b33b3d444d856500a71b7cea56": {
      "model_module": "@jupyter-widgets/controls",
      "model_module_version": "1.4.0",
      "model_name": "SliderStyleModel",
      "state": {
       "description_width": ""
      }
     },
     "76ee8fe9e2c2407a8ee2451329361713": {
      "model_module": "@jupyter-widgets/controls",
      "model_module_version": "1.4.0",
      "model_name": "ButtonStyleModel",
      "state": {}
     },
     "7777d4625fa44bca8e7ce54697590ae9": {
      "model_module": "@jupyter-widgets/controls",
      "model_module_version": "1.4.0",
      "model_name": "ButtonModel",
      "state": {
       "description": "Next",
       "layout": "IPY_MODEL_bec9d5d2c85144dbbbf7c0759c448073",
       "style": "IPY_MODEL_262590f3b378419fbc8899a68ba15dc5"
      }
     },
     "7f9d748b331f46f9a0576a27bd37b8a2": {
      "model_module": "@jupyter-widgets/base",
      "model_module_version": "1.1.0",
      "model_name": "LayoutModel",
      "state": {}
     },
     "801c3be233644f0aa27401cb202e6f4f": {
      "model_module": "@jupyter-widgets/controls",
      "model_module_version": "1.4.0",
      "model_name": "ButtonModel",
      "state": {
       "description": "First",
       "layout": "IPY_MODEL_4b461949a2c34b12bab06e9b6b367c4a",
       "style": "IPY_MODEL_a526c71150394d38a80b033700ab82cc"
      }
     },
     "81269a8ac15f4249b77ede67e51e1f36": {
      "model_module": "@jupyter-widgets/controls",
      "model_module_version": "1.4.0",
      "model_name": "VBoxModel",
      "state": {
       "children": [
        "IPY_MODEL_6971fdd46de34b428d79c1159e2c1a44",
        "IPY_MODEL_dd6ddbbd5f0341d2b38a13bc3d9afcd3"
       ],
       "layout": "IPY_MODEL_1be62685a23e490cba6768c1d0ef40d0"
      }
     },
     "84fae21583914827bdee6c77eb7f391a": {
      "model_module": "@jupyter-widgets/controls",
      "model_module_version": "1.4.0",
      "model_name": "ButtonModel",
      "state": {
       "description": "Prev",
       "layout": "IPY_MODEL_f5b156d415d743458e0f73d1f1834fa1",
       "style": "IPY_MODEL_46c4f796f99f4320a8e0a5bed04229b3"
      }
     },
     "85634cedc16a4a3b9a4892b7b430146a": {
      "model_module": "@jupyter-widgets/base",
      "model_module_version": "1.1.0",
      "model_name": "LayoutModel",
      "state": {}
     },
     "85d70d30f9b2446792ab23a81399c83b": {
      "model_module": "@jupyter-widgets/base",
      "model_module_version": "1.1.0",
      "model_name": "LayoutModel",
      "state": {}
     },
     "87a435cee02441428fb56d6a6494c34a": {
      "model_module": "@jupyter-widgets/controls",
      "model_module_version": "1.4.0",
      "model_name": "ButtonStyleModel",
      "state": {}
     },
     "89d7574fb6ad4f04881ddb7556451d22": {
      "model_module": "@jupyter-widgets/base",
      "model_module_version": "1.1.0",
      "model_name": "LayoutModel",
      "state": {}
     },
     "8af0f82949c94bad8b34604598490965": {
      "model_module": "@jupyter-widgets/base",
      "model_module_version": "1.1.0",
      "model_name": "LayoutModel",
      "state": {}
     },
     "8c3f72e2f70a44a194934e14500c2ccf": {
      "model_module": "@jupyter-widgets/controls",
      "model_module_version": "1.4.0",
      "model_name": "HBoxModel",
      "state": {
       "children": [
        "IPY_MODEL_c12ca685171a48d49a245be243eed3dd",
        "IPY_MODEL_84fae21583914827bdee6c77eb7f391a",
        "IPY_MODEL_a78d93eeb1004c3da33d2590ea31eddd",
        "IPY_MODEL_1a003e3ffae54fc0b16f87a97122c8e2",
        "IPY_MODEL_e076cc176df84418999289803cba4bfc",
        "IPY_MODEL_e296284325cc466d97bf6fabda999ce2"
       ],
       "layout": "IPY_MODEL_2171f6ab69b24c85b27f6415108f9473"
      }
     },
     "8c81c1fac4ae4f3f9973ae67777bdac5": {
      "model_module": "@jupyter-widgets/controls",
      "model_module_version": "1.4.0",
      "model_name": "ButtonStyleModel",
      "state": {}
     },
     "90192e2dde2b41c7a6edd975c58ab7dd": {
      "model_module": "@jupyter-widgets/base",
      "model_module_version": "1.1.0",
      "model_name": "LayoutModel",
      "state": {
       "width": "99%"
      }
     },
     "91cb06a85dd84a0daaad982fc21a88ee": {
      "model_module": "@jupyter-widgets/controls",
      "model_module_version": "1.4.0",
      "model_name": "SliderStyleModel",
      "state": {
       "description_width": ""
      }
     },
     "94e85575d1b64e65aeca5c43983611fa": {
      "model_module": "@jupyter-widgets/base",
      "model_module_version": "1.1.0",
      "model_name": "LayoutModel",
      "state": {}
     },
     "958599ebedb648b38941241c94687c99": {
      "model_module": "@jupyter-widgets/controls",
      "model_module_version": "1.4.0",
      "model_name": "DescriptionStyleModel",
      "state": {
       "description_width": ""
      }
     },
     "9588fd0e22b64500b6f370adcc4f17eb": {
      "model_module": "@jupyter-widgets/base",
      "model_module_version": "1.1.0",
      "model_name": "LayoutModel",
      "state": {}
     },
     "95933f033bf045dd93a8fdb23c6e4725": {
      "model_module": "@jupyter-widgets/base",
      "model_module_version": "1.1.0",
      "model_name": "LayoutModel",
      "state": {}
     },
     "97957510a43d464883f96e5b1a4c5083": {
      "model_module": "@jupyter-widgets/controls",
      "model_module_version": "1.4.0",
      "model_name": "ButtonModel",
      "state": {
       "description": "Last",
       "layout": "IPY_MODEL_fd9cec0d20514c3394004234723659c9",
       "style": "IPY_MODEL_8c81c1fac4ae4f3f9973ae67777bdac5"
      }
     },
     "9b1145f845f74850937c306e6c2fd6fe": {
      "model_module": "@jupyter-widgets/controls",
      "model_module_version": "1.4.0",
      "model_name": "LinkModel",
      "state": {
       "source": [
        "IPY_MODEL_51808131fd9248d5bc71cf4e30e55e21",
        "value"
       ],
       "target": [
        "IPY_MODEL_43287e07b38a4957b1eb5e88bd8fecdd",
        "value"
       ]
      }
     },
     "a1b686a4a42b4caa87f60e26d3801d77": {
      "model_module": "@jupyter-widgets/controls",
      "model_module_version": "1.4.0",
      "model_name": "ButtonStyleModel",
      "state": {}
     },
     "a526c71150394d38a80b033700ab82cc": {
      "model_module": "@jupyter-widgets/controls",
      "model_module_version": "1.4.0",
      "model_name": "ButtonStyleModel",
      "state": {}
     },
     "a5c7a7c05318498b86267369564291d3": {
      "model_module": "@jupyter-widgets/controls",
      "model_module_version": "1.4.0",
      "model_name": "ButtonStyleModel",
      "state": {}
     },
     "a78d93eeb1004c3da33d2590ea31eddd": {
      "model_module": "@jupyter-widgets/controls",
      "model_module_version": "1.4.0",
      "model_name": "BoundedIntTextModel",
      "state": {
       "layout": "IPY_MODEL_8af0f82949c94bad8b34604598490965",
       "max": 99,
       "style": "IPY_MODEL_54004e114fa7465e83f24393a7d01e86",
       "value": 1
      }
     },
     "ac495540d3154089a8b3519137c01266": {
      "model_module": "@jupyter-widgets/base",
      "model_module_version": "1.1.0",
      "model_name": "LayoutModel",
      "state": {}
     },
     "aca50c60c8dd4968a0d26dcbafaab351": {
      "model_module": "@jupyter-widgets/base",
      "model_module_version": "1.1.0",
      "model_name": "LayoutModel",
      "state": {}
     },
     "ad366d673cd0459688c683455e23fe0f": {
      "model_module": "@jupyter-widgets/controls",
      "model_module_version": "1.4.0",
      "model_name": "ButtonModel",
      "state": {
       "description": "Prev",
       "layout": "IPY_MODEL_3e5ae55b6f98432b9dfde052b08e9756",
       "style": "IPY_MODEL_3608f40c974f4df89d5152cd920733bd"
      }
     },
     "af83765a72e941ebba05aa742b37ff34": {
      "model_module": "@jupyter-widgets/controls",
      "model_module_version": "1.4.0",
      "model_name": "ButtonModel",
      "state": {
       "description": "Prev",
       "layout": "IPY_MODEL_50a1ed01748b42848d653baaa0867e9b",
       "style": "IPY_MODEL_76ee8fe9e2c2407a8ee2451329361713"
      }
     },
     "b49a8289b0e74943bd64fc2b22307cb4": {
      "model_module": "@jupyter-widgets/controls",
      "model_module_version": "1.4.0",
      "model_name": "HBoxModel",
      "state": {
       "children": [
        "IPY_MODEL_35523024c5bd46139676488692916922",
        "IPY_MODEL_5ec34f0297a843eebe6506e94599020b",
        "IPY_MODEL_3eb04784e0cd47e2bc82790ebdf9c5af",
        "IPY_MODEL_7777d4625fa44bca8e7ce54697590ae9",
        "IPY_MODEL_e8ba80ff25cf4fe390b41c2de22f619b",
        "IPY_MODEL_57852244bcdb4f02bbda8dabce91d6c1"
       ],
       "layout": "IPY_MODEL_5e233b73781b4717acd2d74070a3c2d1"
      }
     },
     "b51d36b103ac4a949ffb936df425f33a": {
      "model_module": "@jupyter-widgets/controls",
      "model_module_version": "1.4.0",
      "model_name": "SliderStyleModel",
      "state": {
       "description_width": ""
      }
     },
     "be10d978dc2c4efd84ffb2950fb56556": {
      "model_module": "@jupyter-widgets/controls",
      "model_module_version": "1.4.0",
      "model_name": "IntSliderModel",
      "state": {
       "layout": "IPY_MODEL_c5de5cf1024f49789f0cbdde85d502d4",
       "max": 99,
       "readout": false,
       "style": "IPY_MODEL_fb06b556aa494cef93d873b40c0b7d77",
       "value": 1
      }
     },
     "bec9d5d2c85144dbbbf7c0759c448073": {
      "model_module": "@jupyter-widgets/base",
      "model_module_version": "1.1.0",
      "model_name": "LayoutModel",
      "state": {}
     },
     "c12ca685171a48d49a245be243eed3dd": {
      "model_module": "@jupyter-widgets/controls",
      "model_module_version": "1.4.0",
      "model_name": "ButtonModel",
      "state": {
       "description": "First",
       "layout": "IPY_MODEL_c62909d3c64847a1af9adeeefb7cbed7",
       "style": "IPY_MODEL_63e298381668492c910cc825d5196eb3"
      }
     },
     "c25ab7cf184e4e4e83783baf9fbc4c86": {
      "model_module": "@jupyter-widgets/controls",
      "model_module_version": "1.4.0",
      "model_name": "LinkModel",
      "state": {
       "source": [
        "IPY_MODEL_f5b3aa506e3a4120a1060fa1aaebba68",
        "value"
       ],
       "target": [
        "IPY_MODEL_d8b2a0a4e2064e609aa66c98c53f7da0",
        "value"
       ]
      }
     },
     "c55b5a109e6b46609c0cc4f9157bad1d": {
      "model_module": "@jupyter-widgets/base",
      "model_module_version": "1.1.0",
      "model_name": "LayoutModel",
      "state": {}
     },
     "c5de5cf1024f49789f0cbdde85d502d4": {
      "model_module": "@jupyter-widgets/base",
      "model_module_version": "1.1.0",
      "model_name": "LayoutModel",
      "state": {
       "width": "99%"
      }
     },
     "c62909d3c64847a1af9adeeefb7cbed7": {
      "model_module": "@jupyter-widgets/base",
      "model_module_version": "1.1.0",
      "model_name": "LayoutModel",
      "state": {}
     },
     "c871fe656ab5499c816b06f788e1e886": {
      "model_module": "@jupyter-widgets/base",
      "model_module_version": "1.1.0",
      "model_name": "LayoutModel",
      "state": {}
     },
     "c9e0075e863c492f9e2032b2caac1f0e": {
      "model_module": "@jupyter-widgets/base",
      "model_module_version": "1.1.0",
      "model_name": "LayoutModel",
      "state": {}
     },
     "d34de7ab70c643818bc9e288035e7a28": {
      "model_module": "@jupyter-widgets/controls",
      "model_module_version": "1.4.0",
      "model_name": "ButtonStyleModel",
      "state": {}
     },
     "d387c664eac34632bab12eb633c936d4": {
      "model_module": "@jupyter-widgets/controls",
      "model_module_version": "1.4.0",
      "model_name": "LinkModel",
      "state": {
       "source": [
        "IPY_MODEL_3eb04784e0cd47e2bc82790ebdf9c5af",
        "value"
       ],
       "target": [
        "IPY_MODEL_ed699d6bc2b44067a3639874b65ecd21",
        "value"
       ]
      }
     },
     "d8b2a0a4e2064e609aa66c98c53f7da0": {
      "model_module": "@jupyter-widgets/controls",
      "model_module_version": "1.4.0",
      "model_name": "IntSliderModel",
      "state": {
       "layout": "IPY_MODEL_3079cb9594104ababf39d9be7ccf68da",
       "max": 99,
       "readout": false,
       "style": "IPY_MODEL_4f5ba8f55c8544f5aac0147eafa15b7f",
       "value": 55
      }
     },
     "d9f7905733e74ad3b3a94a19e2f382cb": {
      "model_module": "@jupyter-widgets/controls",
      "model_module_version": "1.4.0",
      "model_name": "ButtonModel",
      "state": {
       "description": "Last",
       "layout": "IPY_MODEL_f7b004214d9843adb7732a389411cb00",
       "style": "IPY_MODEL_fc6aa1d59dd741518be005745f3ed272"
      }
     },
     "dd6ddbbd5f0341d2b38a13bc3d9afcd3": {
      "model_module": "@jupyter-widgets/controls",
      "model_module_version": "1.4.0",
      "model_name": "IntSliderModel",
      "state": {
       "layout": "IPY_MODEL_61a46a13f85148acb34ac4a0faa2553e",
       "max": 199,
       "readout": false,
       "style": "IPY_MODEL_72e399b33b3d444d856500a71b7cea56",
       "value": 8
      }
     },
     "e076cc176df84418999289803cba4bfc": {
      "model_module": "@jupyter-widgets/controls",
      "model_module_version": "1.4.0",
      "model_name": "ButtonModel",
      "state": {
       "description": "Last",
       "layout": "IPY_MODEL_3b30e1511e6b4e9fb09118363043d615",
       "style": "IPY_MODEL_f0be7aa4366e4c8ea4c6d135820fed26"
      }
     },
     "e23988166f8e4cd38553e23310153bed": {
      "model_module": "@jupyter-widgets/base",
      "model_module_version": "1.1.0",
      "model_name": "LayoutModel",
      "state": {}
     },
     "e296284325cc466d97bf6fabda999ce2": {
      "model_module": "@jupyter-widgets/controls",
      "model_module_version": "1.4.0",
      "model_name": "ButtonModel",
      "state": {
       "description": "Random",
       "layout": "IPY_MODEL_ac495540d3154089a8b3519137c01266",
       "style": "IPY_MODEL_4833c6c0e9154cd78de1e32c90311867"
      }
     },
     "e3e69848a41c49d09c74e0f4462cdff7": {
      "model_module": "@jupyter-widgets/controls",
      "model_module_version": "1.4.0",
      "model_name": "LinkModel",
      "state": {
       "source": [
        "IPY_MODEL_06a1ecf1036d47569e923387218ed05b",
        "value"
       ],
       "target": [
        "IPY_MODEL_dd6ddbbd5f0341d2b38a13bc3d9afcd3",
        "value"
       ]
      }
     },
     "e8ba80ff25cf4fe390b41c2de22f619b": {
      "model_module": "@jupyter-widgets/controls",
      "model_module_version": "1.4.0",
      "model_name": "ButtonModel",
      "state": {
       "description": "Last",
       "layout": "IPY_MODEL_4b8c57b0599e498bbf12c32c455e5f2c",
       "style": "IPY_MODEL_a1b686a4a42b4caa87f60e26d3801d77"
      }
     },
     "eb791252c2f349ec8c13bd32f3e341fb": {
      "model_module": "@jupyter-widgets/controls",
      "model_module_version": "1.4.0",
      "model_name": "ButtonStyleModel",
      "state": {}
     },
     "ebf49735ebbe4d219ce2844aa4cc40ff": {
      "model_module": "@jupyter-widgets/controls",
      "model_module_version": "1.4.0",
      "model_name": "ButtonModel",
      "state": {
       "description": "Next",
       "layout": "IPY_MODEL_29c051871f634a4da47deb0192d077bd",
       "style": "IPY_MODEL_175f4700261044c09b51b5927455fb01"
      }
     },
     "ed699d6bc2b44067a3639874b65ecd21": {
      "model_module": "@jupyter-widgets/controls",
      "model_module_version": "1.4.0",
      "model_name": "IntSliderModel",
      "state": {
       "layout": "IPY_MODEL_44e4299bf61d436ebbf303d9fc707fe4",
       "max": 199,
       "readout": false,
       "style": "IPY_MODEL_91cb06a85dd84a0daaad982fc21a88ee",
       "value": 25
      }
     },
     "eea78d2346e440a8ad8062d2ada086b1": {
      "model_module": "@jupyter-widgets/base",
      "model_module_version": "1.1.0",
      "model_name": "LayoutModel",
      "state": {}
     },
     "f0be7aa4366e4c8ea4c6d135820fed26": {
      "model_module": "@jupyter-widgets/controls",
      "model_module_version": "1.4.0",
      "model_name": "ButtonStyleModel",
      "state": {}
     },
     "f1449066604f4a759be7ba0071eab184": {
      "model_module": "@jupyter-widgets/base",
      "model_module_version": "1.1.0",
      "model_name": "LayoutModel",
      "state": {}
     },
     "f5b156d415d743458e0f73d1f1834fa1": {
      "model_module": "@jupyter-widgets/base",
      "model_module_version": "1.1.0",
      "model_name": "LayoutModel",
      "state": {}
     },
     "f5b3aa506e3a4120a1060fa1aaebba68": {
      "model_module": "@jupyter-widgets/controls",
      "model_module_version": "1.4.0",
      "model_name": "BoundedIntTextModel",
      "state": {
       "layout": "IPY_MODEL_2e3a9b5772f145b68b5ddd2632d912eb",
       "max": 99,
       "style": "IPY_MODEL_4126fdcabf384de89c62d9916414ad8b",
       "value": 55
      }
     },
     "f7b004214d9843adb7732a389411cb00": {
      "model_module": "@jupyter-widgets/base",
      "model_module_version": "1.1.0",
      "model_name": "LayoutModel",
      "state": {}
     },
     "fa143ca9c966455cb16d4ac21282d0cb": {
      "model_module": "@jupyter-widgets/base",
      "model_module_version": "1.1.0",
      "model_name": "LayoutModel",
      "state": {}
     },
     "fb06b556aa494cef93d873b40c0b7d77": {
      "model_module": "@jupyter-widgets/controls",
      "model_module_version": "1.4.0",
      "model_name": "SliderStyleModel",
      "state": {
       "description_width": ""
      }
     },
     "fc6aa1d59dd741518be005745f3ed272": {
      "model_module": "@jupyter-widgets/controls",
      "model_module_version": "1.4.0",
      "model_name": "ButtonStyleModel",
      "state": {}
     },
     "fd9cec0d20514c3394004234723659c9": {
      "model_module": "@jupyter-widgets/base",
      "model_module_version": "1.1.0",
      "model_name": "LayoutModel",
      "state": {}
     }
    },
    "version_major": 2,
    "version_minor": 0
   }
  }
 },
 "nbformat": 4,
 "nbformat_minor": 2
}
